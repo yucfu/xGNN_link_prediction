{
 "cells": [
  {
   "cell_type": "code",
   "execution_count": 1,
   "id": "bb999829-979d-40b9-a487-3408741aee71",
   "metadata": {},
   "source": [
    "import sys\n",
    "sys.path.append('../src/')"
   ],
   "outputs": []
  },
  {
   "cell_type": "code",
   "execution_count": 2,
   "id": "44edcd88-0b74-42b7-8d5a-fdae1fff09a2",
   "metadata": {},
   "source": [
    "import os.path as osp\n",
    "\n",
    "import torch\n",
    "import torch.nn.functional as F\n",
    "from sklearn.metrics import roc_auc_score\n",
    "\n",
    "import torch_geometric.transforms as T\n",
    "from torch_geometric.datasets import Planetoid\n",
    "\n",
    "from torch_geometric import seed_everything\n",
    "\n",
    "import numpy as np\n",
    "import pandas as pd\n",
    "\n",
    "import networkx as nx\n",
    "from torch_geometric.utils.convert import from_networkx\n",
    "\n",
    "from tqdm import tqdm\n",
    "\n",
    "from models import LinkGIN, LinkGCN, LinkSAGE, DeepVGAE\n",
    "from decoders import InnerProductDecoder, CosineDecoder\n",
    "from explainers import gnnexplainer, ig, deconvolution, backprop\n",
    "from metrics import deletion_curve_edges, deletion_curve_features, linear_area_score\n",
    "from utils import ws_graph_model, sbm_graph_model, get_computation_graph_as_nx\n",
    "from utils import get_explanation\n",
    "from plotting import visualize_explanation\n",
    "\n",
    "from torch_geometric.utils import k_hop_subgraph\n",
    "\n",
    "from matplotlib import pyplot as plt\n",
    "import seaborn as sb"
   ],
   "outputs": []
  },
  {
   "cell_type": "code",
   "execution_count": 3,
   "id": "f5364f40-5956-4571-a13d-2b1eb2c11de9",
   "metadata": {},
   "source": [
    "sb.set_theme(context='paper', style='white', font_scale=1.5, palette=None)"
   ],
   "outputs": []
  },
  {
   "cell_type": "code",
   "execution_count": 4,
   "id": "fb51500e-85b5-4e79-ac4c-fab988111311",
   "metadata": {},
   "source": [
    "device = torch.device('cuda' if torch.cuda.is_available() else 'cpu')\n",
    "\n",
    "graph_model = 'cora'\n",
    "model_name = 'gin'\n",
    "explainer = 'ig'\n",
    "decoder = 'cosine'\n",
    "seed = 0\n",
    "\n",
    "if model_name == 'vgae':\n",
    "    sigmoid = False\n",
    "else:\n",
    "    sigmoid = True\n",
    "\n",
    "if model_name == 'vgae':\n",
    "    return_type = 'probs'\n",
    "    from train_test import train_vgae as train\n",
    "    from train_test import test_vgae as test\n",
    "else:\n",
    "    return_type = 'raw'\n",
    "    from train_test import train\n",
    "    from train_test import test\n",
    "    \n",
    "print(seed, graph_model, model_name, explainer, decoder, return_type)  "
   ],
   "outputs": []
  },
  {
   "cell_type": "code",
   "execution_count": 5,
   "id": "c27213fb-a36f-4d76-bcb8-475fba2bbd90",
   "metadata": {},
   "source": [
    "seed_everything(seed)\n",
    "\n",
    "\n",
    "transform = T.Compose([\n",
    "    T.NormalizeFeatures(),\n",
    "    T.ToDevice(device),\n",
    "    T.RandomLinkSplit(num_val=0.1, num_test=0.1, is_undirected=True),\n",
    "])\n",
    "\n",
    "dataset = graph_model.capitalize()\n",
    "path = osp.join('../', 'data', 'Planetoid')\n",
    "dataset = Planetoid(path, dataset, transform=transform)\n",
    "train_data, val_data, test_data = dataset[0]"
   ],
   "outputs": []
  },
  {
   "cell_type": "code",
   "execution_count": 6,
   "id": "7666ceb3-07d4-43da-8f79-7a5083a023cf",
   "metadata": {},
   "source": [
    "seed_everything(seed)\n",
    "if model_name == 'gin':\n",
    "    model = LinkGIN(train_data.num_features, 128, 64, sim=decoder).to(device)\n",
    "    tot_epochs = 61\n",
    "if model_name == 'gcn':\n",
    "    model = LinkGCN(train_data.num_features, 128, 64, sim=decoder).to(device)\n",
    "    tot_epochs = 201\n",
    "if model_name == 'sage':\n",
    "    model = LinkSAGE(train_data.num_features, 128, 64, sim=decoder).to(device)\n",
    "    tot_epochs = 101\n",
    "if model_name == 'vgae':\n",
    "    if decoder == 'inner':\n",
    "        model = DeepVGAE(train_data.num_features, 128, 64, InnerProductDecoder()).to(device)\n",
    "    if decoder == 'cosine':\n",
    "        model = DeepVGAE(train_data.num_features, 128, 64, CosineDecoder()).to(device)\n",
    "    tot_epochs = 2001\n",
    "\n",
    "optimizer = torch.optim.Adam(params=model.parameters(), lr=0.001)\n",
    "\n",
    "seed_everything(0)\n",
    "for epoch in range(1, tot_epochs):\n",
    "    loss = train(model, optimizer, train_data)\n",
    "    if epoch % 20 == 0:\n",
    "        if model_name == 'vgae':\n",
    "            val_auc = test(model, train_data, val_data)\n",
    "            test_auc = test(model, train_data, test_data)\n",
    "        else:\n",
    "            val_auc = test(model, val_data)\n",
    "            test_auc = test(model, test_data)\n",
    "        print(f'Epoch: {epoch:02d}, Loss: {loss:.4f}, Val: {val_auc:.4f}, '\n",
    "            f'Test: {test_auc:.4f}')"
   ],
   "outputs": []
  },
  {
   "cell_type": "code",
   "execution_count": 7,
   "id": "088f58b0-307b-4717-8410-812e60ec28dc",
   "metadata": {},
   "source": [
    "i = 1\n",
    "edge_label_index = val_data.edge_label_index[:, [i]]\n",
    "source_node, target_node = edge_label_index.numpy()[:, 0]\n",
    "\n",
    "target = val_data.edge_label[i].item()\n",
    "if sigmoid:\n",
    "    pred = model(train_data.x, train_data.edge_index, edge_label_index).sigmoid().item()\n",
    "else:\n",
    "    pred = model(train_data.x, train_data.edge_index, edge_label_index).item()\n",
    "\n",
    "if target==1 and int(pred>0.5)==target:\n",
    "    source_node, target_node, pred, target\n",
    "\n",
    "    explanation, edge_mask, node_mask = get_explanation(\n",
    "        explainer, model, train_data, edge_label_index, return_type=return_type\n",
    "    )\n",
    "\n",
    "    computation_graph = get_computation_graph_as_nx(source_node, target_node, train_data)"
   ],
   "outputs": []
  },
  {
   "cell_type": "code",
   "execution_count": 8,
   "id": "c9dcbe02-2b8f-4b74-b938-0344481a7f8a",
   "metadata": {},
   "source": [
    "fig = visualize_explanation(computation_graph, train_data.edge_index, edge_mask, source_node, target_node)\n",
    "plt.tight_layout()\n",
    "plt.savefig(f\"../paper/figs/{graph_model}_{model_name}_{explainer}_{decoder}_explanation_example.png\")"
   ],
   "outputs": []
  },
  {
   "cell_type": "code",
   "execution_count": 9,
   "id": "4bffb79e-d9fb-4726-a76b-1f2aececd5aa",
   "metadata": {},
   "source": [
    "subset, sub_edge_index, sub_mapping, sub_edge_mask = k_hop_subgraph(\n",
    "        [source_node, target_node], \n",
    "        2, \n",
    "        train_data.edge_index)\n",
    "\n",
    "#  Edges\n",
    "deletion_curve = deletion_curve_edges(\n",
    "    model,\n",
    "    train_data.x,\n",
    "    sub_edge_index,\n",
    "    edge_label_index,\n",
    "    edge_mask[sub_edge_mask],\n",
    "    sigmoid=sigmoid\n",
    ")\n",
    "\n",
    "#  Edges random\n",
    "deletion_curve_rnd = deletion_curve_edges(\n",
    "    model,\n",
    "    train_data.x,\n",
    "    sub_edge_index,\n",
    "    edge_label_index,\n",
    "    edge_mask[sub_edge_mask],\n",
    "    sigmoid=sigmoid,\n",
    "    sorting='random'\n",
    ")"
   ],
   "outputs": []
  },
  {
   "cell_type": "code",
   "execution_count": 10,
   "id": "5000df66-0025-4885-9e5e-2aebccae5d04",
   "metadata": {},
   "source": [
    "edge_score = linear_area_score(deletion_curve)"
   ],
   "outputs": []
  },
  {
   "cell_type": "code",
   "execution_count": 11,
   "id": "a364e16b-27ac-4dcf-89af-5071054d3db2",
   "metadata": {},
   "source": [
    "edge_score"
   ],
   "outputs": []
  },
  {
   "cell_type": "code",
   "execution_count": 12,
   "id": "dda1fb81-fd57-4128-90c4-2b99524cfaa1",
   "metadata": {},
   "source": [
    "fig, ax = plt.subplots(figsize=(6, 4))\n",
    "plt.plot(deletion_curve_rnd.T, alpha=.3, c='grey', lw=1)\n",
    "plt.plot(deletion_curve_rnd.mean(axis=0), c='black', lw=2)\n",
    "plt.plot(deletion_curve, c='r', lw=2)\n",
    "ax.set_yticks([0.5, 1])\n",
    "sb.despine()\n",
    "plt.tight_layout()"
   ],
   "outputs": []
  },
  {
   "cell_type": "code",
   "execution_count": 13,
   "id": "57dd81c7-1398-4618-8a9c-caf437175dab",
   "metadata": {},
   "source": [
    "#  Features / Nodes\n",
    "feature_mean_mask = node_mask.mean(axis=0)\n",
    "node_mean_mask = node_mask.mean(axis=1)\n",
    "feature_base_values = train_data.x.mean(dim=0)\n",
    "\n",
    "feature_deletion_curve = deletion_curve_features(\n",
    "    model,\n",
    "    train_data.x,\n",
    "    sub_edge_index,\n",
    "    edge_label_index,\n",
    "    feature_mean_mask,\n",
    "    feature_base_values,\n",
    "    sigmoid=sigmoid\n",
    ")\n",
    "\n",
    "#  Features / Nodes\n",
    "feature_mean_mask = node_mask.mean(axis=0)\n",
    "node_mean_mask = node_mask.mean(axis=1)\n",
    "feature_base_values = train_data.x.mean(dim=0)\n",
    "\n",
    "feature_deletion_curve_rnd = deletion_curve_features(\n",
    "    model,\n",
    "    train_data.x,\n",
    "    sub_edge_index,\n",
    "    edge_label_index,\n",
    "    feature_mean_mask,\n",
    "    feature_base_values,\n",
    "    sigmoid=sigmoid, \n",
    "    sorting='random'\n",
    ")"
   ],
   "outputs": []
  },
  {
   "cell_type": "code",
   "execution_count": 14,
   "id": "85aad174-f550-41ef-8d92-cbc05f358b71",
   "metadata": {},
   "source": [
    "feature_score = linear_area_score(feature_deletion_curve)"
   ],
   "outputs": []
  },
  {
   "cell_type": "code",
   "execution_count": 15,
   "id": "06e42cef-33ee-4d40-b8cc-9ece3f46cb6b",
   "metadata": {},
   "source": [
    "feature_score"
   ],
   "outputs": []
  },
  {
   "cell_type": "code",
   "execution_count": 16,
   "id": "a6bc5d84-2944-408e-818d-699255948f4c",
   "metadata": {},
   "source": [
    "fig, ax = plt.subplots(figsize=(6, 4))\n",
    "plt.plot(feature_deletion_curve_rnd.T, alpha=.3, c='grey', lw=1)\n",
    "plt.plot(feature_deletion_curve_rnd.mean(axis=0), c='black', lw=2)\n",
    "plt.plot(feature_deletion_curve, c='r', lw=2)\n",
    "ax.set_yticks([0.5, 1])\n",
    "sb.despine()\n",
    "plt.tight_layout()"
   ],
   "outputs": []
  },
  {
   "cell_type": "code",
   "execution_count": null,
   "id": "69edfd4f-6a0b-4f12-b694-6643fc22a327",
   "metadata": {},
   "source": [],
   "outputs": []
  }
 ],
 "metadata": {
  "kernelspec": {
   "display_name": "linkpred",
   "language": "python",
   "name": "linkpred"
  },
  "language_info": {
   "codemirror_mode": {
    "name": "ipython",
    "version": 3
   },
   "file_extension": ".py",
   "mimetype": "text/x-python",
   "name": "python",
   "nbconvert_exporter": "python",
   "pygments_lexer": "ipython3",
   "version": "3.10.6"
  }
 },
 "nbformat": 4,
 "nbformat_minor": 5
}
