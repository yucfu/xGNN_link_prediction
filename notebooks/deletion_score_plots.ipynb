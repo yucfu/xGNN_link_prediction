{
 "cells": [
  {
   "cell_type": "code",
   "execution_count": 1,
   "id": "ae0992a8-ab4d-4cb7-94b5-4d0ed83da80f",
   "metadata": {},
   "source": [
    "import sys\n",
    "sys.path.append('../src/')"
   ],
   "outputs": []
  },
  {
   "cell_type": "code",
   "execution_count": 2,
   "id": "5ca46e9c-fe30-4e0b-a4d2-eb37e5d16ee1",
   "metadata": {},
   "source": [
    "import os.path as osp\n",
    "import os\n",
    "\n",
    "import pandas as pd\n",
    "import numpy as np\n",
    "\n",
    "import seaborn as sb\n",
    "from matplotlib import pyplot as plt\n",
    "\n",
    "from metrics import linear_area_score as area_score\n",
    "\n",
    "from utils import normalize_bounds, load_curves"
   ],
   "outputs": []
  },
  {
   "cell_type": "code",
   "execution_count": 3,
   "id": "f06efca5-025f-4085-8788-e9958db31ed5",
   "metadata": {},
   "source": [
    "sb.set_theme(context='paper', style='white', font_scale=1.5, palette=None)"
   ],
   "outputs": []
  },
  {
   "cell_type": "code",
   "execution_count": 4,
   "id": "93f36cd8-458f-462e-a8cf-e0ded79275e4",
   "metadata": {},
   "source": [
    "graph_model = 'cora'"
   ],
   "outputs": []
  },
  {
   "cell_type": "code",
   "execution_count": 5,
   "id": "38f747ad-8a0d-4484-805b-8efc5494bbd0",
   "metadata": {},
   "source": [
    "explainer = 'ig'\n",
    "decoder = 'inner'\n",
    "for model_name in ['vgae', 'gin', 'sage', 'gcn']:\n",
    "    print(model_name, len(os.listdir(f\"../outputs/{graph_model}/{model_name}/{explainer}/curves/\")))"
   ],
   "outputs": []
  },
  {
   "cell_type": "code",
   "execution_count": 7,
   "id": "85ee99e2-de50-423e-8db2-c6ab39cd972b",
   "metadata": {},
   "source": [
    "tot_range = 526"
   ],
   "outputs": []
  },
  {
   "cell_type": "code",
   "execution_count": 8,
   "id": "c3a8c3ad-015f-443e-a4ca-4638338eb59f",
   "metadata": {},
   "source": [
    "max_sparsity = 100"
   ],
   "outputs": []
  },
  {
   "cell_type": "markdown",
   "id": "2330e31e-a381-429b-8346-68da19d4b96c",
   "metadata": {},
   "source": [
    "# Deletion"
   ]
  },
  {
   "cell_type": "code",
   "execution_count": 9,
   "id": "12d043f2-a5f4-4345-b9a1-f4d164a443e6",
   "metadata": {},
   "source": [
    "model_name = 'vgae'\n",
    "\n",
    "edge_deletions = load_curves(graph_model, model_name, explainer, 'edge_deletion', tot_range, target=-1, seed='0')\n",
    "vgae_edge_scores = np.array([area_score(d) for d in edge_deletions])\n",
    "\n",
    "feat_deletions = load_curves(graph_model, model_name, explainer, 'feature_deletion', tot_range, target=-1, seed='0')\n",
    "vgae_feat_scores = np.array([area_score(d) for d in feat_deletions])"
   ],
   "outputs": []
  },
  {
   "cell_type": "code",
   "execution_count": 10,
   "id": "73933388-805b-4432-8b2c-b1df5c4a5611",
   "metadata": {},
   "source": [
    "model_name = 'gin'\n",
    "\n",
    "edge_deletions = load_curves(graph_model, model_name, explainer, 'edge_deletion', tot_range, target=-1, seed='0')\n",
    "gin_edge_scores = np.array([area_score(d) for d in edge_deletions])\n",
    "\n",
    "feat_deletions = load_curves(graph_model, model_name, explainer, 'feature_deletion', tot_range, target=-1, seed='0')\n",
    "gin_feat_scores = np.array([area_score(d) for d in feat_deletions])"
   ],
   "outputs": []
  },
  {
   "cell_type": "code",
   "execution_count": 11,
   "id": "0ba10c0c-2395-4f99-abaa-0c471a01dc46",
   "metadata": {},
   "source": [
    "model_name = 'gcn'\n",
    "\n",
    "edge_deletions = load_curves(graph_model, model_name, explainer, 'edge_deletion', tot_range, target=-1, seed='0')\n",
    "gcn_edge_scores = np.array([area_score(d) for d in edge_deletions])\n",
    "\n",
    "feat_deletions = load_curves(graph_model, model_name, explainer, 'feature_deletion', tot_range, target=-1, seed='0')\n",
    "gcn_feat_scores = np.array([area_score(d) for d in feat_deletions])"
   ],
   "outputs": []
  },
  {
   "cell_type": "code",
   "execution_count": 12,
   "id": "e7053e77-d2bc-4701-8a11-e608b944c86c",
   "metadata": {},
   "source": [
    "model_name = 'sage'\n",
    "\n",
    "edge_deletions = load_curves(graph_model, model_name, explainer, 'edge_deletion', tot_range, target=-1, seed='0')\n",
    "sage_edge_scores = np.array([area_score(d) for d in edge_deletions])\n",
    "\n",
    "feat_deletions = load_curves(graph_model, model_name, explainer, 'feature_deletion', tot_range, target=-1, seed='0')\n",
    "sage_feat_scores = np.array([area_score(d) for d in feat_deletions])"
   ],
   "outputs": []
  },
  {
   "cell_type": "code",
   "execution_count": 13,
   "id": "7f0d6142-c815-469d-8dbc-ab67667160de",
   "metadata": {},
   "source": [
    "tot_range = 280"
   ],
   "outputs": []
  },
  {
   "cell_type": "markdown",
   "id": "b13f3da9-3acd-4309-9867-85d14610e1ce",
   "metadata": {},
   "source": [
    "# Plots"
   ]
  },
  {
   "cell_type": "code",
   "execution_count": 14,
   "id": "8aed4ed0-b8d9-46cc-82f8-b08d60b51950",
   "metadata": {},
   "source": [
    "df = pd.DataFrame(vgae_edge_scores[:tot_range], columns=['vgae_edge'])\n",
    "df['gin_edge'] = gin_edge_scores[:tot_range]\n",
    "df['sage_edge'] = sage_edge_scores[:tot_range]\n",
    "df['GCN_edge'] = gcn_edge_scores[:tot_range]\n",
    "df['vgae_feat'] = vgae_feat_scores[:tot_range]\n",
    "df['gin_feat'] = gin_feat_scores[:tot_range]\n",
    "df['sage_feat'] = sage_feat_scores[:tot_range]\n",
    "df['gcn_feat'] = gcn_feat_scores[:tot_range]\n",
    "\n",
    "df.columns = ['VGAE Edges', 'GIN Edges', 'SAGE Edges', 'GCN Edges', 'VGAE Features', 'GIN Features' , 'SAGE Features' , 'GCN Features']  #"
   ],
   "outputs": []
  },
  {
   "cell_type": "code",
   "execution_count": 21,
   "id": "196da801-2504-4cfa-a40c-032e37f726a2",
   "metadata": {},
   "source": [
    "fig, ax = plt.subplots(figsize=(12, 4))\n",
    "sb.boxplot(df)\n",
    "ax.axhline(0., c='black', ls='--')\n",
    "ax.set_ylim([-1, 1])\n",
    "ax.set_yticks([-1, 0, 1])\n",
    "sb.despine()\n",
    "plt.tight_layout()\n",
    "plt.savefig(f'../paper/figs/cora_area_score_{explainer}.png')"
   ],
   "outputs": []
  },
  {
   "cell_type": "code",
   "execution_count": 20,
   "id": "7157c371-d24b-44a4-956c-131a51a0fad6",
   "metadata": {},
   "source": [
    "fig, ax = plt.subplots(figsize=(12, 4))\n",
    "sb.violinplot(df)\n",
    "ax.axhline(0., c='black', ls='--')\n",
    "ax.set_ylim([-1, 1])\n",
    "ax.set_yticks([-1, 0, 1])\n",
    "sb.despine()\n",
    "plt.tight_layout()\n",
    "plt.savefig(f'../paper/figs/cora_area_score_{explainer}.png')"
   ],
   "outputs": []
  },
  {
   "cell_type": "markdown",
   "id": "8a85f4a9-d6fe-4ed4-bbd6-1391015c7d90",
   "metadata": {},
   "source": [
    "# Random"
   ]
  },
  {
   "cell_type": "code",
   "execution_count": 39,
   "id": "efbd94cf-1fe3-47e1-8741-835ca4603fa9",
   "metadata": {},
   "source": [
    "model_name = 'gcn'\n",
    "\n",
    "edge_deletions = load_curves(graph_model, model_name, 'random', 'edge_deletion', tot_range, target=-1, seed='0')\n",
    "gcn_edge_scores_rnd = np.array([area_score(d.mean(axis=0)) for d in edge_deletions])\n",
    "\n",
    "feat_deletions = load_curves(graph_model, model_name, 'random', 'feature_deletion', tot_range, target=-1, seed='0')\n",
    "gcn_feat_score_rnds = np.array([area_score(d.mean(axis=0)) for d in feat_deletions])"
   ],
   "outputs": []
  },
  {
   "cell_type": "code",
   "execution_count": 41,
   "id": "4133b113-00d0-4e3e-9242-d0be69e10410",
   "metadata": {},
   "source": [
    "df_rnd = pd.DataFrame(gcn_edge_scores_rnd[:11], columns=['gcn_edge'])\n",
    "# df['gin_edge'] = gin_edge_scores[:tot_range]\n",
    "# df['sage_edge'] = sage_edge_scores[:tot_range]\n",
    "# df['gcn_edge'] = gcn_edge_scores[:tot_range]\n",
    "# df['vgae_feat'] = vgae_feat_scores[:tot_range]\n",
    "# df['gin_feat'] = gin_feat_scores[:tot_range]\n",
    "# df['sage_feat'] = sage_feat_scores[:tot_range]\n",
    "df_rnd['gcn_feat'] = gcn_feat_score_rnds[:11]\n",
    "\n",
    "# df.columns = ['VGAE Edges', 'GIN Edges', 'SAGE Edges', 'GCN Edges', 'VGAE Features', 'GIN Features' , 'SAGE Features' , 'GCN Features']  #"
   ],
   "outputs": []
  },
  {
   "cell_type": "code",
   "execution_count": 42,
   "id": "262caeef-193f-40b1-8f74-f2a94f9e0c0e",
   "metadata": {},
   "source": [
    "fig, ax = plt.subplots(figsize=(6, 4))\n",
    "sb.boxplot(df_rnd)\n",
    "ax.axhline(0., c='black', ls='--')\n",
    "ax.set_ylim([-1, 1])\n",
    "ax.set_yticks([-1, 0, 1])\n",
    "sb.despine()\n",
    "plt.tight_layout()\n",
    "# plt.savefig(f'../paper/figs/cora_area_score_{explainer}.png')"
   ],
   "outputs": []
  },
  {
   "cell_type": "code",
   "execution_count": null,
   "id": "ea1deaf6-3ffe-4082-b424-736c2e79b985",
   "metadata": {},
   "source": [],
   "outputs": []
  }
 ],
 "metadata": {
  "kernelspec": {
   "display_name": "Python 3 (ipykernel)",
   "language": "python",
   "name": "python3"
  },
  "language_info": {
   "codemirror_mode": {
    "name": "ipython",
    "version": 3
   },
   "file_extension": ".py",
   "mimetype": "text/x-python",
   "name": "python",
   "nbconvert_exporter": "python",
   "pygments_lexer": "ipython3",
   "version": "3.10.6"
  }
 },
 "nbformat": 4,
 "nbformat_minor": 5
}
