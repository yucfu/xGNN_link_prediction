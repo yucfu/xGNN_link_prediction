{
 "cells": [
  {
   "cell_type": "code",
   "execution_count": 36,
   "id": "c5bfb316-4e53-4cd1-914d-a678d07ccab5",
   "metadata": {},
   "source": [
    "import sys\n",
    "sys.path.append('../src/')"
   ],
   "outputs": []
  },
  {
   "cell_type": "code",
   "execution_count": 37,
   "id": "cac93114-b835-4327-8935-6132a4c375a2",
   "metadata": {},
   "source": [
    "import pandas as pd\n",
    "import numpy as np\n",
    "\n",
    "import math\n",
    "import matplotlib.pyplot as plt\n",
    "import seaborn as sns\n",
    "\n",
    "import os.path as osp\n",
    "import os"
   ],
   "outputs": []
  },
  {
   "cell_type": "code",
   "execution_count": null,
   "id": "4e7abd88",
   "metadata": {},
   "source": [],
   "outputs": []
  },
  {
   "cell_type": "code",
   "execution_count": 65,
   "id": "6cbcb198",
   "metadata": {},
   "source": [
    "pwd"
   ],
   "outputs": []
  },
  {
   "cell_type": "code",
   "execution_count": 66,
   "id": "535652ff",
   "metadata": {},
   "source": [
    "data = pd.read_csv('/Users/fuyuchuan/downloads/res_0416.csv')\n",
    "data"
   ],
   "outputs": []
  },
  {
   "cell_type": "code",
   "execution_count": null,
   "id": "2d715030",
   "metadata": {},
   "source": [
    "plt.plot()"
   ],
   "outputs": []
  },
  {
   "cell_type": "code",
   "execution_count": 71,
   "id": "363fe677",
   "metadata": {},
   "source": [
    "list(data.loc[0, :])"
   ],
   "outputs": []
  },
  {
   "cell_type": "code",
   "execution_count": null,
   "id": "01e0eebd",
   "metadata": {},
   "source": [],
   "outputs": []
  },
  {
   "cell_type": "code",
   "execution_count": null,
   "id": "ff9146b3",
   "metadata": {},
   "source": [],
   "outputs": []
  },
  {
   "cell_type": "code",
   "execution_count": 46,
   "id": "4a00d197",
   "metadata": {},
   "source": [
    "file_path = '/Users/fuyuchuan/thesis/code/eval_lp_xai/outputs/cora/gcn/zorro_baseline/metric_list.npy'\n",
    "res = np.load(file_path, allow_pickle=True)"
   ],
   "outputs": []
  },
  {
   "cell_type": "code",
   "execution_count": 62,
   "id": "398dd62e",
   "metadata": {},
   "source": [
    "type(res[20]['node_sparsity_original'])"
   ],
   "outputs": []
  },
  {
   "cell_type": "code",
   "execution_count": 68,
   "id": "ab5e45bb",
   "metadata": {},
   "source": [
    "\n"
   ],
   "outputs": []
  },
  {
   "cell_type": "markdown",
   "id": "7cb92623-f860-4a5f-8d1f-b89dfc7e0fb2",
   "metadata": {},
   "source": [
    "# Without Ground Truth"
   ]
  },
  {
   "cell_type": "markdown",
   "id": "ee5a9090-3d02-4b7c-a981-afa224e66747",
   "metadata": {},
   "source": [
    "## 1. Fidelity, feature and node sparsity"
   ]
  },
  {
   "cell_type": "code",
   "execution_count": 84,
   "id": "00ab9f4f-a1b7-4311-b580-e14d6d89426a",
   "metadata": {},
   "source": [
    "def calculate_mean_std(metric):\n",
    "    return np.round(np.mean(metric), 4), np.round(np.std(metric), 4)\n",
    "\n",
    "def load_metrics(dataset, model, explainer):\n",
    "    file_path = '/Users/fuyuchuan/thesis/code/eval_lp_xai/outputs/{}/{}/{}/metric_list.npy'.format(dataset, model, explainer)\n",
    "    res = np.load(file_path, allow_pickle=True)\n",
    "    \n",
    "    # fidelity\n",
    "    fidelity = np.array([r['fidelity'] for r in res])\n",
    "    fidelity_change_in_pred_prob = np.array([r['fidelity_change_in_pred_prob'] for r in res])\n",
    "    fid_plus_label = np.array([r['fidelity_original']['fid_plus_label'] for r in res])\n",
    "    fid_plus_prob = np.array([r['fidelity_original']['fid_plus_prob'] for r in res])\n",
    "    fid_minus_label = np.array([r['fidelity_original']['fid_minus_label'] for r in res])\n",
    "    fid_minus_prob = np.array([r['fidelity_original']['fid_minus_prob'] for r in res])\n",
    "\n",
    "    # sparsity\n",
    "    feature_sparsity = np.array([r['feature_sparsity'] for r in res])\n",
    "    edge_sparsity = np.array([r['edge_sparsity'] for r in res])\n",
    "    node_sparsity_converted = np.array([r['node_sparsity_converted'] for r in res])\n",
    "    node_sparsity_original = np.array([r['node_sparsity_original'] for r in res])\n",
    "\n",
    "    # # Remove nan elements and the fidelity and feature sparsity corresponding to nan values in node sparsity\n",
    "    # fidelity_list = fidelity_list[~np.isnan(node_sparsity_list)]\n",
    "    # # validity_list = validity_list[~np.isnan(node_sparsity_list)]\n",
    "    # feature_sparsity_list = feature_sparsity_list[~np.isnan(node_sparsity_list)]\n",
    "    # node_sparsity_list = node_sparsity_list[~np.isnan(node_sparsity_list)]\n",
    "\n",
    "    print('fidelity: ', calculate_mean_std(fidelity))\n",
    "    print('fidelity_change_in_pred_prob: ', calculate_mean_std(fidelity_change_in_pred_prob))\n",
    "    print('fid_plus_label: ', calculate_mean_std(fid_plus_label))\n",
    "    print('fid_plus_prob: ', calculate_mean_std(fid_plus_prob))\n",
    "    print('fid_minus_label: ', calculate_mean_std(fid_minus_label))\n",
    "    print('fid_minus_prob: ', calculate_mean_std(fid_minus_prob))\n",
    "    \n",
    "    \n",
    "    if np.isnan([r['feature_sparsity'] for r in res]).any():\n",
    "        cnt = len(feature_sparsity)\n",
    "        feature_sparsity = feature_sparsity[~np.isnan(feature_sparsity)]\n",
    "        print(f'  Filtered {cnt - len(feature_sparsity)} nan samples in feature_sparsity.')\n",
    "    print('feature_sparsity: ', calculate_mean_std(feature_sparsity))\n",
    "    \n",
    "    if explainer in ['gnnexplainer', 'ig', 'deconvolution']:\n",
    "        print('edge_sparsity: ', calculate_mean_std(edge_sparsity))\n",
    "        print('node_sparsity_converted: ', calculate_mean_std(node_sparsity_converted))\n",
    "    \n",
    "    if np.isnan([r['node_sparsity_original'] for r in res]).any():\n",
    "        cnt = len(node_sparsity_original)\n",
    "        node_sparsity_original = node_sparsity_original[~np.isnan(node_sparsity_original)]\n",
    "        print(f'  Filtered {cnt - len(node_sparsity_original)} nan samples in node_sparsity.')\n",
    "        \n",
    "    print('node_sparsity_original: ', calculate_mean_std(node_sparsity_original))\n",
    "    print('total_time_to_explain: ', res[-1]['total_time_to_explain'])\n",
    "    \n",
    "    if explainer == 'zorro':\n",
    "        print('count: ')\n",
    "        print([r['count'] for r in res])\n",
    "\n",
    "    return fidelity\n",
    "\n",
    "\n",
    "def load_fidelity_validity(dataset, model, explainer):\n",
    "    file_path = '/Users/fuyuchuan/thesis/code/eval_lp_xai/outputs/{}/{}/{}/metric_list.npy'.format(dataset, model, explainer)\n",
    "    res = np.load(file_path, allow_pickle=True)\n",
    "    fidelity_list = np.array([r['fidelity'] for r in res])\n",
    "    validity_list = np.array([r['validity'] for r in res])\n",
    "\n",
    "    print('fidelity: ', calculate_mean_std(fidelity_list))\n",
    "    print('validity: ', calculate_mean_std(validity_list))\n",
    "\n",
    "    return fidelity_list, validity_list\n",
    "\n",
    "def load_pgmexplainer(dataset, model, explainer):\n",
    "    file_path = '/Users/fuyuchuan/thesis/code/eval_lp_xai/outputs/{}/{}/{}/metric_list.npy'.format(dataset, model, explainer)\n",
    "    res = np.load(file_path, allow_pickle=True)\n",
    "    fidelity = np.array([r['fidelity'] for r in res])\n",
    "    node_sparsity_original = np.array([r['node_sparsity_original'] for r in res])\n",
    "#     print(node_sparsity_original)\n",
    "    node_sparsity_original = node_sparsity_original[~np.isnan(node_sparsity_original)]\n",
    "    \n",
    "    print('fidelity: ', calculate_mean_std(fidelity))\n",
    "    print('node_sparsity_original: ', calculate_mean_std(node_sparsity_original))\n",
    "\n",
    "    return fidelity, node_sparsity_original\n",
    "\n",
    "def load_reduced_complete_exp(dataset, model, explainer):\n",
    "    file_path = '/Users/fuyuchuan/thesis/code/eval_lp_xai/outputs/{}/{}/{}/metric_list.npy'.format(dataset, model, explainer)\n",
    "    res = np.load(file_path, allow_pickle=True)\n",
    "    fidelity = np.array([r['fidelity'] for r in res])\n",
    "    node_sparsity_original = np.array([r['node_sparsity_original'] for r in res])\n",
    "#     print(node_sparsity_original)\n",
    "    node_sparsity_original = node_sparsity_original[~np.isnan(node_sparsity_original)]\n",
    "\n",
    "    print('fidelity: ', calculate_mean_std(fidelity))\n",
    "    print('node_sparsity_original: ', calculate_mean_std(node_sparsity_original))\n",
    "\n",
    "    return fidelity, node_sparsity_original\n",
    "\n",
    "\n",
    "def load_zorro_baseline(dataset, model, explainer):\n",
    "    file_path = '/Users/fuyuchuan/thesis/code/eval_lp_xai/outputs/{}/{}/{}/metric_list.npy'.format(dataset, model, explainer)\n",
    "    res = np.load(file_path, allow_pickle=True)\n",
    "    fidelity = np.array([r['fidelity'] for r in res])\n",
    "    \n",
    "    node_sparsity_original = np.array([r['node_sparsity_original'] for r in res])\n",
    "#     print(node_sparsity_original)\n",
    "    node_sparsity_original = node_sparsity_original[~np.isnan(node_sparsity_original)]\n",
    "    \n",
    "    feature_sparsity = np.array([r['feature_sparsity'] for r in res])\n",
    "    feature_sparsity = feature_sparsity[~np.isnan(feature_sparsity)]\n",
    "\n",
    "    print('fidelity: ', calculate_mean_std(fidelity))\n",
    "    print('node_sparsity_original: ', calculate_mean_std(node_sparsity_original))\n",
    "    print('feature_sparsity: ', calculate_mean_std(feature_sparsity))\n",
    "\n",
    "    return fidelity, node_sparsity_original, feature_sparsity\n",
    "\n",
    "\n",
    "def load_reduced_complete_exp_original_fidelity(dataset, model, explainer):\n",
    "    file_path = '/Users/fuyuchuan/thesis/code/eval_lp_xai/outputs/{}/{}/{}/fidelity_original_list.npy'.format(dataset, model, explainer)\n",
    "    res = np.load(file_path, allow_pickle=True)\n",
    "    \n",
    "    fid_plus_label = np.array([r['fid_plus_label'] for r in res])\n",
    "    fid_plus_prob = np.array([r['fid_plus_prob'] for r in res])\n",
    "    fid_minus_label = np.array([r['fid_minus_label'] for r in res])\n",
    "    fid_minus_prob = np.array([r['fid_minus_prob'] for r in res])\n",
    "    \n",
    "    print('fid_plus_label: ', calculate_mean_std(fid_plus_label))\n",
    "    print('fid_plus_prob: ', calculate_mean_std(fid_plus_prob))\n",
    "    print('fid_minus_label: ', calculate_mean_std(fid_minus_label))\n",
    "    print('fid_minus_prob: ', calculate_mean_std(fid_minus_prob))\n",
    "    \n",
    "    return fid_plus_label, fid_plus_prob, fid_minus_label, fid_minus_prob"
   ],
   "outputs": []
  },
  {
   "cell_type": "code",
   "execution_count": 39,
   "id": "18a05361",
   "metadata": {},
   "source": [
    "load_metrics('cora', 'gcn', 'gnnexplainer')"
   ],
   "outputs": []
  },
  {
   "cell_type": "code",
   "execution_count": 40,
   "id": "b2c5c34b",
   "metadata": {},
   "source": [
    "load_metrics('cora', 'gcn', 'ig')"
   ],
   "outputs": []
  },
  {
   "cell_type": "code",
   "execution_count": 41,
   "id": "235833fd",
   "metadata": {},
   "source": [
    "load_metrics('cora', 'gcn', 'deconvolution')"
   ],
   "outputs": []
  },
  {
   "cell_type": "code",
   "execution_count": 42,
   "id": "c606cf79",
   "metadata": {},
   "source": [
    "load_metrics('cora', 'gcn', 'pgmexplainer')"
   ],
   "outputs": []
  },
  {
   "cell_type": "code",
   "execution_count": 89,
   "id": "47113e55",
   "metadata": {},
   "source": [
    "load_metrics('cora', 'gcn', 'softzorro')"
   ],
   "outputs": []
  },
  {
   "cell_type": "code",
   "execution_count": 79,
   "id": "ce2db789",
   "metadata": {},
   "source": [
    "# tau: 0.1\n",
    "load_metrics('cora', 'gcn', 'zorro_baseline')"
   ],
   "outputs": []
  },
  {
   "cell_type": "code",
   "execution_count": 86,
   "id": "d0ac4073",
   "metadata": {},
   "source": [
    "# tau: 0.3, option 1\n",
    "load_metrics('cora', 'gcn', 'zorro')"
   ],
   "outputs": []
  },
  {
   "cell_type": "code",
   "execution_count": 87,
   "id": "b9fd6a03",
   "metadata": {},
   "source": [
    "# tau: 0.3, option 3\n",
    "load_metrics('cora', 'gcn', 'zorro')"
   ],
   "outputs": []
  },
  {
   "cell_type": "code",
   "execution_count": 88,
   "id": "0e2af5af",
   "metadata": {},
   "source": [
    "# tau: 0.1, option 3\n",
    "load_metrics('cora', 'gcn', 'zorro')"
   ],
   "outputs": []
  },
  {
   "cell_type": "code",
   "execution_count": 97,
   "id": "04a36b15",
   "metadata": {},
   "source": [
    "count_list = [23, 31, 40, 3, 7, 85, 4, 16, 145, 12, 5, 2, 90, 12, 11, 15, 131, 54, 9, 121, 0, 22, 8, 71, 15, 10, 29, 6, 82, 138, 6, 174, 13, 134, 28, 3, 8, 7, 0, 130, 126, 2, 115, 8, 9, 3, 3, 5, 6, 68, 7, 10, 3, 3, 9, 148, 9, 3, 84, 21, 6, 122, 36, 42, 6, 24, 0, 45, 35, 4, 3, 6, 85, 4, 13, 5, 8, 0, 115, 136, 16, 34, 44, 4, 163, 7, 163, 159, 3, 127, 28, 3, 17]\n",
    "np.mean(count_list)"
   ],
   "outputs": []
  },
  {
   "cell_type": "code",
   "execution_count": 99,
   "id": "ed7a1eac",
   "metadata": {},
   "source": [
    "np.median(count_list)"
   ],
   "outputs": []
  },
  {
   "cell_type": "code",
   "execution_count": 98,
   "id": "7b0e6c12",
   "metadata": {},
   "source": [
    "# set the threshold to be 100.\n",
    "plt.hist(count_list, rwidth=0.8)"
   ],
   "outputs": []
  },
  {
   "cell_type": "code",
   "execution_count": 101,
   "id": "7eea50c0",
   "metadata": {},
   "source": [
    "# tau: 0.1, option 3, max 100 counts\n",
    "load_metrics('cora', 'gcn', 'zorro')"
   ],
   "outputs": []
  },
  {
   "cell_type": "code",
   "execution_count": 103,
   "id": "5b30e670",
   "metadata": {
    "scrolled": false
   },
   "source": [
    "# tau: 0.1, option 3, max 50 counts\n",
    "load_metrics('cora', 'gcn', 'zorro')"
   ],
   "outputs": []
  },
  {
   "cell_type": "code",
   "execution_count": 104,
   "id": "dd991644",
   "metadata": {},
   "source": [
    "# tau: 0.1, option 3, max 75 counts\n",
    "load_metrics('cora', 'gcn', 'zorro')"
   ],
   "outputs": []
  },
  {
   "cell_type": "code",
   "execution_count": 105,
   "id": "1976012c",
   "metadata": {},
   "source": [
    "count_list = [23, 31, 40, 3, 7, 75, 4, 16, 75, 12, 5, 2, 75, 12, 11, 15, 75, 54, 9, 75, 0, 22, 8, 71, 15, 10, 29, 6, 75, 75, 6, 75, 13, 75, 28, 3, 8, 7, 0, 75, 75, 2, 75, 8, 9, 3, 3, 5, 6, 68, 7, 10, 3, 3, 9, 75, 9, 3, 75, 21, 6, 75, 36, 42, 6, 24, 0, 45, 35, 4, 3, 6, 75, 4, 13, 5, 8, 0, 75, 75, 16, 34, 44, 4, 75, 7, 75, 75, 3, 75, 28, 3, 17]\n",
    "plt.hist(count_list, rwidth=0.8)"
   ],
   "outputs": []
  },
  {
   "cell_type": "code",
   "execution_count": 106,
   "id": "c2c49545",
   "metadata": {},
   "source": [
    "# tau: 0.1, option 4\n",
    "load_metrics('cora', 'gcn', 'zorro')"
   ],
   "outputs": []
  },
  {
   "cell_type": "code",
   "execution_count": 107,
   "id": "2d6dfdbc",
   "metadata": {},
   "source": [
    "count_list = [23, 24, 40, 3, 7, 102, 4, 15, 152, 10, 4, 2, 52, 11, 10, 5, 82, 36, 9, 75, 0, 104, 7, 208, 14, 8, 21, 6, 79, 155, 6, 152, 9, 125, 18, 3, 5, 6, 0, 97, 153, 2, 42, 8, 9, 3, 3, 4, 6, 56, 6, 9, 3, 3, 7, 154, 8, 3, 81, 20, 5, 88, 64, 42, 6, 24, 0, 44, 79, 4, 3, 6, 72, 4, 13, 3, 7, 0, 115, 96, 15, 33, 47, 4, 147, 6, 69, 158, 3, 191, 18, 3, 16]\n",
    "plt.hist(count_list, rwidth=0.8)"
   ],
   "outputs": []
  },
  {
   "cell_type": "code",
   "execution_count": 108,
   "id": "0b45333f",
   "metadata": {},
   "source": [
    "# tau: 0.1, option 5\n",
    "load_metrics('cora', 'gcn', 'zorro')"
   ],
   "outputs": []
  },
  {
   "cell_type": "code",
   "execution_count": 109,
   "id": "80d5e20f",
   "metadata": {},
   "source": [
    "count_list = [23, 24, 65, 3, 7, 102, 5, 11, 84, 10, 6, 2, 52, 15, 10, 5, 82, 36, 9, 156, 0, 104, 7, 208, 19, 8, 21, 6, 87, 102, 6, 155, 14, 121, 18, 3, 5, 12, 0, 96, 153, 2, 100, 8, 10, 3, 3, 4, 7, 60, 6, 9, 3, 3, 7, 154, 9, 3, 60, 20, 5, 111, 64, 68, 6, 34, 0, 48, 79, 4, 3, 6, 89, 4, 13, 3, 7, 0, 115, 96, 15, 32, 69, 4, 130, 6, 48, 159, 3, 191, 15, 3, 18]\n",
    "plt.hist(count_list, rwidth=0.8)"
   ],
   "outputs": []
  },
  {
   "cell_type": "code",
   "execution_count": 110,
   "id": "03b046df",
   "metadata": {},
   "source": [
    "# tau: 0.05, option 6\n",
    "load_metrics('cora', 'gcn', 'zorro')"
   ],
   "outputs": []
  },
  {
   "cell_type": "code",
   "execution_count": 111,
   "id": "54952806",
   "metadata": {},
   "source": [
    "count_list = [28, 100, 49, 4, 9, 100, 7, 35, 100, 27, 13, 3, 87, 21, 22, 84, 100, 61, 11, 46, 2, 48, 8, 50, 22, 12, 25, 13, 100, 100, 7, 100, 33, 100, 33, 4, 11, 19, 0, 94, 100, 1, 100, 13, 14, 6, 4, 11, 8, 53, 8, 26, 5, 3, 16, 100, 13, 4, 100, 68, 7, 100, 100, 100, 8, 37, 3, 75, 100, 21, 4, 15, 100, 5, 33, 65, 10, 2, 100, 100, 28, 39, 76, 5, 100, 67, 58, 100, 4, 100, 30, 3, 38]\n",
    "plt.hist(count_list, rwidth=0.8)"
   ],
   "outputs": []
  },
  {
   "cell_type": "code",
   "execution_count": 112,
   "id": "bc392279",
   "metadata": {},
   "source": [
    "# tau: 0.02, option 6\n",
    "load_metrics('cora', 'gcn', 'zorro')"
   ],
   "outputs": []
  },
  {
   "cell_type": "code",
   "execution_count": null,
   "id": "797d23a4",
   "metadata": {},
   "source": [],
   "outputs": []
  },
  {
   "cell_type": "code",
   "execution_count": null,
   "id": "cca55778",
   "metadata": {},
   "source": [],
   "outputs": []
  },
  {
   "cell_type": "code",
   "execution_count": null,
   "id": "ba1d6868",
   "metadata": {},
   "source": [],
   "outputs": []
  },
  {
   "cell_type": "code",
   "execution_count": null,
   "id": "755de630",
   "metadata": {},
   "source": [],
   "outputs": []
  },
  {
   "cell_type": "code",
   "execution_count": null,
   "id": "97975922",
   "metadata": {},
   "source": [],
   "outputs": []
  },
  {
   "cell_type": "code",
   "execution_count": 47,
   "id": "cb3cdb95",
   "metadata": {},
   "source": [
    "fidelity, node_sparsity_original = load_reduced_complete_exp('cora', 'gcn', 'reduced_graph_complete_explanation')\n",
    "print('Num of nodes: ', len(fidelity))"
   ],
   "outputs": []
  },
  {
   "cell_type": "code",
   "execution_count": 48,
   "id": "1d7c1ae5",
   "metadata": {},
   "source": [
    "fid_plus_label, fid_plus_prob, fid_minus_label, fid_minus_prob = \\\n",
    "    load_reduced_complete_exp_original_fidelity('cora', 'gcn', 'reduced_graph_complete_explanation')"
   ],
   "outputs": []
  },
  {
   "cell_type": "code",
   "execution_count": 30,
   "id": "0a8ce8e7",
   "metadata": {},
   "source": [
    "fid_minus_label"
   ],
   "outputs": []
  },
  {
   "cell_type": "code",
   "execution_count": null,
   "id": "6af46717",
   "metadata": {},
   "source": [],
   "outputs": []
  },
  {
   "cell_type": "code",
   "execution_count": null,
   "id": "f82a6c3f",
   "metadata": {},
   "source": [],
   "outputs": []
  },
  {
   "cell_type": "markdown",
   "id": "79089597",
   "metadata": {},
   "source": [
    "### reduced_graph_complete_explanation"
   ]
  },
  {
   "cell_type": "markdown",
   "id": "45a3d761",
   "metadata": {},
   "source": [
    "Commpute the upper limit of RDT-Fidelity when the size of the computation graph is reduced."
   ]
  },
  {
   "cell_type": "markdown",
   "id": "0494cde5",
   "metadata": {},
   "source": [
    "#### Cora"
   ]
  },
  {
   "cell_type": "code",
   "execution_count": 101,
   "id": "05603006",
   "metadata": {},
   "source": [
    "# top_nodes: 50% of the largest number of neighbors for each end\n",
    "fidelity, node_sparsity_original = load_reduced_complete_exp('cora', 'gcn', 'reduced_graph_complete_explanation')\n",
    "print('Num of nodes: ', len(fidelity))"
   ],
   "outputs": []
  },
  {
   "cell_type": "code",
   "execution_count": 104,
   "id": "a23b261c",
   "metadata": {},
   "source": [
    "# top_nodes: 10 for each end\n",
    "fidelity, node_sparsity_original = load_reduced_complete_exp('cora', 'gcn', 'reduced_graph_complete_explanation')\n",
    "print('Num of nodes: ', len(fidelity))"
   ],
   "outputs": []
  },
  {
   "cell_type": "code",
   "execution_count": 105,
   "id": "89ff26ff",
   "metadata": {},
   "source": [
    "# top_nodes: 9 for each end\n",
    "fidelity, node_sparsity_original = load_reduced_complete_exp('cora', 'gcn', 'reduced_graph_complete_explanation')\n",
    "print('Num of nodes: ', len(fidelity))"
   ],
   "outputs": []
  },
  {
   "cell_type": "code",
   "execution_count": 106,
   "id": "4ba046f7",
   "metadata": {},
   "source": [
    "# top_nodes: 8 for each end\n",
    "fidelity, node_sparsity_original = load_reduced_complete_exp('cora', 'gcn', 'reduced_graph_complete_explanation')\n",
    "print('Num of nodes: ', len(fidelity))"
   ],
   "outputs": []
  },
  {
   "cell_type": "code",
   "execution_count": 107,
   "id": "ca574353",
   "metadata": {},
   "source": [
    "# top_nodes: 7 for each end\n",
    "fidelity, node_sparsity_original = load_reduced_complete_exp('cora', 'gcn', 'reduced_graph_complete_explanation')\n",
    "print('Num of nodes: ', len(fidelity))"
   ],
   "outputs": []
  },
  {
   "cell_type": "code",
   "execution_count": 108,
   "id": "f51eacfe",
   "metadata": {},
   "source": [
    "# top_nodes: 6 for each end\n",
    "fidelity, node_sparsity_original = load_reduced_complete_exp('cora', 'gcn', 'reduced_graph_complete_explanation')\n",
    "print('Num of nodes: ', len(fidelity))"
   ],
   "outputs": []
  },
  {
   "cell_type": "code",
   "execution_count": 109,
   "id": "e92df296",
   "metadata": {},
   "source": [
    "# top_nodes: 5 for each end\n",
    "fidelity, node_sparsity_original = load_reduced_complete_exp('cora', 'gcn', 'reduced_graph_complete_explanation')\n",
    "print('Num of nodes: ', len(fidelity))"
   ],
   "outputs": []
  },
  {
   "cell_type": "code",
   "execution_count": 110,
   "id": "98f96741",
   "metadata": {},
   "source": [
    "# top_nodes: 4 for each end\n",
    "fidelity, node_sparsity_original = load_reduced_complete_exp('cora', 'gcn', 'reduced_graph_complete_explanation')\n",
    "print('Num of nodes: ', len(fidelity))"
   ],
   "outputs": []
  },
  {
   "cell_type": "code",
   "execution_count": 111,
   "id": "ebec1e1c",
   "metadata": {},
   "source": [
    "# top_nodes: 3 for each end\n",
    "fidelity, node_sparsity_original = load_reduced_complete_exp('cora', 'gcn', 'reduced_graph_complete_explanation')\n",
    "print('Num of nodes: ', len(fidelity))"
   ],
   "outputs": []
  },
  {
   "cell_type": "code",
   "execution_count": 112,
   "id": "0096f535",
   "metadata": {},
   "source": [
    "# top_nodes: 2 for each end\n",
    "fidelity, node_sparsity_original = load_reduced_complete_exp('cora', 'gcn', 'reduced_graph_complete_explanation')\n",
    "print('Num of nodes: ', len(fidelity))"
   ],
   "outputs": []
  },
  {
   "cell_type": "code",
   "execution_count": 113,
   "id": "96299f0b",
   "metadata": {
    "scrolled": true
   },
   "source": [
    "# top_nodes: 1 for each end\n",
    "fidelity, node_sparsity_original = load_reduced_complete_exp('cora', 'gcn', 'reduced_graph_complete_explanation')\n",
    "print('Num of nodes: ', len(fidelity))"
   ],
   "outputs": []
  },
  {
   "cell_type": "code",
   "execution_count": 115,
   "id": "663ce67a",
   "metadata": {},
   "source": [
    "# top_nodes: 0 for each end\n",
    "fidelity, node_sparsity_original = load_reduced_complete_exp('cora', 'gcn', 'reduced_graph_complete_explanation')\n",
    "print('Num of nodes: ', len(fidelity))"
   ],
   "outputs": []
  },
  {
   "cell_type": "markdown",
   "id": "c07f1695",
   "metadata": {},
   "source": [
    "#### PubMed"
   ]
  },
  {
   "cell_type": "code",
   "execution_count": 139,
   "id": "b4dbb548",
   "metadata": {},
   "source": [
    "# top_nodes: 50% of the largest number of neighbors for each end\n",
    "fidelity, node_sparsity_original = load_reduced_complete_exp('PubMed', 'gcn', 'reduced_graph_complete_explanation')\n",
    "print('Num of nodes: ', len(fidelity))"
   ],
   "outputs": []
  },
  {
   "cell_type": "code",
   "execution_count": 141,
   "id": "9c3ddc5e",
   "metadata": {},
   "source": [
    "# top_nodes: 20 for each end\n",
    "fidelity, node_sparsity_original = load_reduced_complete_exp('PubMed', 'gcn', 'reduced_graph_complete_explanation')\n",
    "print('Num of nodes: ', len(fidelity))"
   ],
   "outputs": []
  },
  {
   "cell_type": "code",
   "execution_count": 142,
   "id": "54900564",
   "metadata": {},
   "source": [
    "# top_nodes: 15 for each end\n",
    "fidelity, node_sparsity_original = load_reduced_complete_exp('PubMed', 'gcn', 'reduced_graph_complete_explanation')\n",
    "print('Num of nodes: ', len(fidelity))"
   ],
   "outputs": []
  },
  {
   "cell_type": "code",
   "execution_count": 140,
   "id": "dccb26ce",
   "metadata": {},
   "source": [
    "# top_nodes: 10 for each end\n",
    "fidelity, node_sparsity_original = load_reduced_complete_exp('PubMed', 'gcn', 'reduced_graph_complete_explanation')\n",
    "print('Num of nodes: ', len(fidelity))"
   ],
   "outputs": []
  },
  {
   "cell_type": "code",
   "execution_count": 143,
   "id": "f83ec29e",
   "metadata": {},
   "source": [
    "# top_nodes: 5 for each end\n",
    "fidelity, node_sparsity_original = load_reduced_complete_exp('PubMed', 'gcn', 'reduced_graph_complete_explanation')\n",
    "print('Num of nodes: ', len(fidelity))"
   ],
   "outputs": []
  },
  {
   "cell_type": "markdown",
   "id": "30b9168d",
   "metadata": {},
   "source": [
    "### reduced_graph_complete_explanation, res of fidelity+ and fidelity-"
   ]
  },
  {
   "cell_type": "markdown",
   "id": "a2dfea5a",
   "metadata": {},
   "source": [
    "1. The following results are based on top important neighbors.\n",
    "\n",
    "Fidelity+\n",
    "Mask the important nodes.\n",
    "\n",
    "Cora: significantly decreases the probability of the existence of a link when important nodes are masked. It indicates these nodes are indeed important ones.\n",
    "\n",
    "\n",
    "Fidelity-\n",
    "Only use the important nodes.\n",
    "\n",
    "Cora: only results in small changes in the probability, which means only using the important nodes can lead to the correct prediction.\n",
    "\n",
    "2. Now replace the top nodes with random nodes in the computation subgraph.\n",
    "\n"
   ]
  },
  {
   "cell_type": "markdown",
   "id": "55adef5c",
   "metadata": {},
   "source": [
    "#### Cora"
   ]
  },
  {
   "cell_type": "code",
   "execution_count": 153,
   "id": "87384d1d",
   "metadata": {},
   "source": [
    "fid_plus_label, fid_plus_prob, fid_minus_label, fid_minus_prob = \\\n",
    "    load_reduced_complete_exp_original_fidelity('cora', 'gcn', 'reduced_graph_complete_explanation')"
   ],
   "outputs": []
  },
  {
   "cell_type": "markdown",
   "id": "e7404a49",
   "metadata": {},
   "source": [
    "#### PubMed"
   ]
  },
  {
   "cell_type": "code",
   "execution_count": 152,
   "id": "a2d2cf74",
   "metadata": {},
   "source": [
    "fid_plus_label, fid_plus_prob, fid_minus_label, fid_minus_prob = \\\n",
    "    load_reduced_complete_exp_original_fidelity('PubMed', 'gcn', 'reduced_graph_complete_explanation')"
   ],
   "outputs": []
  },
  {
   "cell_type": "code",
   "execution_count": null,
   "id": "c121809e",
   "metadata": {},
   "source": [],
   "outputs": []
  },
  {
   "cell_type": "code",
   "execution_count": null,
   "id": "3285573f",
   "metadata": {},
   "source": [],
   "outputs": []
  },
  {
   "cell_type": "code",
   "execution_count": null,
   "id": "c8a36f85",
   "metadata": {},
   "source": [],
   "outputs": []
  },
  {
   "cell_type": "markdown",
   "id": "f1a58bd9",
   "metadata": {},
   "source": [
    "### Zorro"
   ]
  },
  {
   "cell_type": "markdown",
   "id": "cd151df6",
   "metadata": {},
   "source": [
    "#### Add node and feature at the same time"
   ]
  },
  {
   "cell_type": "code",
   "execution_count": 78,
   "id": "67d4aae1",
   "metadata": {},
   "source": [
    "# tau: 0.3\n",
    "# time_taken for explaining:  2078.9753839969635\n",
    "# time_taken for explaining + evaluation:  2088.6021041870117\n",
    "\n",
    "fidelity, node_sparsity_original, feature_sparsity = load_zorro_baseline('cora', 'gcn', 'zorro')\n",
    "print('Num of nodes: ', len(fidelity))"
   ],
   "outputs": []
  },
  {
   "cell_type": "code",
   "execution_count": 81,
   "id": "adcda3ae",
   "metadata": {},
   "source": [
    "len(node_sparsity_original)"
   ],
   "outputs": []
  },
  {
   "cell_type": "code",
   "execution_count": 80,
   "id": "8a155106",
   "metadata": {},
   "source": [
    "len(feature_sparsity)"
   ],
   "outputs": []
  },
  {
   "cell_type": "code",
   "execution_count": 84,
   "id": "4cf9567e",
   "metadata": {},
   "source": [
    "# tau: 0.2\n",
    "# time_taken for explaining:  4052.121970176697\n",
    "# time_taken for explaining + evaluation:  4061.935608148575\n",
    "\n",
    "fidelity, node_sparsity_original, feature_sparsity = load_zorro_baseline('cora', 'gcn', 'zorro')\n",
    "print('Num of nodes: ', len(fidelity))"
   ],
   "outputs": []
  },
  {
   "cell_type": "code",
   "execution_count": 85,
   "id": "9652b585",
   "metadata": {},
   "source": [
    "len(node_sparsity_original)"
   ],
   "outputs": []
  },
  {
   "cell_type": "code",
   "execution_count": 82,
   "id": "17f62c4e",
   "metadata": {},
   "source": [
    "# tau: 0.15\n",
    "# time_taken for explaining:  6054.12283039093\n",
    "# time_taken for explaining + evaluation:  6063.590988874435\n",
    "\n",
    "fidelity, node_sparsity_original, feature_sparsity = load_zorro_baseline('cora', 'gcn', 'zorro')\n",
    "print('Num of nodes: ', len(fidelity))"
   ],
   "outputs": []
  },
  {
   "cell_type": "code",
   "execution_count": 83,
   "id": "6aec4367",
   "metadata": {},
   "source": [
    "len(node_sparsity_original)"
   ],
   "outputs": []
  },
  {
   "cell_type": "markdown",
   "id": "e8d204dd",
   "metadata": {},
   "source": [
    "#### Use node masks from zorro_baseline as fixed"
   ]
  },
  {
   "cell_type": "code",
   "execution_count": 88,
   "id": "48b509e0",
   "metadata": {},
   "source": [
    "# tau: 0.3\n",
    "# time_taken for explaining:  978.5579869747162\n",
    "# time_taken for explaining + evaluation:  987.9928789138794\n",
    "\n",
    "fidelity, node_sparsity_original, feature_sparsity = load_zorro_baseline('cora', 'gcn', 'zorro')\n",
    "print('Num of nodes: ', len(fidelity))"
   ],
   "outputs": []
  },
  {
   "cell_type": "code",
   "execution_count": 89,
   "id": "0db50d95",
   "metadata": {},
   "source": [
    "len(node_sparsity_original)"
   ],
   "outputs": []
  },
  {
   "cell_type": "code",
   "execution_count": 86,
   "id": "948fbeee",
   "metadata": {},
   "source": [
    "# tau: 0.2\n",
    "# time_taken for explaining:  1878.4841783046722\n",
    "# time_taken for explaining + evaluation:  1887.8399891853333\n",
    "\n",
    "fidelity, node_sparsity_original, feature_sparsity = load_zorro_baseline('cora', 'gcn', 'zorro')\n",
    "print('Num of nodes: ', len(fidelity))"
   ],
   "outputs": []
  },
  {
   "cell_type": "code",
   "execution_count": 87,
   "id": "6de3c6f3",
   "metadata": {},
   "source": [
    "len(node_sparsity_original)"
   ],
   "outputs": []
  },
  {
   "cell_type": "code",
   "execution_count": 91,
   "id": "923b7b92",
   "metadata": {},
   "source": [
    "# tau: 0.15\n",
    "# time_taken for explaining:  2074.754957675934\n",
    "# time_taken for explaining + evaluation:  2084.5078279972076\n",
    "\n",
    "fidelity, node_sparsity_original, feature_sparsity = load_zorro_baseline('cora', 'gcn', 'zorro')\n",
    "print('Num of nodes: ', len(fidelity))"
   ],
   "outputs": []
  },
  {
   "cell_type": "code",
   "execution_count": 92,
   "id": "9ceb1216",
   "metadata": {},
   "source": [
    "len(node_sparsity_original)"
   ],
   "outputs": []
  },
  {
   "cell_type": "code",
   "execution_count": 93,
   "id": "0d87d797",
   "metadata": {},
   "source": [
    "# tau: 0.1\n",
    "# time_taken for explaining:  1722.9277935028076\n",
    "# time_taken for explaining + evaluation:  1732.1560640335083\n",
    "fidelity, node_sparsity_original, feature_sparsity = load_zorro_baseline('cora', 'gcn', 'zorro')\n",
    "print('Num of nodes: ', len(fidelity))"
   ],
   "outputs": []
  },
  {
   "cell_type": "markdown",
   "id": "900981ec",
   "metadata": {},
   "source": [
    "#### Use node masks from zorro_baseline as initial"
   ]
  },
  {
   "cell_type": "markdown",
   "id": "2b688e13",
   "metadata": {},
   "source": [
    "##### Cora"
   ]
  },
  {
   "cell_type": "code",
   "execution_count": 97,
   "id": "ba9ce979",
   "metadata": {},
   "source": [
    "# tau: 0.2\n",
    "# time_taken for explaining:  2358.9623806476593\n",
    "# time_taken for explaining + evaluation:  2368.470980167389\n",
    "\n",
    "fidelity, node_sparsity_original, feature_sparsity = load_zorro_baseline('cora', 'gcn', 'zorro')\n",
    "print('Num of nodes: ', len(fidelity))"
   ],
   "outputs": []
  },
  {
   "cell_type": "code",
   "execution_count": 98,
   "id": "bf7f0d67",
   "metadata": {},
   "source": [
    "len(node_sparsity_original)"
   ],
   "outputs": []
  },
  {
   "cell_type": "code",
   "execution_count": 95,
   "id": "5449cd8a",
   "metadata": {},
   "source": [
    "# tau: 0.15\n",
    "# time_taken for explaining:  3167.487534046173\n",
    "# time_taken for explaining + evaluation:  3177.1116440296173\n",
    "\n",
    "fidelity, node_sparsity_original, feature_sparsity = load_zorro_baseline('cora', 'gcn', 'zorro')\n",
    "print('Num of nodes: ', len(fidelity))"
   ],
   "outputs": []
  },
  {
   "cell_type": "code",
   "execution_count": 96,
   "id": "82f74e46",
   "metadata": {},
   "source": [
    "len(node_sparsity_original)"
   ],
   "outputs": []
  },
  {
   "cell_type": "code",
   "execution_count": 99,
   "id": "c49e6e3f",
   "metadata": {},
   "source": [
    "# tau: 0.1\n",
    "# time_taken for explaining:  3506.214375257492\n",
    "# time_taken for explaining + evaluation:  3515.8612580299377\n",
    "\n",
    "fidelity, node_sparsity_original, feature_sparsity = load_zorro_baseline('cora', 'gcn', 'zorro')\n",
    "print('Num of nodes: ', len(fidelity))"
   ],
   "outputs": []
  },
  {
   "cell_type": "code",
   "execution_count": 158,
   "id": "71d70d13",
   "metadata": {},
   "source": [
    "iterations = [23, 31, 40, 3, 7, 85, 4, 16, 145, 12, 5, 2, 90, 12, 11, 15, 131, 54, 9, 121, 0, 22, 8, 71, 15, 10, 29, 6, 82, 138, 6, 174, 13, 134, 28, 3, 8, 7, 0, 130, 126, 2, 115, 8, 9, 3, 3, 5, 6, 68, 7, 10, 3, 3, 9, 148, 9, 3, 84, 21, 6, 122, 36, 42, 6, 24, 0, 45, 35, 4, 3, 6, 85, 4, 13, 5, 8, 0, 115, 136, 16, 34, 44, 4, 163, 7, 163, 159, 3, 127, 28, 3, 17]\n",
    "nodes = [31, 17, 128, 6, 16, 13, 8, 26, 58, 11, 11, 8, 20, 12, 21, 20, 18, 13, 15, 36, 0, 42, 8, 167, 25, 12, 13, 8, 119, 27, 11, 91, 25, 37, 51, 6, 6, 20, 0, 81, 27, 3, 47, 6, 38, 8, 4, 5, 6, 160, 8, 21, 6, 19, 13, 22, 13, 5, 53, 19, 15, 43, 40, 88, 13, 94, 0, 37, 18, 4, 32, 6, 81, 13, 25, 7, 25, 0, 3, 32, 21, 40, 57, 32, 74, 20, 60, 37, 7, 95, 25, 6, 30]\n",
    "nodes_percent = [1.0, 0.16666666666666666, 0.8311688311688312, 0.15789473684210525, 0.5333333333333333, 1.0, 0.36363636363636365, 0.65, 1.0, 1.0, 0.4583333333333333, 0.02318840579710145, 1.0, 0.23076923076923078, 0.2413793103448276, 0.1724137931034483, 1.0, 1.0, 0.6521739130434783, 1.0, 0.0, 1.0, 0.6153846153846154, 0.9881656804733728, 0.6410256410256411, 1.0, 0.8666666666666667, 0.34782608695652173, 1.0, 1.0, 0.8461538461538461, 1.0, 0.4807692307692308, 0.9487179487179487, 0.28651685393258425, 0.3, 0.5454545454545454, 0.5405405405405406, 0.0, 1.0, 1.0, 0.75, 1.0, 0.24, 0.7755102040816326, 0.11764705882352941, 0.05970149253731343, 0.5555555555555556, 0.35294117647058826, 0.975609756097561, 0.5, 0.9130434782608695, 0.2857142857142857, 0.055232558139534885, 0.8125, 1.0, 0.48148148148148145, 0.5, 1.0, 1.0, 0.42857142857142855, 0.9555555555555556, 1.0, 0.7213114754098361, 0.1780821917808219, 0.7704918032786885, 0.0, 0.5068493150684932, 1.0, 0.5, 0.20512820512820512, 1.0, 1.0, 0.1511627906976744, 0.16778523489932887, 0.1346153846153846, 0.16025641025641027, 0.0, 1.0, 1.0, 0.1044776119402985, 1.0, 0.9661016949152542, 0.3333333333333333, 0.9736842105263158, 0.13333333333333333, 1.0, 1.0, 0.21875, 1.0, 1.0, 0.02631578947368421, 0.46875]\n",
    "features = [160, 260, 101, 20, 41, 791, 21, 61, 1190, 70, 10, 10, 850, 80, 51, 121, 1260, 491, 51, 1041, 0, 61, 50, 90, 71, 50, 260, 30, 371, 1281, 30, 1300, 51, 1240, 110, 1, 51, 41, 0, 1071, 1151, 1, 971, 60, 41, 20, 20, 30, 31, 51, 41, 21, 20, 11, 40, 1391, 50, 11, 611, 121, 31, 1021, 170, 101, 30, 31, 0, 301, 280, 30, 11, 41, 681, 20, 100, 31, 61, 0, 1131, 1220, 110, 171, 190, 21, 1280, 60, 1390, 1413, 11, 810, 181, 11, 91]\n",
    "features_percent = [0.11165387299371947, 0.18143754361479414, 0.07048150732728542, 0.013956734124214934, 0.028611304954640614, 0.5519888346127007, 0.01465457083042568, 0.04256803907885555, 0.8304256803907886, 0.04884856943475227, 0.006978367062107467, 0.006978367062107467, 0.5931612002791347, 0.055826936496859735, 0.03558967201674808, 0.08443824145150035, 0.8792742498255408, 0.34263782274947663, 0.03558967201674808, 0.7264480111653873, 0.0, 0.04256803907885555, 0.034891835310537335, 0.0628053035589672, 0.04954640614096301, 0.034891835310537335, 0.18143754361479414, 0.0209351011863224, 0.25889741800418703, 0.8939288206559665, 0.0209351011863224, 0.9071877180739707, 0.03558967201674808, 0.8653175157013259, 0.07676203768318214, 0.0006978367062107466, 0.03558967201674808, 0.028611304954640614, 0.0, 0.7473831123517097, 0.8032100488485694, 0.0006978367062107466, 0.677599441730635, 0.0418702023726448, 0.028611304954640614, 0.013956734124214934, 0.013956734124214934, 0.0209351011863224, 0.021632937892533146, 0.03558967201674808, 0.028611304954640614, 0.01465457083042568, 0.013956734124214934, 0.007676203768318213, 0.027913468248429867, 0.9706908583391486, 0.034891835310537335, 0.007676203768318213, 0.4263782274947662, 0.08443824145150035, 0.021632937892533146, 0.7124912770411723, 0.11863224005582694, 0.07048150732728542, 0.0209351011863224, 0.021632937892533146, 0.0, 0.21004884856943476, 0.19539427773900908, 0.0209351011863224, 0.007676203768318213, 0.028611304954640614, 0.47522679692951847, 0.013956734124214934, 0.06978367062107467, 0.021632937892533146, 0.04256803907885555, 0.0, 0.7892533147243544, 0.8513607815771109, 0.07676203768318214, 0.11933007676203769, 0.13258897418004187, 0.01465457083042568, 0.8932309839497558, 0.0418702023726448, 0.9699930216329379, 0.9860432658757851, 0.007676203768318213, 0.5652477320307048, 0.12630844382414516, 0.007676203768318213, 0.06350314026517795]\n"
   ],
   "outputs": []
  },
  {
   "cell_type": "code",
   "execution_count": 159,
   "id": "f3667353",
   "metadata": {},
   "source": [
    "name_list = ['iterations', 'nodes', 'nodes_percent', 'features', 'features_percent']\n",
    "values_list = [iterations, nodes, nodes_percent, features, features_percent]\n",
    "\n",
    "for i in range(len(values_list)):\n",
    "    element = values_list[i]\n",
    "    print(name_list[i])\n",
    "    print('mean: ', np.mean(element))\n",
    "    print('median: ', np.median(element))\n",
    "    print('-'*100)"
   ],
   "outputs": []
  },
  {
   "cell_type": "code",
   "execution_count": 144,
   "id": "5e8aee43",
   "metadata": {},
   "source": [
    "plt.hist(nodes, rwidth=0.8)\n",
    "plt.title('Number of nodes in the explanations of Cora')"
   ],
   "outputs": []
  },
  {
   "cell_type": "code",
   "execution_count": 145,
   "id": "70fa3286",
   "metadata": {},
   "source": [
    "plt.hist(nodes_percent, rwidth=0.8)\n",
    "plt.title('Percent of nodes in the explanations of Cora')"
   ],
   "outputs": []
  },
  {
   "cell_type": "code",
   "execution_count": 146,
   "id": "e1ae3680",
   "metadata": {},
   "source": [
    "plt.hist(features, rwidth=0.8)\n",
    "plt.title('Number of features in the explanations of Cora')"
   ],
   "outputs": []
  },
  {
   "cell_type": "code",
   "execution_count": 147,
   "id": "07526b06",
   "metadata": {},
   "source": [
    "plt.hist(features_percent, rwidth=0.8)\n",
    "plt.title('Percent of features in the explanations of Cora')"
   ],
   "outputs": []
  },
  {
   "cell_type": "code",
   "execution_count": 157,
   "id": "fe024c4a",
   "metadata": {},
   "source": [
    "plt.hist(iterations, rwidth=0.8)\n",
    "plt.title('Number of iterations of zorro in Cora')"
   ],
   "outputs": []
  },
  {
   "cell_type": "markdown",
   "id": "f015841c",
   "metadata": {},
   "source": [
    "##### PubMed"
   ]
  },
  {
   "cell_type": "code",
   "execution_count": 114,
   "id": "acd513b9",
   "metadata": {},
   "source": [
    "# tau: 0.3, initial\n",
    "# time_taken for explaining:  1208.7117369174957\n",
    "# time_taken for explaining + evaluation:  1226.966651916504\n",
    "\n",
    "fidelity, node_sparsity_original, feature_sparsity = load_zorro_baseline('PubMed', 'gcn', 'zorro')\n",
    "print('Num of nodes: ', len(fidelity))"
   ],
   "outputs": []
  },
  {
   "cell_type": "code",
   "execution_count": 118,
   "id": "9f00c11c",
   "metadata": {},
   "source": [
    "len(node_sparsity_original)"
   ],
   "outputs": []
  },
  {
   "cell_type": "code",
   "execution_count": 116,
   "id": "29a5dc14",
   "metadata": {},
   "source": [
    "feature_sparsity"
   ],
   "outputs": []
  },
  {
   "cell_type": "code",
   "execution_count": 119,
   "id": "2f6b80a3",
   "metadata": {},
   "source": [
    "# tau: 0.1, initial\n",
    "# time_taken for explaining:  5286.470011472702\n",
    "# time_taken for explaining + evaluation:  5304.453564167023\n",
    "\n",
    "fidelity, node_sparsity_original, feature_sparsity = load_zorro_baseline('PubMed', 'gcn', 'zorro')\n",
    "print('Num of nodes: ', len(fidelity))"
   ],
   "outputs": []
  },
  {
   "cell_type": "code",
   "execution_count": 160,
   "id": "8b204be9",
   "metadata": {},
   "source": [
    "iterations = [4, 15, 9, 80, 104, 7, 0, 0, 7, 2, 112, 4, 3, 18, 3, 12, 3, 2, 5, 0, 46, 0, 65, 3, 3, 4, 14, 3, 11, 4, 7, 3, 3, 0, 7, 72, 96, 0, 19, 10, 0, 4, 0, 7, 0, 121, 6, 2, 4, 124, 77, 16, 245, 4, 9, 68, 10, 0, 106, 10, 7, 5, 6, 5, 85, 3, 7, 6, 69, 0, 80, 3, 0, 0, 13, 4, 60, 0, 83, 5, 0, 3, 3, 7, 11, 4, 3, 30, 3, 36, 3, 24, 0, 0]\n",
    "nodes = [5, 7, 11, 62, 114, 10, 0, 0, 1, 2, 154, 1, 2, 12, 2, 5, 3, 1, 3, 0, 56, 0, 84, 4, 3, 3, 20, 2, 12, 4, 4, 3, 2, 0, 5, 64, 98, 0, 26, 12, 0, 3, 0, 7, 0, 140, 8, 2, 3, 154, 56, 26, 388, 2, 10, 33, 12, 0, 132, 4, 5, 4, 8, 6, 85, 3, 5, 8, 36, 0, 78, 3, 0, 0, 6, 4, 52, 0, 82, 2, 0, 3, 3, 10, 12, 4, 1, 34, 4, 11, 3, 30, 0, 0]\n",
    "nodes_percent = [0.14285714285714285, 0.047619047619047616, 0.2972972972972973, 0.8157894736842105, 1.0, 0.22727272727272727, 0.0, 0.0, 0.015625, 0.013157894736842105, 0.7333333333333333, 0.007692307692307693, 0.00338409475465313, 0.8, 0.006993006993006993, 0.13157894736842105, 0.01948051948051948, 0.00423728813559322, 0.016216216216216217, 0.0, 0.6086956521739131, 0.0, 0.8235294117647058, 0.1111111111111111, 0.012658227848101266, 0.011764705882352941, 0.273972602739726, 0.005988023952095809, 0.0736196319018405, 0.019704433497536946, 0.008869179600886918, 0.024193548387096774, 0.009389671361502348, 0.0, 0.050505050505050504, 0.6956521739130435, 0.7777777777777778, 0.0, 0.36619718309859156, 0.18461538461538463, 0.0, 0.018292682926829267, 0.0, 0.09090909090909091, 0.0, 0.8536585365853658, 0.0851063829787234, 0.007246376811594203, 0.07692307692307693, 0.5480427046263345, 0.6436781609195402, 0.12745098039215685, 0.8237791932059448, 0.0034423407917383822, 0.1111111111111111, 0.5409836065573771, 0.1111111111111111, 0.0, 0.6376811594202898, 1.0, 0.043478260869565216, 0.05263157894736842, 0.125, 0.42857142857142855, 0.6159420289855072, 0.12, 0.028409090909090908, 0.08080808080808081, 0.36, 0.0, 0.5131578947368421, 0.04285714285714286, 0.0, 0.0, 0.058823529411764705, 0.6666666666666666, 0.5252525252525253, 0.0, 0.31906614785992216, 0.004, 0.0, 0.016483516483516484, 0.0027881040892193307, 0.19230769230769232, 0.8571428571428571, 0.05555555555555555, 0.004329004329004329, 0.8947368421052632, 0.2857142857142857, 0.7333333333333333, 0.023622047244094488, 0.3488372093023256, 0.0, 0.0]\n",
    "features = [10, 110, 21, 480, 461, 11, 0, 0, 60, 1, 341, 30, 11, 111, 11, 90, 10, 10, 30, 0, 171, 0, 221, 1, 10, 20, 31, 11, 41, 11, 41, 10, 11, 0, 40, 391, 461, 0, 51, 31, 0, 20, 0, 30, 0, 500, 11, 1, 20, 461, 480, 21, 500, 21, 31, 500, 31, 0, 391, 71, 40, 21, 11, 11, 420, 10, 40, 11, 500, 0, 401, 10, 0, 0, 91, 11, 331, 0, 411, 31, 0, 10, 10, 11, 41, 11, 20, 121, 1, 300, 10, 81, 0, 0]\n",
    "features_percent = [0.02, 0.22, 0.042, 0.96, 0.922, 0.022, 0.0, 0.0, 0.12, 0.002, 0.682, 0.06, 0.022, 0.222, 0.022, 0.18, 0.02, 0.02, 0.06, 0.0, 0.342, 0.0, 0.442, 0.002, 0.02, 0.04, 0.062, 0.022, 0.082, 0.022, 0.082, 0.02, 0.022, 0.0, 0.08, 0.782, 0.922, 0.0, 0.102, 0.062, 0.0, 0.04, 0.0, 0.06, 0.0, 1.0, 0.022, 0.002, 0.04, 0.922, 0.96, 0.042, 1.0, 0.042, 0.062, 1.0, 0.062, 0.0, 0.782, 0.142, 0.08, 0.042, 0.022, 0.022, 0.84, 0.02, 0.08, 0.022, 1.0, 0.0, 0.802, 0.02, 0.0, 0.0, 0.182, 0.022, 0.662, 0.0, 0.822, 0.062, 0.0, 0.02, 0.02, 0.022, 0.082, 0.022, 0.04, 0.242, 0.002, 0.6, 0.02, 0.162, 0.0, 0.0]"
   ],
   "outputs": []
  },
  {
   "cell_type": "code",
   "execution_count": 161,
   "id": "3612ca44",
   "metadata": {},
   "source": [
    "name_list = ['iterations', 'nodes', 'nodes_percent', 'features', 'features_percent']\n",
    "values_list = [iterations, nodes, nodes_percent, features, features_percent]\n",
    "\n",
    "for i in range(len(values_list)):\n",
    "    element = values_list[i]\n",
    "    print(name_list[i])\n",
    "    print('mean: ', np.mean(element))\n",
    "    print('median: ', np.median(element))\n",
    "    print('-'*100)"
   ],
   "outputs": []
  },
  {
   "cell_type": "code",
   "execution_count": 132,
   "id": "ed1ca136",
   "metadata": {},
   "source": [
    "np.mean(features_percent)"
   ],
   "outputs": []
  },
  {
   "cell_type": "code",
   "execution_count": null,
   "id": "5f714495",
   "metadata": {},
   "source": [],
   "outputs": []
  },
  {
   "cell_type": "code",
   "execution_count": 162,
   "id": "d33de2e3",
   "metadata": {},
   "source": [
    "plt.hist(nodes, rwidth=0.8)\n",
    "plt.title('Number of nodes in the explanations of PubMed')"
   ],
   "outputs": []
  },
  {
   "cell_type": "code",
   "execution_count": 163,
   "id": "3a86f06d",
   "metadata": {},
   "source": [
    "plt.hist(nodes_percent, rwidth=0.8)\n",
    "plt.title('Percent of nodes in the explanations of PubMed')"
   ],
   "outputs": []
  },
  {
   "cell_type": "code",
   "execution_count": 164,
   "id": "d39cc82b",
   "metadata": {},
   "source": [
    "plt.hist(features, rwidth=0.8)\n",
    "plt.title('Number of features in the explanations of PubMed')"
   ],
   "outputs": []
  },
  {
   "cell_type": "code",
   "execution_count": 165,
   "id": "a5f738a4",
   "metadata": {},
   "source": [
    "plt.hist(features_percent, rwidth=0.8)\n",
    "plt.title('Percent of features in the explanations of PubMed')"
   ],
   "outputs": []
  },
  {
   "cell_type": "code",
   "execution_count": 166,
   "id": "aa13d462",
   "metadata": {},
   "source": [
    "plt.hist(iterations, rwidth=0.8)\n",
    "plt.title('Number of iterations of zorro in PubMed')"
   ],
   "outputs": []
  },
  {
   "cell_type": "code",
   "execution_count": null,
   "id": "b9babe46",
   "metadata": {},
   "source": [],
   "outputs": []
  },
  {
   "cell_type": "code",
   "execution_count": null,
   "id": "70927974",
   "metadata": {},
   "source": [],
   "outputs": []
  },
  {
   "cell_type": "code",
   "execution_count": null,
   "id": "d7252a12",
   "metadata": {},
   "source": [],
   "outputs": []
  },
  {
   "cell_type": "code",
   "execution_count": null,
   "id": "b3fe595a",
   "metadata": {},
   "source": [],
   "outputs": []
  },
  {
   "cell_type": "code",
   "execution_count": null,
   "id": "ad3c7e2e",
   "metadata": {},
   "source": [],
   "outputs": []
  },
  {
   "cell_type": "code",
   "execution_count": null,
   "id": "2f1b7346",
   "metadata": {},
   "source": [],
   "outputs": []
  },
  {
   "cell_type": "code",
   "execution_count": null,
   "id": "8c803f38",
   "metadata": {},
   "source": [],
   "outputs": []
  },
  {
   "cell_type": "code",
   "execution_count": null,
   "id": "7d9b443c",
   "metadata": {},
   "source": [],
   "outputs": []
  },
  {
   "cell_type": "markdown",
   "id": "50727856",
   "metadata": {},
   "source": [
    "### PGMExplainer"
   ]
  },
  {
   "cell_type": "markdown",
   "id": "6d2566dc",
   "metadata": {},
   "source": [
    "Only prodives node masks. Current computation is based on 100 perturbations."
   ]
  },
  {
   "cell_type": "markdown",
   "id": "45e222a6",
   "metadata": {},
   "source": [
    "#### Cora"
   ]
  },
  {
   "cell_type": "code",
   "execution_count": 124,
   "id": "f04cb865",
   "metadata": {},
   "source": [
    "# Full computation graph\n",
    "# time_taken for explaining:  127.8276960849762\n",
    "# time_taken for explaining + evaluation:  138.80583024024963\n",
    "\n",
    "fidelity, node_sparsity_original = load_pgmexplainer('cora', 'gcn', 'pgmexplainer')\n",
    "print('Num of nodes: ', len(fidelity))"
   ],
   "outputs": []
  },
  {
   "cell_type": "code",
   "execution_count": 117,
   "id": "319de40c",
   "metadata": {},
   "source": [
    "# reduced, top_nodes: 50% of the largest number of neighbors\n",
    "# time_taken for explaining:  121.6539032459259\n",
    "# time_taken for explaining + evaluation:  133.09202003479004\n",
    "\n",
    "fidelity, node_sparsity_original = load_pgmexplainer('cora', 'gcn', 'pgmexplainer')\n",
    "print('Num of nodes: ', len(fidelity))"
   ],
   "outputs": []
  },
  {
   "cell_type": "code",
   "execution_count": 120,
   "id": "68c39283",
   "metadata": {},
   "source": [
    "# reduced, top_nodes: 10 for each side\n",
    "# time_taken for explaining:  104.52897024154663\n",
    "# time_taken for explaining + evaluation:  115.85448598861694\n",
    "\n",
    "fidelity, node_sparsity_original = load_pgmexplainer('cora', 'gcn', 'pgmexplainer')\n",
    "print('Num of nodes: ', len(fidelity))"
   ],
   "outputs": []
  },
  {
   "cell_type": "code",
   "execution_count": 122,
   "id": "665ebe3c",
   "metadata": {},
   "source": [
    "# reduced, top_nodes: 5 for each side\n",
    "# time_taken for explaining:  89.68389654159546\n",
    "# time_taken for explaining + evaluation:  100.00922393798828\n",
    "\n",
    "fidelity, node_sparsity_original = load_pgmexplainer('cora', 'gcn', 'pgmexplainer')\n",
    "print('Num of nodes: ', len(fidelity))"
   ],
   "outputs": []
  },
  {
   "cell_type": "markdown",
   "id": "1c6ef689",
   "metadata": {},
   "source": [
    "#### PubMed"
   ]
  },
  {
   "cell_type": "code",
   "execution_count": 136,
   "id": "554677ee",
   "metadata": {},
   "source": [
    "# Full computation graph\n",
    "# time_taken for explaining:  1833.5620889663696\n",
    "# time_taken for explaining + evaluation:  1855.8837749958038\n",
    "fidelity, node_sparsity_original = load_pgmexplainer('PubMed', 'gcn', 'pgmexplainer')\n",
    "print('Num of nodes: ', len(fidelity))"
   ],
   "outputs": []
  },
  {
   "cell_type": "code",
   "execution_count": 138,
   "id": "12c2e3cd",
   "metadata": {},
   "source": [
    "# reduced, top_nodes: 10 for each side\n",
    "# time_taken for explaining:  969.7029597759247\n",
    "# time_taken for explaining + evaluation:  992.4953420162201\n",
    "fidelity, node_sparsity_original = load_pgmexplainer('PubMed', 'gcn', 'pgmexplainer')\n",
    "print('Num of nodes: ', len(fidelity))"
   ],
   "outputs": []
  },
  {
   "cell_type": "code",
   "execution_count": 137,
   "id": "33c2175a",
   "metadata": {},
   "source": [
    "# reduced, top_nodes: 5 for each side\n",
    "# time_taken for explaining:  743.9129590988159\n",
    "# time_taken for explaining + evaluation:  766.5984990596771\n",
    "fidelity, node_sparsity_original = load_pgmexplainer('PubMed', 'gcn', 'pgmexplainer')\n",
    "print('Num of nodes: ', len(fidelity))"
   ],
   "outputs": []
  },
  {
   "cell_type": "markdown",
   "id": "28e96e03",
   "metadata": {},
   "source": [
    "### Zorro Baseline (Select top similar nodes, all features are selected.)"
   ]
  },
  {
   "cell_type": "code",
   "execution_count": 50,
   "id": "6aae9ca3",
   "metadata": {},
   "source": [
    "# 修改后，只加入增加fidelity的node，最大fidelity降低了，但sparsity也降低了\n",
    "# more compact\n",
    "\n",
    "# 需要visualize node mask的distribution\n",
    "\n",
    "\n",
    "# tau: 0.05\n",
    "# time_taken for explaining:  263.54108929634094\n",
    "# time_taken for explaining + evaluation:  273.93209290504456\n",
    "fidelity, node_sparsity_original = load_zorro_baseline('cora', 'gcn', 'zorro_baseline')\n",
    "print('Num of nodes: ', len(fidelity))"
   ],
   "outputs": []
  },
  {
   "cell_type": "code",
   "execution_count": 51,
   "id": "af3e7130",
   "metadata": {},
   "source": [
    "node_mask_proportion_list = [0.6129032258064516, 0.14705882352941177, 0.525974025974026, 0.21052631578947367, 0.43333333333333335, 0.3076923076923077, 0.3181818181818182, 0.25, 0.15517241379310345, 0.36363636363636365, 0.3333333333333333, 0.02318840579710145, 0.6, 0.1346153846153846, 0.1724137931034483, 0.14655172413793102, 0.5555555555555556, 0.46153846153846156, 0.391304347826087, 0.3888888888888889, 0.043478260869565216, 0.35714285714285715, 0.38461538461538464, 0.2781065088757396, 0.3333333333333333, 0.4166666666666667, 0.6666666666666666, 0.21739130434782608, 0.4957983193277311, 0.3333333333333333, 0.5384615384615384, 0.07692307692307693, 0.21153846153846154, 0.5384615384615384, 0.1348314606741573, 0.2, 0.36363636363636365, 0.43243243243243246, 0.0, 0.5308641975308642, 0.37037037037037035, 0.5, 0.425531914893617, 0.16, 0.6122448979591837, 0.11764705882352941, 0.04477611940298507, 0.4444444444444444, 0.11764705882352941, 0.5609756097560976, 0.375, 0.391304347826087, 0.47619047619047616, 0.04941860465116279, 0.3125, 0.36363636363636365, 0.2962962962962963, 0.5, 0.16981132075471697, 0.2631578947368421, 0.37142857142857144, 0.13333333333333333, 0.075, 0.21311475409836064, 0.1643835616438356, 0.4426229508196721, 0.056338028169014086, 0.1780821917808219, 0.2777777777777778, 0.5, 0.23717948717948717, 0.6666666666666666, 0.654320987654321, 0.12790697674418605, 0.1610738255033557, 0.11538461538461539, 0.14743589743589744, 0.2857142857142857, 0.6666666666666666, 0.1875, 0.06467661691542288, 0.225, 0.15254237288135594, 0.3541666666666667, 0.09210526315789473, 0.23333333333333334, 0.31666666666666665, 0.16216216216216217, 0.15625, 0.08421052631578947, 0.4, 0.017543859649122806, 0.328125]"
   ],
   "outputs": []
  },
  {
   "cell_type": "code",
   "execution_count": 60,
   "id": "5bec34d5",
   "metadata": {
    "scrolled": false
   },
   "source": [
    "plt.hist(node_mask_proportion_list, rwidth=0.9)"
   ],
   "outputs": []
  },
  {
   "cell_type": "code",
   "execution_count": 56,
   "id": "9aecb28a",
   "metadata": {},
   "source": [
    "pgm_pro_list = [0.3225806451612903, 0.14705882352941177, 0.5454545454545454, 0.47368421052631576, 0.6333333333333333, 0.38461538461538464, 0.6363636363636364, 0.575, 0.6206896551724138, 0.6363636363636364, 0.5833333333333334, 0.17681159420289855, 0.35, 0.40384615384615385, 0.47126436781609193, 0.3706896551724138, 0.6111111111111112, 0.23076923076923078, 0.21739130434782608, 0.1388888888888889, 0.5217391304347826, 0.7142857142857143, 0.3076923076923077, 0.07100591715976332, 0.41025641025641024, 0.5, 0.5333333333333333, 0.5217391304347826, 0.6890756302521008, 0.5185185185185185, 0.6153846153846154, 0.08791208791208792, 0.75, 0.41025641025641024, 0.19662921348314608, 0.45, 0.6363636363636364, 0.7837837837837838, 0.7777777777777778, 0.5061728395061729, 0.5555555555555556, 0.5, 0.425531914893617, 0.68, 0.6326530612244898, 0.19117647058823528, 0.6119402985074627, 0.6666666666666666, 0.17647058823529413, 0.3719512195121951, 0.625, 0.34782608695652173, 0.7619047619047619, 0.18895348837209303, 0.75, 0.5454545454545454, 0.5185185185185185, 0.8, 0.4528301886792453, 0.631578947368421, 0.8571428571428571, 0.4, 0.8, 0.6967213114754098, 0.0684931506849315, 0.5655737704918032, 0.09154929577464789, 0.6986301369863014, 0.5, 0.5, 0.07692307692307693, 0.3333333333333333, 0.6296296296296297, 0.5348837209302325, 0.2348993288590604, 0.4423076923076923, 0.6025641025641025, 0.42857142857142855, 0.3333333333333333, 0.6875, 0.13930348258706468, 0.625, 0.23728813559322035, 0.40625, 0.4868421052631579, 0.6, 0.35, 0.6486486486486487, 0.34375, 0.3263157894736842, 0.32, 0.08771929824561403, 0.421875]\n"
   ],
   "outputs": []
  },
  {
   "cell_type": "code",
   "execution_count": 61,
   "id": "3bf594d0",
   "metadata": {
    "scrolled": false
   },
   "source": [
    "plt.hist(pgm_pro_list, rwidth=0.9)"
   ],
   "outputs": []
  },
  {
   "cell_type": "code",
   "execution_count": null,
   "id": "2795f41e",
   "metadata": {},
   "source": [],
   "outputs": []
  },
  {
   "cell_type": "code",
   "execution_count": null,
   "id": "c689fd44",
   "metadata": {},
   "source": [],
   "outputs": []
  },
  {
   "cell_type": "code",
   "execution_count": null,
   "id": "60625f0e",
   "metadata": {},
   "source": [],
   "outputs": []
  },
  {
   "cell_type": "code",
   "execution_count": null,
   "id": "abe19e71",
   "metadata": {},
   "source": [],
   "outputs": []
  },
  {
   "cell_type": "markdown",
   "id": "a783cc3a",
   "metadata": {},
   "source": [
    "#### Cora"
   ]
  },
  {
   "cell_type": "markdown",
   "id": "4cd2cd47",
   "metadata": {},
   "source": [
    "##### No Reduction"
   ]
  },
  {
   "cell_type": "code",
   "execution_count": 131,
   "id": "fb67d221",
   "metadata": {},
   "source": [
    "# tau: 0.15\n",
    "# time_taken for explaining:  135.70069932937622\n",
    "# time_taken for explaining + evaluation:  145.3336398601532\n",
    "fidelity, node_sparsity_original = load_zorro_baseline('cora', 'gcn', 'zorro_baseline')\n",
    "print('Num of nodes: ', len(fidelity))"
   ],
   "outputs": []
  },
  {
   "cell_type": "code",
   "execution_count": 132,
   "id": "064163ae",
   "metadata": {},
   "source": [
    "# tau: 0.1\n",
    "# time_taken for explaining:  177.11692929267883\n",
    "# time_taken for explaining + evaluation:  187.08610606193542\n",
    "fidelity, node_sparsity_original = load_zorro_baseline('cora', 'gcn', 'zorro_baseline')\n",
    "print('Num of nodes: ', len(fidelity))"
   ],
   "outputs": []
  },
  {
   "cell_type": "code",
   "execution_count": 133,
   "id": "b40efd53",
   "metadata": {},
   "source": [
    "# tau: 0.05\n",
    "# time_taken for explaining:  203.28461027145386\n",
    "# time_taken for explaining + evaluation:  212.75743412971497\n",
    "fidelity, node_sparsity_original = load_zorro_baseline('cora', 'gcn', 'zorro_baseline')\n",
    "print('Num of nodes: ', len(fidelity))"
   ],
   "outputs": []
  },
  {
   "cell_type": "markdown",
   "id": "dd3ffeb5",
   "metadata": {},
   "source": [
    "##### Reduction"
   ]
  },
  {
   "cell_type": "code",
   "execution_count": null,
   "id": "54c3ae46",
   "metadata": {},
   "source": [],
   "outputs": []
  },
  {
   "cell_type": "code",
   "execution_count": null,
   "id": "00b1abdc",
   "metadata": {},
   "source": [],
   "outputs": []
  },
  {
   "cell_type": "code",
   "execution_count": null,
   "id": "68b758bb",
   "metadata": {},
   "source": [],
   "outputs": []
  },
  {
   "cell_type": "code",
   "execution_count": null,
   "id": "1be98641",
   "metadata": {},
   "source": [],
   "outputs": []
  },
  {
   "cell_type": "markdown",
   "id": "62da39a5",
   "metadata": {},
   "source": [
    "#### PubMed"
   ]
  },
  {
   "cell_type": "markdown",
   "id": "12db3afd",
   "metadata": {},
   "source": [
    "##### No Reduction"
   ]
  },
  {
   "cell_type": "code",
   "execution_count": 144,
   "id": "89fb962f",
   "metadata": {},
   "source": [
    "# tau: 0.15\n",
    "# time_taken for explaining:  205.91293597221375\n",
    "# time_taken for explaining + evaluation:  224.90335392951965\n",
    "fidelity, node_sparsity_original = load_zorro_baseline('PubMed', 'gcn', 'zorro_baseline')\n",
    "print('Num of nodes: ', len(fidelity))"
   ],
   "outputs": []
  },
  {
   "cell_type": "code",
   "execution_count": 145,
   "id": "d200d2ab",
   "metadata": {},
   "source": [
    "# tau: 0.1\n",
    "# time_taken for explaining:  248.14503860473633\n",
    "# time_taken for explaining + evaluation:  267.48149704933167\n",
    "fidelity, node_sparsity_original = load_zorro_baseline('PubMed', 'gcn', 'zorro_baseline')\n",
    "print('Num of nodes: ', len(fidelity))"
   ],
   "outputs": []
  },
  {
   "cell_type": "code",
   "execution_count": 146,
   "id": "c9b3c5b0",
   "metadata": {},
   "source": [
    "# tau: 0.05\n",
    "# time_taken for explaining:  336.1451451778412\n",
    "# time_taken for explaining + evaluation:  356.6368088722229\n",
    "fidelity, node_sparsity_original = load_zorro_baseline('PubMed', 'gcn', 'zorro_baseline')\n",
    "print('Num of nodes: ', len(fidelity))"
   ],
   "outputs": []
  },
  {
   "cell_type": "code",
   "execution_count": null,
   "id": "578c11ab",
   "metadata": {},
   "source": [],
   "outputs": []
  },
  {
   "cell_type": "code",
   "execution_count": null,
   "id": "407080ab",
   "metadata": {},
   "source": [],
   "outputs": []
  },
  {
   "cell_type": "markdown",
   "id": "9e7bbd22",
   "metadata": {},
   "source": [
    "### GNNExplainer"
   ]
  },
  {
   "cell_type": "markdown",
   "id": "0e38ef1d",
   "metadata": {},
   "source": [
    "#### PubMed"
   ]
  },
  {
   "cell_type": "code",
   "execution_count": 135,
   "id": "a9ae685c",
   "metadata": {},
   "source": [
    "# time_taken for explaining:  1503.9144859313965\n",
    "# time_taken for explaining + evaluation:  1542.3847279548645\n",
    "fidelity = load_metrics('PubMed', 'gcn', 'gnnexplainer')\n",
    "print('Num of nodes: ', len(fidelity))"
   ],
   "outputs": []
  },
  {
   "cell_type": "code",
   "execution_count": null,
   "id": "8a9535e0",
   "metadata": {},
   "source": [],
   "outputs": []
  },
  {
   "cell_type": "code",
   "execution_count": null,
   "id": "96b69f47",
   "metadata": {},
   "source": [],
   "outputs": []
  },
  {
   "cell_type": "code",
   "execution_count": null,
   "id": "bb0c3157",
   "metadata": {},
   "source": [],
   "outputs": []
  },
  {
   "cell_type": "code",
   "execution_count": null,
   "id": "c5bc2a74",
   "metadata": {},
   "source": [],
   "outputs": []
  },
  {
   "cell_type": "code",
   "execution_count": null,
   "id": "90bc2f06",
   "metadata": {},
   "source": [],
   "outputs": []
  },
  {
   "cell_type": "code",
   "execution_count": null,
   "id": "fc360c32",
   "metadata": {},
   "source": [],
   "outputs": []
  },
  {
   "cell_type": "code",
   "execution_count": null,
   "id": "e2c564d1",
   "metadata": {},
   "source": [],
   "outputs": []
  },
  {
   "cell_type": "code",
   "execution_count": null,
   "id": "38f6e9eb",
   "metadata": {},
   "source": [],
   "outputs": []
  },
  {
   "cell_type": "code",
   "execution_count": null,
   "id": "593f3bda",
   "metadata": {},
   "source": [],
   "outputs": []
  },
  {
   "cell_type": "code",
   "execution_count": null,
   "id": "8497f662",
   "metadata": {},
   "source": [],
   "outputs": []
  },
  {
   "cell_type": "code",
   "execution_count": null,
   "id": "f297afb4",
   "metadata": {},
   "source": [],
   "outputs": []
  },
  {
   "cell_type": "code",
   "execution_count": null,
   "id": "dd466085",
   "metadata": {},
   "source": [],
   "outputs": []
  },
  {
   "cell_type": "markdown",
   "id": "6f780e05",
   "metadata": {},
   "source": [
    "#### PubMed"
   ]
  },
  {
   "cell_type": "code",
   "execution_count": 55,
   "id": "6fa6c5d1",
   "metadata": {},
   "source": [
    "# Original neighbor, 30min to get the explanations for 100 samples\n",
    "fidelity, node_sparsity_original = load_pgmexplainer('PubMed', 'gcn', 'pgmexplainer')\n",
    "print('Num of nodes: ', len(fidelity))"
   ],
   "outputs": []
  },
  {
   "cell_type": "code",
   "execution_count": 57,
   "id": "fa2127a2",
   "metadata": {},
   "source": [
    "# Reduced neighbor, 48min to get the explanations for 100 samples\n",
    "fidelity, node_sparsity_original = load_pgmexplainer('PubMed', 'gcn', 'pgmexplainer')\n",
    "print('Num of nodes: ', len(fidelity))"
   ],
   "outputs": []
  },
  {
   "cell_type": "code",
   "execution_count": 58,
   "id": "9d02a330",
   "metadata": {},
   "source": [
    "node_sparsity_original = node_sparsity_original[~np.isnan(node_sparsity_original)]\n",
    "np.mean(node_sparsity_original)"
   ],
   "outputs": []
  },
  {
   "cell_type": "code",
   "execution_count": null,
   "id": "4e10ab5a",
   "metadata": {},
   "source": [],
   "outputs": []
  },
  {
   "cell_type": "markdown",
   "id": "320f48bc",
   "metadata": {},
   "source": [
    "### SoftZorro"
   ]
  },
  {
   "cell_type": "markdown",
   "id": "518a9956",
   "metadata": {},
   "source": [
    "1736.182s on Cora"
   ]
  },
  {
   "cell_type": "code",
   "execution_count": 62,
   "id": "a3d2b26b",
   "metadata": {},
   "source": [
    "metric_list = [{'link': (859, 1199), 'true_label': 1.0, 'prediction_with_comp_subgraph': 1, 'fidelity': 0.51, 'fidelity_with_edge_mask': None, 'feature_sparsity': np.nan, 'edge_sparsity': None, 'node_sparsity_converted': None, 'node_sparsity_original': 0.0}, {'link': (88, 2017), 'true_label': 1.0, 'prediction_with_comp_subgraph': 1, 'fidelity': 0.7, 'fidelity_with_edge_mask': None, 'feature_sparsity': np.nan, 'edge_sparsity': None, 'node_sparsity_converted': None, 'node_sparsity_original': np.nan}, {'link': (609, 1041), 'true_label': 1.0, 'prediction_with_comp_subgraph': 1, 'fidelity': 0.48, 'fidelity_with_edge_mask': None, 'feature_sparsity': np.nan, 'edge_sparsity': None, 'node_sparsity_converted': None, 'node_sparsity_original': np.nan}, {'link': (43, 963), 'true_label': 1.0, 'prediction_with_comp_subgraph': 1, 'fidelity': 0.77, 'fidelity_with_edge_mask': None, 'feature_sparsity': np.nan, 'edge_sparsity': None, 'node_sparsity_converted': None, 'node_sparsity_original': np.nan}, {'link': (718, 2059), 'true_label': 1.0, 'prediction_with_comp_subgraph': 1, 'fidelity': 0.59, 'fidelity_with_edge_mask': None, 'feature_sparsity': np.nan, 'edge_sparsity': None, 'node_sparsity_converted': None, 'node_sparsity_original': 0.6931472}, {'link': (1191, 2339), 'true_label': 1.0, 'prediction_with_comp_subgraph': 1, 'fidelity': 0.47, 'fidelity_with_edge_mask': None, 'feature_sparsity': np.nan, 'edge_sparsity': None, 'node_sparsity_converted': None, 'node_sparsity_original': 0.6931472}, {'link': (868, 1526), 'true_label': 1.0, 'prediction_with_comp_subgraph': 1, 'fidelity': 0.65, 'fidelity_with_edge_mask': None, 'feature_sparsity': np.nan, 'edge_sparsity': None, 'node_sparsity_converted': None, 'node_sparsity_original': 0.0}, {'link': (657, 1254), 'true_label': 1.0, 'prediction_with_comp_subgraph': 1, 'fidelity': 0.46, 'fidelity_with_edge_mask': None, 'feature_sparsity': np.nan, 'edge_sparsity': None, 'node_sparsity_converted': None, 'node_sparsity_original': 0.0}, {'link': (1416, 1926), 'true_label': 1.0, 'prediction_with_comp_subgraph': 1, 'fidelity': 0.62, 'fidelity_with_edge_mask': None, 'feature_sparsity': np.nan, 'edge_sparsity': None, 'node_sparsity_converted': None, 'node_sparsity_original': np.nan}, {'link': (108, 2157), 'true_label': 1.0, 'prediction_with_comp_subgraph': 1, 'fidelity': 0.49, 'fidelity_with_edge_mask': None, 'feature_sparsity': np.nan, 'edge_sparsity': None, 'node_sparsity_converted': None, 'node_sparsity_original': 1.0986123}, {'link': (867, 2522), 'true_label': 1.0, 'prediction_with_comp_subgraph': 1, 'fidelity': 0.73, 'fidelity_with_edge_mask': None, 'feature_sparsity': np.nan, 'edge_sparsity': None, 'node_sparsity_converted': None, 'node_sparsity_original': 1.0986123}, {'link': (796, 1358), 'true_label': 1.0, 'prediction_with_comp_subgraph': 1, 'fidelity': 0.4, 'fidelity_with_edge_mask': None, 'feature_sparsity': np.nan, 'edge_sparsity': None, 'node_sparsity_converted': None, 'node_sparsity_original': np.nan}, {'link': (16, 2444), 'true_label': 1.0, 'prediction_with_comp_subgraph': 1, 'fidelity': 0.48, 'fidelity_with_edge_mask': None, 'feature_sparsity': np.nan, 'edge_sparsity': None, 'node_sparsity_converted': None, 'node_sparsity_original': 0.0}, {'link': (1309, 2102), 'true_label': 1.0, 'prediction_with_comp_subgraph': 1, 'fidelity': 0.55, 'fidelity_with_edge_mask': None, 'feature_sparsity': np.nan, 'edge_sparsity': None, 'node_sparsity_converted': None, 'node_sparsity_original': np.nan}, {'link': (218, 1348), 'true_label': 1.0, 'prediction_with_comp_subgraph': 1, 'fidelity': 0.42, 'fidelity_with_edge_mask': None, 'feature_sparsity': np.nan, 'edge_sparsity': None, 'node_sparsity_converted': None, 'node_sparsity_original': 0.0}, {'link': (1810, 1815), 'true_label': 1.0, 'prediction_with_comp_subgraph': 1, 'fidelity': 0.45, 'fidelity_with_edge_mask': None, 'feature_sparsity': np.nan, 'edge_sparsity': None, 'node_sparsity_converted': None, 'node_sparsity_original': np.nan}, {'link': (697, 1080), 'true_label': 1.0, 'prediction_with_comp_subgraph': 0, 'fidelity': 0.51, 'fidelity_with_edge_mask': None, 'feature_sparsity': np.nan, 'edge_sparsity': None, 'node_sparsity_converted': None, 'node_sparsity_original': 1.609438}, {'link': (372, 2377), 'true_label': 1.0, 'prediction_with_comp_subgraph': 1, 'fidelity': 0.5, 'fidelity_with_edge_mask': None, 'feature_sparsity': np.nan, 'edge_sparsity': None, 'node_sparsity_converted': None, 'node_sparsity_original': 0.6931472}, {'link': (1046, 2387), 'true_label': 1.0, 'prediction_with_comp_subgraph': 1, 'fidelity': 0.49, 'fidelity_with_edge_mask': None, 'feature_sparsity': np.nan, 'edge_sparsity': None, 'node_sparsity_converted': None, 'node_sparsity_original': 0.6931472}, {'link': (946, 1966), 'true_label': 1.0, 'prediction_with_comp_subgraph': 1, 'fidelity': 0.55, 'fidelity_with_edge_mask': None, 'feature_sparsity': np.nan, 'edge_sparsity': None, 'node_sparsity_converted': None, 'node_sparsity_original': np.nan}, {'link': (807, 1956), 'true_label': 1.0, 'prediction_with_comp_subgraph': 1, 'fidelity': 0.94, 'fidelity_with_edge_mask': None, 'feature_sparsity': np.nan, 'edge_sparsity': None, 'node_sparsity_converted': None, 'node_sparsity_original': 1.0986123}, {'link': (868, 1844), 'true_label': 1.0, 'prediction_with_comp_subgraph': 1, 'fidelity': 0.67, 'fidelity_with_edge_mask': None, 'feature_sparsity': np.nan, 'edge_sparsity': None, 'node_sparsity_converted': None, 'node_sparsity_original': 0.6931472}, {'link': (1428, 1429), 'true_label': 1.0, 'prediction_with_comp_subgraph': 1, 'fidelity': 0.77, 'fidelity_with_edge_mask': None, 'feature_sparsity': np.nan, 'edge_sparsity': None, 'node_sparsity_converted': None, 'node_sparsity_original': 0.6931472}, {'link': (1070, 1167), 'true_label': 1.0, 'prediction_with_comp_subgraph': 1, 'fidelity': 0.52, 'fidelity_with_edge_mask': None, 'feature_sparsity': np.nan, 'edge_sparsity': None, 'node_sparsity_converted': None, 'node_sparsity_original': np.nan}, {'link': (277, 553), 'true_label': 1.0, 'prediction_with_comp_subgraph': 1, 'fidelity': 0.48, 'fidelity_with_edge_mask': None, 'feature_sparsity': np.nan, 'edge_sparsity': None, 'node_sparsity_converted': None, 'node_sparsity_original': 0.6931472}, {'link': (1451, 2564), 'true_label': 1.0, 'prediction_with_comp_subgraph': 1, 'fidelity': 0.65, 'fidelity_with_edge_mask': None, 'feature_sparsity': np.nan, 'edge_sparsity': None, 'node_sparsity_converted': None, 'node_sparsity_original': 1.0986123}, {'link': (1289, 1622), 'true_label': 1.0, 'prediction_with_comp_subgraph': 1, 'fidelity': 0.42, 'fidelity_with_edge_mask': None, 'feature_sparsity': np.nan, 'edge_sparsity': None, 'node_sparsity_converted': None, 'node_sparsity_original': 0.0}, {'link': (857, 1097), 'true_label': 1.0, 'prediction_with_comp_subgraph': 1, 'fidelity': 0.7, 'fidelity_with_edge_mask': None, 'feature_sparsity': np.nan, 'edge_sparsity': None, 'node_sparsity_converted': None, 'node_sparsity_original': 1.0986123}, {'link': (598, 1100), 'true_label': 1.0, 'prediction_with_comp_subgraph': 1, 'fidelity': 0.52, 'fidelity_with_edge_mask': None, 'feature_sparsity': np.nan, 'edge_sparsity': None, 'node_sparsity_converted': None, 'node_sparsity_original': np.nan}, {'link': (1484, 2383), 'true_label': 1.0, 'prediction_with_comp_subgraph': 1, 'fidelity': 0.62, 'fidelity_with_edge_mask': None, 'feature_sparsity': np.nan, 'edge_sparsity': None, 'node_sparsity_converted': None, 'node_sparsity_original': 1.0986123}, {'link': (80, 2049), 'true_label': 1.0, 'prediction_with_comp_subgraph': 1, 'fidelity': 0.46, 'fidelity_with_edge_mask': None, 'feature_sparsity': np.nan, 'edge_sparsity': None, 'node_sparsity_converted': None, 'node_sparsity_original': 1.0986123}, {'link': (1561, 1623), 'true_label': 1.0, 'prediction_with_comp_subgraph': 1, 'fidelity': 0.47, 'fidelity_with_edge_mask': None, 'feature_sparsity': np.nan, 'edge_sparsity': None, 'node_sparsity_converted': None, 'node_sparsity_original': np.nan}, {'link': (1079, 1218), 'true_label': 1.0, 'prediction_with_comp_subgraph': 1, 'fidelity': 0.52, 'fidelity_with_edge_mask': None, 'feature_sparsity': np.nan, 'edge_sparsity': None, 'node_sparsity_converted': None, 'node_sparsity_original': 0.0}, {'link': (312, 1610), 'true_label': 1.0, 'prediction_with_comp_subgraph': 1, 'fidelity': 0.53, 'fidelity_with_edge_mask': None, 'feature_sparsity': np.nan, 'edge_sparsity': None, 'node_sparsity_converted': None, 'node_sparsity_original': 0.6931472}, {'link': (1070, 1470), 'true_label': 1.0, 'prediction_with_comp_subgraph': 1, 'fidelity': 0.56, 'fidelity_with_edge_mask': None, 'feature_sparsity': np.nan, 'edge_sparsity': None, 'node_sparsity_converted': None, 'node_sparsity_original': np.nan}, {'link': (4, 1761), 'true_label': 1.0, 'prediction_with_comp_subgraph': 1, 'fidelity': 0.87, 'fidelity_with_edge_mask': None, 'feature_sparsity': np.nan, 'edge_sparsity': None, 'node_sparsity_converted': None, 'node_sparsity_original': 0.6931472}, {'link': (890, 1314), 'true_label': 1.0, 'prediction_with_comp_subgraph': 1, 'fidelity': 0.78, 'fidelity_with_edge_mask': None, 'feature_sparsity': np.nan, 'edge_sparsity': None, 'node_sparsity_converted': None, 'node_sparsity_original': 1.3862944}, {'link': (829, 1816), 'true_label': 1.0, 'prediction_with_comp_subgraph': 1, 'fidelity': 0.49, 'fidelity_with_edge_mask': None, 'feature_sparsity': np.nan, 'edge_sparsity': None, 'node_sparsity_converted': None, 'node_sparsity_original': 1.3862944}, {'link': (1085, 2110), 'true_label': 1.0, 'prediction_with_comp_subgraph': 1, 'fidelity': 0.97, 'fidelity_with_edge_mask': None, 'feature_sparsity': np.nan, 'edge_sparsity': None, 'node_sparsity_converted': None, 'node_sparsity_original': 1.609438}, {'link': (598, 1003), 'true_label': 1.0, 'prediction_with_comp_subgraph': 1, 'fidelity': 0.49, 'fidelity_with_edge_mask': None, 'feature_sparsity': np.nan, 'edge_sparsity': None, 'node_sparsity_converted': None, 'node_sparsity_original': np.nan}, {'link': (2281, 2405), 'true_label': 1.0, 'prediction_with_comp_subgraph': 1, 'fidelity': 0.65, 'fidelity_with_edge_mask': None, 'feature_sparsity': np.nan, 'edge_sparsity': None, 'node_sparsity_converted': None, 'node_sparsity_original': np.nan}, {'link': (385, 2484), 'true_label': 1.0, 'prediction_with_comp_subgraph': 1, 'fidelity': 0.85, 'fidelity_with_edge_mask': None, 'feature_sparsity': np.nan, 'edge_sparsity': None, 'node_sparsity_converted': None, 'node_sparsity_original': 0.0}, {'link': (162, 1667), 'true_label': 1.0, 'prediction_with_comp_subgraph': 1, 'fidelity': 0.51, 'fidelity_with_edge_mask': None, 'feature_sparsity': np.nan, 'edge_sparsity': None, 'node_sparsity_converted': None, 'node_sparsity_original': np.nan}, {'link': (1826, 1827), 'true_label': 1.0, 'prediction_with_comp_subgraph': 1, 'fidelity': 0.71, 'fidelity_with_edge_mask': None, 'feature_sparsity': np.nan, 'edge_sparsity': None, 'node_sparsity_converted': None, 'node_sparsity_original': 0.0}, {'link': (1478, 1902), 'true_label': 1.0, 'prediction_with_comp_subgraph': 1, 'fidelity': 0.54, 'fidelity_with_edge_mask': None, 'feature_sparsity': np.nan, 'edge_sparsity': None, 'node_sparsity_converted': None, 'node_sparsity_original': np.nan}, {'link': (1405, 1894), 'true_label': 1.0, 'prediction_with_comp_subgraph': 1, 'fidelity': 0.67, 'fidelity_with_edge_mask': None, 'feature_sparsity': np.nan, 'edge_sparsity': None, 'node_sparsity_converted': None, 'node_sparsity_original': np.nan}, {'link': (1914, 1918), 'true_label': 1.0, 'prediction_with_comp_subgraph': 1, 'fidelity': 0.51, 'fidelity_with_edge_mask': None, 'feature_sparsity': np.nan, 'edge_sparsity': None, 'node_sparsity_converted': None, 'node_sparsity_original': np.nan}, {'link': (2224, 2226), 'true_label': 1.0, 'prediction_with_comp_subgraph': 1, 'fidelity': 0.76, 'fidelity_with_edge_mask': None, 'feature_sparsity': np.nan, 'edge_sparsity': None, 'node_sparsity_converted': None, 'node_sparsity_original': 1.3862944}, {'link': (1952, 2204), 'true_label': 1.0, 'prediction_with_comp_subgraph': 1, 'fidelity': 0.57, 'fidelity_with_edge_mask': None, 'feature_sparsity': np.nan, 'edge_sparsity': None, 'node_sparsity_converted': None, 'node_sparsity_original': 0.6931472}, {'link': (1742, 1758), 'true_label': 1.0, 'prediction_with_comp_subgraph': 1, 'fidelity': 0.68, 'fidelity_with_edge_mask': None, 'feature_sparsity': np.nan, 'edge_sparsity': None, 'node_sparsity_converted': None, 'node_sparsity_original': np.nan}, {'link': (1896, 1897), 'true_label': 1.0, 'prediction_with_comp_subgraph': 1, 'fidelity': 0.64, 'fidelity_with_edge_mask': None, 'feature_sparsity': np.nan, 'edge_sparsity': None, 'node_sparsity_converted': None, 'node_sparsity_original': 1.0986123}, {'link': (2246, 2247), 'true_label': 1.0, 'prediction_with_comp_subgraph': 1, 'fidelity': 0.57, 'fidelity_with_edge_mask': None, 'feature_sparsity': np.nan, 'edge_sparsity': None, 'node_sparsity_converted': None, 'node_sparsity_original': 1.0986123}, {'link': (381, 2518), 'true_label': 1.0, 'prediction_with_comp_subgraph': 1, 'fidelity': 0.73, 'fidelity_with_edge_mask': None, 'feature_sparsity': np.nan, 'edge_sparsity': None, 'node_sparsity_converted': None, 'node_sparsity_original': 1.3862944}, {'link': (1358, 1733), 'true_label': 1.0, 'prediction_with_comp_subgraph': 1, 'fidelity': 0.38, 'fidelity_with_edge_mask': None, 'feature_sparsity': np.nan, 'edge_sparsity': None, 'node_sparsity_converted': None, 'node_sparsity_original': np.nan}, {'link': (1408, 1829), 'true_label': 1.0, 'prediction_with_comp_subgraph': 1, 'fidelity': 0.65, 'fidelity_with_edge_mask': None, 'feature_sparsity': np.nan, 'edge_sparsity': None, 'node_sparsity_converted': None, 'node_sparsity_original': 0.6931472}, {'link': (1202, 2376), 'true_label': 1.0, 'prediction_with_comp_subgraph': 1, 'fidelity': 0.6, 'fidelity_with_edge_mask': None, 'feature_sparsity': np.nan, 'edge_sparsity': None, 'node_sparsity_converted': None, 'node_sparsity_original': 0.6931472}, {'link': (728, 1296), 'true_label': 1.0, 'prediction_with_comp_subgraph': 1, 'fidelity': 0.52, 'fidelity_with_edge_mask': None, 'feature_sparsity': np.nan, 'edge_sparsity': None, 'node_sparsity_converted': None, 'node_sparsity_original': 1.0986123}, {'link': (2128, 2129), 'true_label': 1.0, 'prediction_with_comp_subgraph': 1, 'fidelity': 0.84, 'fidelity_with_edge_mask': None, 'feature_sparsity': np.nan, 'edge_sparsity': None, 'node_sparsity_converted': None, 'node_sparsity_original': 1.0986123}, {'link': (901, 2199), 'true_label': 1.0, 'prediction_with_comp_subgraph': 1, 'fidelity': 0.55, 'fidelity_with_edge_mask': None, 'feature_sparsity': np.nan, 'edge_sparsity': None, 'node_sparsity_converted': None, 'node_sparsity_original': np.nan}, {'link': (89, 1401), 'true_label': 1.0, 'prediction_with_comp_subgraph': 1, 'fidelity': 0.67, 'fidelity_with_edge_mask': None, 'feature_sparsity': np.nan, 'edge_sparsity': None, 'node_sparsity_converted': None, 'node_sparsity_original': 1.0986123}, {'link': (778, 1370), 'true_label': 1.0, 'prediction_with_comp_subgraph': 1, 'fidelity': 0.54, 'fidelity_with_edge_mask': None, 'feature_sparsity': np.nan, 'edge_sparsity': None, 'node_sparsity_converted': None, 'node_sparsity_original': np.nan}, {'link': (627, 2238), 'true_label': 1.0, 'prediction_with_comp_subgraph': 1, 'fidelity': 0.47, 'fidelity_with_edge_mask': None, 'feature_sparsity': np.nan, 'edge_sparsity': None, 'node_sparsity_converted': None, 'node_sparsity_original': np.nan}, {'link': (447, 1849), 'true_label': 1.0, 'prediction_with_comp_subgraph': 1, 'fidelity': 0.79, 'fidelity_with_edge_mask': None, 'feature_sparsity': np.nan, 'edge_sparsity': None, 'node_sparsity_converted': None, 'node_sparsity_original': 0.0}, {'link': (133, 452), 'true_label': 1.0, 'prediction_with_comp_subgraph': 1, 'fidelity': 0.64, 'fidelity_with_edge_mask': None, 'feature_sparsity': np.nan, 'edge_sparsity': None, 'node_sparsity_converted': None, 'node_sparsity_original': np.nan}, {'link': (69, 1920), 'true_label': 1.0, 'prediction_with_comp_subgraph': 1, 'fidelity': 0.63, 'fidelity_with_edge_mask': None, 'feature_sparsity': np.nan, 'edge_sparsity': None, 'node_sparsity_converted': None, 'node_sparsity_original': np.nan}, {'link': (226, 1701), 'true_label': 1.0, 'prediction_with_comp_subgraph': 1, 'fidelity': 0.55, 'fidelity_with_edge_mask': None, 'feature_sparsity': np.nan, 'edge_sparsity': None, 'node_sparsity_converted': None, 'node_sparsity_original': np.nan}, {'link': (155, 817), 'true_label': 1.0, 'prediction_with_comp_subgraph': 1, 'fidelity': 0.9, 'fidelity_with_edge_mask': None, 'feature_sparsity': np.nan, 'edge_sparsity': None, 'node_sparsity_converted': None, 'node_sparsity_original': np.nan}, {'link': (1120, 1583), 'true_label': 1.0, 'prediction_with_comp_subgraph': 1, 'fidelity': 0.58, 'fidelity_with_edge_mask': None, 'feature_sparsity': np.nan, 'edge_sparsity': None, 'node_sparsity_converted': None, 'node_sparsity_original': np.nan}, {'link': (1050, 2563), 'true_label': 1.0, 'prediction_with_comp_subgraph': 1, 'fidelity': 0.75, 'fidelity_with_edge_mask': None, 'feature_sparsity': np.nan, 'edge_sparsity': None, 'node_sparsity_converted': None, 'node_sparsity_original': 0.0}, {'link': (727, 2570), 'true_label': 1.0, 'prediction_with_comp_subgraph': 1, 'fidelity': 0.69, 'fidelity_with_edge_mask': None, 'feature_sparsity': np.nan, 'edge_sparsity': None, 'node_sparsity_converted': None, 'node_sparsity_original': 0.6931472}, {'link': (957, 1557), 'true_label': 1.0, 'prediction_with_comp_subgraph': 1, 'fidelity': 0.73, 'fidelity_with_edge_mask': None, 'feature_sparsity': np.nan, 'edge_sparsity': None, 'node_sparsity_converted': None, 'node_sparsity_original': np.nan}, {'link': (167, 1056), 'true_label': 1.0, 'prediction_with_comp_subgraph': 1, 'fidelity': 0.43, 'fidelity_with_edge_mask': None, 'feature_sparsity': np.nan, 'edge_sparsity': None, 'node_sparsity_converted': None, 'node_sparsity_original': 0.0}, {'link': (484, 1367), 'true_label': 1.0, 'prediction_with_comp_subgraph': 1, 'fidelity': 0.52, 'fidelity_with_edge_mask': None, 'feature_sparsity': np.nan, 'edge_sparsity': None, 'node_sparsity_converted': None, 'node_sparsity_original': np.nan}, {'link': (1224, 1526), 'true_label': 1.0, 'prediction_with_comp_subgraph': 1, 'fidelity': 0.41, 'fidelity_with_edge_mask': None, 'feature_sparsity': np.nan, 'edge_sparsity': None, 'node_sparsity_converted': None, 'node_sparsity_original': np.nan}, {'link': (598, 1299), 'true_label': 1.0, 'prediction_with_comp_subgraph': 1, 'fidelity': 0.43, 'fidelity_with_edge_mask': None, 'feature_sparsity': np.nan, 'edge_sparsity': None, 'node_sparsity_converted': None, 'node_sparsity_original': np.nan}, {'link': (1842, 2405), 'true_label': 1.0, 'prediction_with_comp_subgraph': 1, 'fidelity': 0.88, 'fidelity_with_edge_mask': None, 'feature_sparsity': np.nan, 'edge_sparsity': None, 'node_sparsity_converted': None, 'node_sparsity_original': 0.0}, {'link': (609, 2446), 'true_label': 1.0, 'prediction_with_comp_subgraph': 1, 'fidelity': 0.64, 'fidelity_with_edge_mask': None, 'feature_sparsity': np.nan, 'edge_sparsity': None, 'node_sparsity_converted': None, 'node_sparsity_original': np.nan}, {'link': (122, 2455), 'true_label': 1.0, 'prediction_with_comp_subgraph': 1, 'fidelity': 0.92, 'fidelity_with_edge_mask': None, 'feature_sparsity': np.nan, 'edge_sparsity': None, 'node_sparsity_converted': None, 'node_sparsity_original': 0.6931472}, {'link': (117, 2537), 'true_label': 1.0, 'prediction_with_comp_subgraph': 1, 'fidelity': 0.55, 'fidelity_with_edge_mask': None, 'feature_sparsity': np.nan, 'edge_sparsity': None, 'node_sparsity_converted': None, 'node_sparsity_original': np.nan}, {'link': (2227, 2228), 'true_label': 1.0, 'prediction_with_comp_subgraph': 1, 'fidelity': 0.49, 'fidelity_with_edge_mask': None, 'feature_sparsity': np.nan, 'edge_sparsity': None, 'node_sparsity_converted': None, 'node_sparsity_original': np.nan}, {'link': (306, 2086), 'true_label': 1.0, 'prediction_with_comp_subgraph': 1, 'fidelity': 0.44, 'fidelity_with_edge_mask': None, 'feature_sparsity': np.nan, 'edge_sparsity': None, 'node_sparsity_converted': None, 'node_sparsity_original': np.nan}, {'link': (175, 2388), 'true_label': 1.0, 'prediction_with_comp_subgraph': 1, 'fidelity': 0.58, 'fidelity_with_edge_mask': None, 'feature_sparsity': np.nan, 'edge_sparsity': None, 'node_sparsity_converted': None, 'node_sparsity_original': 0.0}, {'link': (218, 2119), 'true_label': 1.0, 'prediction_with_comp_subgraph': 1, 'fidelity': 0.51, 'fidelity_with_edge_mask': None, 'feature_sparsity': np.nan, 'edge_sparsity': None, 'node_sparsity_converted': None, 'node_sparsity_original': np.nan}, {'link': (910, 2085), 'true_label': 1.0, 'prediction_with_comp_subgraph': 1, 'fidelity': 0.66, 'fidelity_with_edge_mask': None, 'feature_sparsity': np.nan, 'edge_sparsity': None, 'node_sparsity_converted': None, 'node_sparsity_original': np.nan}, {'link': (598, 637), 'true_label': 1.0, 'prediction_with_comp_subgraph': 1, 'fidelity': 0.57, 'fidelity_with_edge_mask': None, 'feature_sparsity': np.nan, 'edge_sparsity': None, 'node_sparsity_converted': None, 'node_sparsity_original': np.nan}, {'link': (489, 2391), 'true_label': 1.0, 'prediction_with_comp_subgraph': 1, 'fidelity': 0.83, 'fidelity_with_edge_mask': None, 'feature_sparsity': np.nan, 'edge_sparsity': None, 'node_sparsity_converted': None, 'node_sparsity_original': np.nan}, {'link': (963, 1703), 'true_label': 1.0, 'prediction_with_comp_subgraph': 1, 'fidelity': 0.52, 'fidelity_with_edge_mask': None, 'feature_sparsity': np.nan, 'edge_sparsity': None, 'node_sparsity_converted': None, 'node_sparsity_original': np.nan}, {'link': (688, 1257), 'true_label': 1.0, 'prediction_with_comp_subgraph': 1, 'fidelity': 0.69, 'fidelity_with_edge_mask': None, 'feature_sparsity': np.nan, 'edge_sparsity': None, 'node_sparsity_converted': None, 'node_sparsity_original': 0.0}, {'link': (240, 1692), 'true_label': 1.0, 'prediction_with_comp_subgraph': 1, 'fidelity': 0.75, 'fidelity_with_edge_mask': None, 'feature_sparsity': np.nan, 'edge_sparsity': None, 'node_sparsity_converted': None, 'node_sparsity_original': np.nan}, {'link': (45, 2667), 'true_label': 1.0, 'prediction_with_comp_subgraph': 1, 'fidelity': 0.7, 'fidelity_with_edge_mask': None, 'feature_sparsity': np.nan, 'edge_sparsity': None, 'node_sparsity_converted': None, 'node_sparsity_original': np.nan}, {'link': (518, 666), 'true_label': 1.0, 'prediction_with_comp_subgraph': 1, 'fidelity': 0.59, 'fidelity_with_edge_mask': None, 'feature_sparsity': np.nan, 'edge_sparsity': None, 'node_sparsity_converted': None, 'node_sparsity_original': np.nan}, {'link': (109, 306), 'true_label': 1.0, 'prediction_with_comp_subgraph': 1, 'fidelity': 0.82, 'fidelity_with_edge_mask': None, 'feature_sparsity': np.nan, 'edge_sparsity': None, 'node_sparsity_converted': None, 'node_sparsity_original': np.nan}, {'link': (2025, 2026), 'true_label': 1.0, 'prediction_with_comp_subgraph': 1, 'fidelity': 0.51, 'fidelity_with_edge_mask': None, 'feature_sparsity': np.nan, 'edge_sparsity': None, 'node_sparsity_converted': None, 'node_sparsity_original': np.nan}]\n"
   ],
   "outputs": []
  },
  {
   "cell_type": "code",
   "execution_count": 64,
   "id": "4a516b2d",
   "metadata": {},
   "source": [
    "fidelity = np.array([r['fidelity'] for r in metric_list])\n",
    "feature_sparsity = np.array([r['feature_sparsity'] for r in metric_list])\n",
    "node_sparsity_original = np.array([r['node_sparsity_original'] for r in metric_list])\n",
    "\n",
    "print('fidelity: ', calculate_mean_std(fidelity))\n",
    "print('feature_sparsity: ', calculate_mean_std(feature_sparsity))\n",
    "print('node_sparsity_original: ', calculate_mean_std(node_sparsity_original))"
   ],
   "outputs": []
  },
  {
   "cell_type": "code",
   "execution_count": 66,
   "id": "2ca9ca44",
   "metadata": {
    "scrolled": true
   },
   "source": [
    "node_sparsity_original"
   ],
   "outputs": []
  },
  {
   "cell_type": "code",
   "execution_count": null,
   "id": "50402399",
   "metadata": {},
   "source": [],
   "outputs": []
  },
  {
   "cell_type": "code",
   "execution_count": null,
   "id": "e4c46546",
   "metadata": {},
   "source": [],
   "outputs": []
  },
  {
   "cell_type": "code",
   "execution_count": null,
   "id": "69bae76e",
   "metadata": {},
   "source": [],
   "outputs": []
  },
  {
   "cell_type": "code",
   "execution_count": null,
   "id": "56add611",
   "metadata": {},
   "source": [],
   "outputs": []
  },
  {
   "cell_type": "code",
   "execution_count": null,
   "id": "115495e9",
   "metadata": {},
   "source": [],
   "outputs": []
  },
  {
   "cell_type": "code",
   "execution_count": null,
   "id": "f53e5416",
   "metadata": {},
   "source": [
    "# PubMed\n",
    "# fidelity_with_edge_mask using bernoulli_whole as the noise"
   ],
   "outputs": []
  },
  {
   "cell_type": "code",
   "execution_count": 13,
   "id": "478ec5db",
   "metadata": {},
   "source": [
    "fidelity = load_metrics('PubMed', 'gcn', 'gnnexplainer')\n",
    "print('Num of nodes: ', len(fidelity))"
   ],
   "outputs": []
  },
  {
   "cell_type": "code",
   "execution_count": 14,
   "id": "aaf4ea4c",
   "metadata": {},
   "source": [
    "fidelity = load_metrics('PubMed', 'gcn', 'ig')\n",
    "print('Num of nodes: ', len(fidelity))"
   ],
   "outputs": []
  },
  {
   "cell_type": "code",
   "execution_count": 15,
   "id": "a49b4f53",
   "metadata": {},
   "source": [
    "fidelity = load_metrics('PubMed', 'gcn', 'deconvolution')\n",
    "print('Num of nodes: ', len(fidelity))"
   ],
   "outputs": []
  },
  {
   "cell_type": "code",
   "execution_count": null,
   "id": "81a512d3",
   "metadata": {},
   "source": [],
   "outputs": []
  },
  {
   "cell_type": "code",
   "execution_count": null,
   "id": "c5b64293",
   "metadata": {},
   "source": [],
   "outputs": []
  },
  {
   "cell_type": "markdown",
   "id": "fed9985c-eeaa-43b9-9c90-ccb8b7478d26",
   "metadata": {},
   "source": [
    "### GNNExplainer"
   ]
  },
  {
   "cell_type": "markdown",
   "id": "e00acce6",
   "metadata": {},
   "source": [
    "#### PubMed"
   ]
  },
  {
   "cell_type": "code",
   "execution_count": 10,
   "id": "77b2b973",
   "metadata": {},
   "source": [
    "# use all features, only perturb the edge masks\n",
    "fidelity = load_metrics('PubMed', 'gcn', 'gnnexplainer')\n",
    "print('Num of nodes: ', len(fidelity))"
   ],
   "outputs": []
  },
  {
   "cell_type": "code",
   "execution_count": null,
   "id": "e4d6eb80",
   "metadata": {},
   "source": [],
   "outputs": []
  },
  {
   "cell_type": "markdown",
   "id": "418b5694",
   "metadata": {},
   "source": [
    "#### Cora"
   ]
  },
  {
   "cell_type": "markdown",
   "id": "13a5bb17-1921-4580-b793-0044efa6c378",
   "metadata": {},
   "source": [
    "Despite drastic changes in edge masks (different noise types), the influence on final RDT-Fideility is minor.\n",
    "This indicates that edge masks may not be as important as feature masks.\n",
    "\n",
    "While using all features and only perturb the edge masks, the edge-level fidelity still achieves 0.9667."
   ]
  },
  {
   "cell_type": "code",
   "execution_count": 47,
   "id": "6e6c0223-0706-4028-9815-44c6273dae45",
   "metadata": {},
   "source": [
    "# use all features, only perturb the edge masks\n",
    "fidelity = load_metrics('cora', 'gcn', 'gnnexplainer')\n",
    "print('Num of nodes: ', len(fidelity))"
   ],
   "outputs": []
  },
  {
   "cell_type": "code",
   "execution_count": 46,
   "id": "08e10a37-cd4e-4855-8765-e5cb4a8b04f9",
   "metadata": {},
   "source": [
    "# edge mask all 1s, using all edges equally, perturb the features\n",
    "# edge weights all 1s, no edge noise\n",
    "fidelity = load_metrics('cora', 'gcn', 'gnnexplainer')\n",
    "print('Num of nodes: ', len(fidelity))"
   ],
   "outputs": []
  },
  {
   "cell_type": "code",
   "execution_count": null,
   "id": "6bb48886-5229-4c90-8810-44b02d0fc434",
   "metadata": {},
   "source": [],
   "outputs": []
  },
  {
   "cell_type": "code",
   "execution_count": 54,
   "id": "074fe93d-0377-435b-aa5e-401c3e39a703",
   "metadata": {},
   "source": [
    "# bernoulli, computation 最新 1.25\n",
    "fidelity = load_metrics('cora', 'gcn', 'gnnexplainer')\n",
    "print('Num of nodes: ', len(fidelity))"
   ],
   "outputs": []
  },
  {
   "cell_type": "code",
   "execution_count": 52,
   "id": "8ee698c4-c0e6-4d77-a4ce-0603126b1c8b",
   "metadata": {},
   "source": [
    "# bernoulli, whole 最新 1.25\n",
    "fidelity = load_metrics('cora', 'gcn', 'gnnexplainer')\n",
    "print('Num of nodes: ', len(fidelity))"
   ],
   "outputs": []
  },
  {
   "cell_type": "code",
   "execution_count": 55,
   "id": "877b4344-9049-4974-b3a9-b68941025d4c",
   "metadata": {},
   "source": [
    "# kde, fitted on 1 - mask 最新 1.25\n",
    "fidelity = load_metrics('cora', 'gcn', 'gnnexplainer')\n",
    "print('Num of nodes: ', len(fidelity))"
   ],
   "outputs": []
  },
  {
   "cell_type": "code",
   "execution_count": 40,
   "id": "aa177f56-3bd9-4d3a-8657-f7b40dac2562",
   "metadata": {},
   "source": [
    "# kde, fitted on mask 最新 1.25\n",
    "fidelity = load_metrics('cora', 'gcn', 'gnnexplainer')\n",
    "print('Num of nodes: ', len(fidelity))"
   ],
   "outputs": []
  },
  {
   "cell_type": "code",
   "execution_count": 5,
   "id": "c33d54b4-fab4-4454-bc83-09b61b950a05",
   "metadata": {},
   "source": [
    "# 1.28 概率为1/2\n",
    "fidelity = load_metrics('cora', 'gcn', 'gnnexplainer')\n",
    "print('Num of nodes: ', len(fidelity))"
   ],
   "outputs": []
  },
  {
   "cell_type": "code",
   "execution_count": 56,
   "id": "30e3dc96-8edf-46a3-898a-9e0466af0aef",
   "metadata": {},
   "source": [
    "# 高斯噪声\n",
    "# import torch\n",
    "\n",
    "# np.random.seed(12345)\n",
    "# noise = np.random.normal(0, 0.5, size=(100, 96))\n",
    "# noise"
   ],
   "outputs": []
  },
  {
   "cell_type": "code",
   "execution_count": 29,
   "id": "e6d91607-2327-4202-b04c-3884af011f46",
   "metadata": {},
   "source": [
    "noise.shape"
   ],
   "outputs": []
  },
  {
   "cell_type": "markdown",
   "id": "c6e63358-7ab1-45ee-b9f1-a881aeccc9e7",
   "metadata": {},
   "source": [
    "### IG"
   ]
  },
  {
   "cell_type": "code",
   "execution_count": 57,
   "id": "3bd5f898-64fd-4b90-8c5e-4b3bf8b516af",
   "metadata": {},
   "source": [
    "# kde, fitted on 1 - mask 最新 1.25\n",
    "fidelity = load_metrics('cora', 'gcn', 'ig')\n",
    "print('Num of nodes: ', len(fidelity))"
   ],
   "outputs": []
  },
  {
   "cell_type": "code",
   "execution_count": 58,
   "id": "56988c0e-ceda-4bba-8b12-0b8d699b6020",
   "metadata": {},
   "source": [
    "# kde, fitted on mask 最新 1.25\n",
    "fidelity = load_metrics('cora', 'gcn', 'ig')\n",
    "print('Num of nodes: ', len(fidelity))"
   ],
   "outputs": []
  },
  {
   "cell_type": "code",
   "execution_count": 59,
   "id": "ebd30f9c-4020-4910-9bbc-e78d17914619",
   "metadata": {},
   "source": [
    "# bernoulli, whole 最新 1.25\n",
    "fidelity = load_metrics('cora', 'gcn', 'ig')\n",
    "print('Num of nodes: ', len(fidelity))"
   ],
   "outputs": []
  },
  {
   "cell_type": "code",
   "execution_count": 60,
   "id": "72e3cfc5-5277-4818-a3da-bb8fe2323f9a",
   "metadata": {},
   "source": [
    "# bernoulli, computation 最新 1.25\n",
    "fidelity = load_metrics('cora', 'gcn', 'ig')\n",
    "print('Num of nodes: ', len(fidelity))"
   ],
   "outputs": []
  },
  {
   "cell_type": "code",
   "execution_count": 6,
   "id": "6ed44d46-f2bc-4100-adc2-9818b2839b0d",
   "metadata": {},
   "source": [
    "# 1.28 概率为1/2\n",
    "fidelity = load_metrics('cora', 'gcn', 'ig')\n",
    "print('Num of nodes: ', len(fidelity))"
   ],
   "outputs": []
  },
  {
   "cell_type": "markdown",
   "id": "0fb67884-3587-4ac2-8373-2871fc2b6795",
   "metadata": {},
   "source": [
    "### Deconvolution"
   ]
  },
  {
   "cell_type": "code",
   "execution_count": 61,
   "id": "ca198860-a783-48cd-ab81-f0d204a6f06f",
   "metadata": {},
   "source": [
    "# bernoulli, computation 最新 1.25\n",
    "fidelity = load_metrics('cora', 'gcn', 'deconvolution')\n",
    "print('Num of nodes: ', len(fidelity))"
   ],
   "outputs": []
  },
  {
   "cell_type": "code",
   "execution_count": 62,
   "id": "5e0ffc5f-35af-4055-be11-376f017c59fb",
   "metadata": {},
   "source": [
    "# bernoulli, whole 最新 1.25\n",
    "fidelity = load_metrics('cora', 'gcn', 'deconvolution')\n",
    "print('Num of nodes: ', len(fidelity))"
   ],
   "outputs": []
  },
  {
   "cell_type": "code",
   "execution_count": 63,
   "id": "aa1b5e0f-9438-461f-bd19-7c659034577f",
   "metadata": {},
   "source": [
    "# kde, fitted on mask 最新 1.25\n",
    "fidelity = load_metrics('cora', 'gcn', 'deconvolution')\n",
    "print('Num of nodes: ', len(fidelity))"
   ],
   "outputs": []
  },
  {
   "cell_type": "code",
   "execution_count": 64,
   "id": "b439a68e-9bc6-4467-af39-3be0c372ce62",
   "metadata": {},
   "source": [
    "# kde, fitted on 1 - mask 最新 1.25\n",
    "fidelity = load_metrics('cora', 'gcn', 'deconvolution')\n",
    "print('Num of nodes: ', len(fidelity))"
   ],
   "outputs": []
  },
  {
   "cell_type": "code",
   "execution_count": 7,
   "id": "d0f3c5b3-8c7f-4361-afe8-0f7ef69d8b00",
   "metadata": {},
   "source": [
    "# 1.28 概率为1/2\n",
    "fidelity = load_metrics('cora', 'gcn', 'deconvolution')\n",
    "print('Num of nodes: ', len(fidelity))"
   ],
   "outputs": []
  },
  {
   "cell_type": "markdown",
   "id": "02d5ef87-6afc-4dfd-b67b-7a11ea29117d",
   "metadata": {},
   "source": [
    "### Empty"
   ]
  },
  {
   "cell_type": "markdown",
   "id": "c8cc1aaf-c947-4a65-b014-6e2a8461542d",
   "metadata": {},
   "source": [
    "All same since we use fixed value as random seed.\n",
    "\n",
    "Empty explanation: edge mask and feature mask all 0s.\n",
    "\n",
    "1. Original RDT-Fidelity:\n",
    "   pertrubed input: only use random values for all features\n",
    "2. RDT-Fidelity with edge mask:\n",
    "   perturbed edge importance: only use random noise as feature importance"
   ]
  },
  {
   "cell_type": "code",
   "execution_count": 65,
   "id": "acf29a0d-4c12-4726-a8bc-26f204e6ba1d",
   "metadata": {},
   "source": [
    "# kde, fitted on 1 - mask 最新 1.25\n",
    "fidelity = load_metrics('cora', 'gcn', 'empty')\n",
    "print('Num of nodes: ', len(fidelity))"
   ],
   "outputs": []
  },
  {
   "cell_type": "code",
   "execution_count": 8,
   "id": "8acca208-1c07-42eb-bc46-76e4335af7d6",
   "metadata": {},
   "source": [
    "# kde, fitted on 1 - mask 最新 1.25\n",
    "fidelity = load_metrics('cora', 'gcn', 'empty')\n",
    "print('Num of nodes: ', len(fidelity))"
   ],
   "outputs": []
  },
  {
   "cell_type": "code",
   "execution_count": null,
   "id": "1df3f5f7-90f4-471f-bf38-80204963221d",
   "metadata": {},
   "source": [],
   "outputs": []
  },
  {
   "cell_type": "code",
   "execution_count": null,
   "id": "14e7c4b2-4094-4717-b66b-596b2bc47aed",
   "metadata": {},
   "source": [],
   "outputs": []
  },
  {
   "cell_type": "code",
   "execution_count": null,
   "id": "c5a37dbb-cd2b-4cd2-8c18-af3005ebbc40",
   "metadata": {},
   "source": [],
   "outputs": []
  },
  {
   "cell_type": "code",
   "execution_count": null,
   "id": "c29fd528-a37b-4357-9b3a-e149f78753e9",
   "metadata": {},
   "source": [],
   "outputs": []
  },
  {
   "cell_type": "code",
   "execution_count": null,
   "id": "f95e88d5-100e-42b4-bf27-19fb3c857856",
   "metadata": {},
   "source": [],
   "outputs": []
  },
  {
   "cell_type": "code",
   "execution_count": null,
   "id": "6548eb7d-6423-471a-8424-5b0474f19c14",
   "metadata": {},
   "source": [],
   "outputs": []
  },
  {
   "cell_type": "code",
   "execution_count": 5,
   "id": "8d6dce6b-78cb-46bc-9f9f-98f6a96d320a",
   "metadata": {},
   "source": [
    "# # bernoulli, computation\n",
    "# fidelity = load_metrics('cora', 'gcn', 'gnnexplainer')\n",
    "# print('Num of nodes: ', len(fidelity_list))"
   ],
   "outputs": []
  },
  {
   "cell_type": "code",
   "execution_count": 4,
   "id": "68c33a93-fb80-4ad0-baef-21b8110bfa5b",
   "metadata": {},
   "source": [
    "# bernoulli, whole\n",
    "fidelity = load_metrics('cora', 'gcn', 'gnnexplainer')\n",
    "print('Num of nodes: ', len(fidelity))"
   ],
   "outputs": []
  },
  {
   "cell_type": "code",
   "execution_count": 6,
   "id": "520e26e4-bc9a-4f70-8aa1-7bea327253e3",
   "metadata": {},
   "source": [
    "# kde, fitted on mask\n",
    "fidelity = load_metrics('cora', 'gcn', 'gnnexplainer')\n",
    "print('Num of nodes: ', len(fidelity))"
   ],
   "outputs": []
  },
  {
   "cell_type": "code",
   "execution_count": null,
   "id": "5976dfb8-e015-4fbb-8de0-661905b0d084",
   "metadata": {},
   "source": [
    "# kde, fitted on 1-mask\n"
   ],
   "outputs": []
  },
  {
   "cell_type": "code",
   "execution_count": null,
   "id": "c140d8b8-01ff-48b5-8677-0fc809563bdb",
   "metadata": {},
   "source": [],
   "outputs": []
  },
  {
   "cell_type": "code",
   "execution_count": 129,
   "id": "38a25f3e-6676-419b-86fb-4bd097a89c0b",
   "metadata": {},
   "source": [
    "fidelity = load_metrics('cora', 'gcn', 'ig')\n",
    "print('Num of nodes: ', len(fidelity_list))"
   ],
   "outputs": []
  },
  {
   "cell_type": "code",
   "execution_count": 130,
   "id": "96c6826f-c8c4-4ea5-bfb4-84c1630d8602",
   "metadata": {},
   "source": [
    "fidelity = load_metrics('cora', 'gcn', 'deconvolution')\n",
    "print('Num of nodes: ', len(fidelity_list))"
   ],
   "outputs": []
  },
  {
   "cell_type": "code",
   "execution_count": 131,
   "id": "744171a6-48cf-4af3-b4a0-4b91aa6d10dc",
   "metadata": {},
   "source": [
    "# cora, gcn, gnnexplainer\n",
    "fidelity = load_metrics('cora', 'gcn', 'empty')\n",
    "print('Num of nodes: ', len(fidelity_list))"
   ],
   "outputs": []
  },
  {
   "cell_type": "code",
   "execution_count": null,
   "id": "fb00c06d-e22b-4d72-a8a4-f8a2880c93f8",
   "metadata": {},
   "source": [],
   "outputs": []
  },
  {
   "cell_type": "code",
   "execution_count": null,
   "id": "ab219ebb-6b2f-449c-97d1-f00f8fca1d95",
   "metadata": {},
   "source": [],
   "outputs": []
  },
  {
   "cell_type": "code",
   "execution_count": null,
   "id": "81cab771-235f-4f82-8116-94697b9e4ccb",
   "metadata": {},
   "source": [],
   "outputs": []
  },
  {
   "cell_type": "code",
   "execution_count": null,
   "id": "a7b218c8-c2cc-4207-bc0d-9e728d8471b7",
   "metadata": {},
   "source": [],
   "outputs": []
  },
  {
   "cell_type": "code",
   "execution_count": 48,
   "id": "ca065b88-45cc-4257-9df9-0482fae7b699",
   "metadata": {},
   "source": [
    "# cora_gcn_gnnexplainer\n",
    "fidelity_cora_gcn_gnnexplainer, validity_cora_gcn_gnnexplainer, \\\n",
    "feature_sparsity_cora_gcn_gnnexplainer, node_sparsity_cora_gcn_gnnexplainer = load_metrics('cora', 'gcn', 'gnnexplainer')\n",
    "print('Num of nodes: ', len(fidelity_cora_gcn_gnnexplainer))"
   ],
   "outputs": []
  },
  {
   "cell_type": "code",
   "execution_count": 50,
   "id": "93fc2861-e7d3-4c62-8ccf-0729694cf4ba",
   "metadata": {},
   "source": [
    "# cora_gcn_ig\n",
    "fidelity_cora_gcn_ig, validity_cora_gcn_ig, \\\n",
    "feature_sparsity_cora_gcn_ig, node_sparsity_cora_gcn_ig = load_metrics('cora', 'gcn', 'ig')\n",
    "print('Num of nodes: ', len(fidelity_cora_gcn_ig))"
   ],
   "outputs": []
  },
  {
   "cell_type": "code",
   "execution_count": 51,
   "id": "5cf5e056-bcbe-4cfd-b72b-ad8c1d931854",
   "metadata": {},
   "source": [
    "# cora_gcn_deconvolution\n",
    "fidelity_cora_gcn_deconvolution, validity_cora_gcn_deconvolution, \\\n",
    "feature_sparsity_cora_gcn_deconvolution, node_sparsity_cora_gcn_deconvolution = load_metrics('cora', 'gcn', 'deconvolution')\n",
    "print('Num of nodes: ', len(fidelity_cora_gcn_deconvolution))"
   ],
   "outputs": []
  },
  {
   "cell_type": "code",
   "execution_count": 54,
   "id": "f6d9eae8-be27-4c29-83a3-a0063b304528",
   "metadata": {},
   "source": [
    "# cora_gcn_grad\n",
    "fidelity_cora_gcn_grad, validity_cora_gcn_grad, \\\n",
    "feature_sparsity_cora_gcn_grad, node_sparsity_cora_gcn_grad = load_metrics('cora', 'gcn', 'grad')\n",
    "print('Num of nodes: ', len(fidelity_cora_gcn_grad))"
   ],
   "outputs": []
  },
  {
   "cell_type": "code",
   "execution_count": 63,
   "id": "3baecb59-e00d-405b-966c-67e7a4943987",
   "metadata": {},
   "source": [
    "# cora_gcn_empty\n",
    "fidelity_cora_gcn_empty, validity_cora_gcn_empty = load_fidelity_validity('cora', 'gcn', 'empty')\n",
    "print('Num of nodes: ', len(fidelity_cora_gcn_empty))"
   ],
   "outputs": []
  },
  {
   "cell_type": "code",
   "execution_count": null,
   "id": "dc247714-3f61-4a08-a4fc-3e52bc3f6a04",
   "metadata": {},
   "source": [],
   "outputs": []
  },
  {
   "cell_type": "code",
   "execution_count": 53,
   "id": "99707063-be03-4cd5-a90a-9f3036cc0fbe",
   "metadata": {},
   "source": [
    "# cora_gin_gnnexplainer\n",
    "fidelity_cora_gin_gnnexplainer, validity_cora_gin_gnnexplainer, \\\n",
    "feature_sparsity_cora_gin_gnnexplainer, node_sparsity_cora_gin_gnnexplainer = load_metrics('cora', 'gin', 'gnnexplainer')"
   ],
   "outputs": []
  },
  {
   "cell_type": "code",
   "execution_count": 70,
   "id": "bea70dd6-0cba-4d2f-83db-e6f3f1994633",
   "metadata": {},
   "source": [
    "# RDT-Fidelity vis\n",
    "\n",
    "fig, ax = plt.subplots(figsize=(8, 4))\n",
    "\n",
    "tot_len = len(fidelity_cora_gcn_gnnexplainer)\n",
    "\n",
    "data = pd.DataFrame({\n",
    "    'Group': np.repeat(['GNNExplainer', 'IG', 'Deconvolution', 'Grad', 'Empty'], tot_len),\n",
    "    'Value': np.concatenate([fidelity_cora_gcn_gnnexplainer[:tot_len], \n",
    "                             fidelity_cora_gcn_ig[:tot_len],\n",
    "                             fidelity_cora_gcn_deconvolution[:tot_len],\n",
    "                             fidelity_cora_gcn_grad[:tot_len],\n",
    "                             fidelity_cora_gcn_empty[:tot_len]])\n",
    "})\n",
    "\n",
    "fig, ax = plt.subplots(figsize=(8, 4))\n",
    "sns.violinplot(x='Group', y='Value', data=data)\n",
    "ax.set_ylim([0, 1])\n",
    "ax.set_yticks([0, 0.5, 1])\n",
    "plt.title('RDT-fidelity Distribution of GCN on Cora')\n",
    "plt.xlabel('Group')\n",
    "plt.ylabel('Value')\n",
    "plt.show()"
   ],
   "outputs": []
  },
  {
   "cell_type": "code",
   "execution_count": 65,
   "id": "29c53272-2870-486f-98bb-e37f655fe4cc",
   "metadata": {},
   "source": [
    "fidelity_cora_gcn_gnnexplainer"
   ],
   "outputs": []
  },
  {
   "cell_type": "code",
   "execution_count": null,
   "id": "acc47c3b-e828-4c83-bd3a-921635e54033",
   "metadata": {},
   "source": [],
   "outputs": []
  },
  {
   "cell_type": "code",
   "execution_count": null,
   "id": "df8f64d2-3eba-440a-a3b3-45c26c9f670b",
   "metadata": {},
   "source": [],
   "outputs": []
  },
  {
   "cell_type": "code",
   "execution_count": null,
   "id": "7bee3e4b-76fe-40ed-b9cd-65840259a1e8",
   "metadata": {},
   "source": [],
   "outputs": []
  },
  {
   "cell_type": "code",
   "execution_count": null,
   "id": "809de6e1-a554-4169-8941-a82caf296771",
   "metadata": {},
   "source": [],
   "outputs": []
  },
  {
   "cell_type": "code",
   "execution_count": null,
   "id": "8bce0512-d6f2-487d-9474-43fa59237d3e",
   "metadata": {},
   "source": [],
   "outputs": []
  },
  {
   "cell_type": "code",
   "execution_count": null,
   "id": "05f4fa58-4812-450a-99e9-8f67c9d94e75",
   "metadata": {},
   "source": [],
   "outputs": []
  },
  {
   "cell_type": "code",
   "execution_count": null,
   "id": "59a3483b-9f9f-47e5-a1b6-dbe56750b5c9",
   "metadata": {},
   "source": [],
   "outputs": []
  },
  {
   "cell_type": "code",
   "execution_count": null,
   "id": "8c9849e1-2761-406c-96dc-f41708274995",
   "metadata": {},
   "source": [
    "len(fidelity_cora_gin_gnnexplainer)"
   ],
   "outputs": []
  },
  {
   "cell_type": "code",
   "execution_count": 11,
   "id": "42233c1a-0e5f-4dec-bb8a-0580368f2af8",
   "metadata": {},
   "source": [
    "tot_len = min(len(fidelity_cora_gcn_gnnexplainer), len(fidelity_cora_gin_gnnexplainer))\n",
    "tot_len"
   ],
   "outputs": []
  },
  {
   "cell_type": "code",
   "execution_count": 12,
   "id": "d9481ff1-095f-4e81-b273-eb82db2fdfc5",
   "metadata": {},
   "source": [
    "data = pd.DataFrame({\n",
    "    'Group': np.repeat(['RDT-fidelity, GCN', 'RDT-fidelity, GIN', 'validity, GCN', 'validity, GIN'], tot_len),\n",
    "    'Value': np.concatenate([fidelity_cora_gcn_gnnexplainer[:tot_len], \n",
    "                             fidelity_cora_gin_gnnexplainer[:tot_len],\n",
    "                             validity_cora_gcn_gnnexplainer[:tot_len],\n",
    "                             validity_cora_gin_gnnexplainer[:tot_len]])\n",
    "})\n",
    "\n",
    "fig, ax = plt.subplots(figsize=(8, 4))\n",
    "sns.violinplot(x='Group', y='Value', data=data)\n",
    "plt.title('cora_gnnexplainer, RDT-fidelity and validity')\n",
    "plt.xlabel('Group')\n",
    "plt.ylabel('Value')\n",
    "plt.show()"
   ],
   "outputs": []
  },
  {
   "cell_type": "code",
   "execution_count": 145,
   "id": "7191d86c-1c07-4b8b-a077-da556ae34b21",
   "metadata": {},
   "source": [
    "data = pd.DataFrame({\n",
    "    'Group': np.repeat(['feature_sparsity, GCN', 'feature_sparsity, GIN', 'node_sparsity, GCN', 'node_sparsity, GIN'], tot_len),\n",
    "    'Value': np.concatenate([feature_sparsity_cora_gcn_gnnexplainer[:tot_len], \n",
    "                             feature_sparsity_cora_gin_gnnexplainer[:tot_len],\n",
    "                             node_sparsity_cora_gcn_gnnexplainer[:tot_len],\n",
    "                             node_sparsity_cora_gin_gnnexplainer[:tot_len]])\n",
    "})\n",
    "\n",
    "fig, ax = plt.subplots(figsize=(8, 4))\n",
    "sns.violinplot(x='Group', y='Value', data=data)\n",
    "plt.title('cora_gnnexplainer, feature_sparsity and node_sparsity')\n",
    "plt.xlabel('Group')\n",
    "plt.ylabel('Value')\n",
    "plt.show()"
   ],
   "outputs": []
  },
  {
   "cell_type": "code",
   "execution_count": 163,
   "id": "2ff774da-4bfc-493b-a0eb-b669520aede4",
   "metadata": {},
   "source": [
    "num_nodes = len(node_sparsity_cora_gcn_gnnexplainer)\n",
    "\n",
    "data = pd.DataFrame({\n",
    "    'Group': np.repeat(['RDT-fidelity', 'validity', 'feature_sparsity', 'node_sparsity'], num_nodes),\n",
    "    'Value': np.concatenate([fidelity_cora_gcn_gnnexplainer, \n",
    "                             validity_cora_gcn_gnnexplainer,\n",
    "                             feature_sparsity_cora_gcn_gnnexplainer, \n",
    "                             node_sparsity_cora_gcn_gnnexplainer])\n",
    "})\n",
    "\n",
    "# Create a violin plot\n",
    "sns.violinplot(x='Group', y='Value', data=data)\n",
    "plt.title('cora_gcn_gnnexplainer')\n",
    "plt.xlabel('Group')\n",
    "plt.ylabel('Value')\n",
    "\n",
    "# Show the plot\n",
    "plt.show()"
   ],
   "outputs": []
  },
  {
   "cell_type": "code",
   "execution_count": 149,
   "id": "5bdbba9d-2f92-4105-97a8-0ef599102449",
   "metadata": {},
   "source": [
    "num_nodes = len(node_sparsity_cora_gin_gnnexplainer)\n",
    "\n",
    "data = pd.DataFrame({\n",
    "    'Group': np.repeat(['RDT-fidelity', 'validity', 'feature_sparsity', 'node_sparsity'], num_nodes),\n",
    "    'Value': np.concatenate([fidelity_cora_gin_gnnexplainer, \n",
    "                             validity_cora_gin_gnnexplainer,\n",
    "                             feature_sparsity_cora_gin_gnnexplainer, \n",
    "                             node_sparsity_cora_gin_gnnexplainer])\n",
    "})\n",
    "\n",
    "# Create a violin plot\n",
    "sns.violinplot(x='Group', y='Value', data=data)\n",
    "plt.title('cora_gin_gnnexplainer')\n",
    "plt.xlabel('Group')\n",
    "plt.ylabel('Value')\n",
    "\n",
    "# Show the plot\n",
    "plt.show()"
   ],
   "outputs": []
  },
  {
   "cell_type": "code",
   "execution_count": 135,
   "id": "066d9023-ef67-494c-8c28-69354ab4d517",
   "metadata": {},
   "source": [
    "# plt.hist(fidelity_list, bins=20)  # Adjust the number of bins as needed\n",
    "# plt.title(\"Histogram\")\n",
    "# plt.xlabel(\"Value\")\n",
    "# plt.ylabel(\"Frequency\")\n",
    "# plt.show()"
   ],
   "outputs": []
  },
  {
   "cell_type": "code",
   "execution_count": 136,
   "id": "a29f7e3c-04ba-48ff-aaaa-a444941a0a79",
   "metadata": {},
   "source": [
    "# plt.boxplot(fidelity_list)\n",
    "# plt.title(\"Box Plot of Data Distribution\")\n",
    "# plt.ylabel(\"Value\")\n",
    "# plt.show()"
   ],
   "outputs": []
  },
  {
   "cell_type": "markdown",
   "id": "3ce07ee7-f762-4123-a53a-4c11df6e020a",
   "metadata": {},
   "source": [
    "## 2. Deletion Curve"
   ]
  },
  {
   "cell_type": "code",
   "execution_count": 71,
   "id": "23123a3d-9512-4d84-b149-8c8949866627",
   "metadata": {},
   "source": [
    "from metrics import linear_area_score as area_score\n",
    "from utils import normalize_bounds, load_curves"
   ],
   "outputs": []
  },
  {
   "cell_type": "code",
   "execution_count": 97,
   "id": "15d15dcc-e3c6-46fb-b783-3d8a0df041fb",
   "metadata": {},
   "source": [
    "tot_range = 3000\n",
    "graph_model = 'cora'\n",
    "model_name = 'gcn'\n",
    "  # ig, gnnexplainer, deconvolution\n",
    "decoder = 'inner'\n",
    "# ['vgae', 'gin', 'sage', 'gcn']\n",
    "for model_name in ['gcn']:\n",
    "    print(model_name, len(os.listdir(f\"../outputs/{graph_model}/{model_name}/{explainer}/curves/\")))"
   ],
   "outputs": []
  },
  {
   "cell_type": "code",
   "execution_count": 102,
   "id": "44e10174-9c2d-434d-a570-71d02e982a37",
   "metadata": {},
   "source": [
    "explainer = 'gnnexplainer'\n",
    "edge_deletions = load_curves(graph_model, model_name, explainer, 'edge_deletion', tot_range, target=-1, seed='0')\n",
    "gcn_edge_scores_gnnexplainer = np.array([area_score(d) for d in edge_deletions])\n",
    "feat_deletions = load_curves(graph_model, model_name, explainer, 'feature_deletion', tot_range, target=-1, seed='0')\n",
    "gcn_feat_scores_gnnexplainer = np.array([area_score(d) for d in feat_deletions])"
   ],
   "outputs": []
  },
  {
   "cell_type": "code",
   "execution_count": 98,
   "id": "f69b3c3a-5b6e-40a9-bad3-3712715474a8",
   "metadata": {},
   "source": [
    "explainer = 'ig'\n",
    "edge_deletions = load_curves(graph_model, model_name, explainer, 'edge_deletion', tot_range, target=-1, seed='0')\n",
    "gcn_edge_scores_ig = np.array([area_score(d) for d in edge_deletions])\n",
    "feat_deletions = load_curves(graph_model, model_name, explainer, 'feature_deletion', tot_range, target=-1, seed='0')\n",
    "gcn_feat_scores_ig = np.array([area_score(d) for d in feat_deletions])"
   ],
   "outputs": []
  },
  {
   "cell_type": "code",
   "execution_count": 100,
   "id": "fb5f31bf-5cb4-4a51-9c09-e79a00f74910",
   "metadata": {},
   "source": [
    "explainer = 'deconvolution'\n",
    "edge_deletions = load_curves(graph_model, model_name, explainer, 'edge_deletion', tot_range, target=-1, seed='0')\n",
    "gcn_edge_scores_deconvolution = np.array([area_score(d) for d in edge_deletions])\n",
    "feat_deletions = load_curves(graph_model, model_name, explainer, 'feature_deletion', tot_range, target=-1, seed='0')\n",
    "gcn_feat_scores_deconvolution = np.array([area_score(d) for d in feat_deletions])"
   ],
   "outputs": []
  },
  {
   "cell_type": "code",
   "execution_count": 115,
   "id": "dc5c90f8-eb04-489c-af3c-ffc35fea64ae",
   "metadata": {},
   "source": [
    "# Edge Deletion, GCN, Cora\n",
    "tot_range = len(gcn_edge_scores_gnnexplainer)\n",
    "df = pd.DataFrame(gcn_edge_scores_gnnexplainer[:tot_range], columns=['GNNExplainer'])\n",
    "df['IG'] = gcn_edge_scores_ig[:tot_range]\n",
    "df['Deconvolution'] = gcn_edge_scores_deconvolution[:tot_range]\n",
    "\n",
    "fig, ax = plt.subplots(figsize=(6, 4))\n",
    "sns.violinplot(df)\n",
    "ax.axhline(0., c='black', ls='--')\n",
    "ax.set_ylim([-1, 1])\n",
    "ax.set_yticks([-1, 0, 1])\n",
    "sns.despine()\n",
    "plt.title('Edge Deletion of GCN on Cora')\n",
    "plt.tight_layout()"
   ],
   "outputs": []
  },
  {
   "cell_type": "code",
   "execution_count": 116,
   "id": "9686fb93-448a-495b-b334-c91b8af321c4",
   "metadata": {},
   "source": [
    "# Feature Deletion, GCN, Cora\n",
    "tot_range = len(gcn_feat_scores_gnnexplainer)\n",
    "df = pd.DataFrame(gcn_feat_scores_gnnexplainer[:tot_range], columns=['GNNExplainer'])\n",
    "df['IG'] = gcn_feat_scores_ig[:tot_range]\n",
    "df['Deconvolution'] = gcn_feat_scores_deconvolution[:tot_range]\n",
    "\n",
    "fig, ax = plt.subplots(figsize=(6, 4))\n",
    "sns.violinplot(df)\n",
    "ax.axhline(0., c='black', ls='--')\n",
    "ax.set_ylim([-1, 1])\n",
    "ax.set_yticks([-1, 0, 1])\n",
    "sns.despine()\n",
    "plt.title('Feature Deletion of GCN on Cora')\n",
    "plt.tight_layout()"
   ],
   "outputs": []
  },
  {
   "cell_type": "code",
   "execution_count": null,
   "id": "ae99572a-4b52-4a2c-97eb-e6a2e89b7c30",
   "metadata": {},
   "source": [
    "# Edge Deletion, GCN, Cora\n",
    "tot_range = len(gcn_feat_scores_gnnexplainer)\n",
    "df = pd.DataFrame(gcn_edge_scores_gnnexplainer[:tot_range], columns=['gcn_edge'])\n",
    "df['gcn_feat'] = gcn_feat_scores_gnnexplainer[:tot_range]\n",
    "# df['gin_edge'] = gin_edge_scores[:tot_range]\n",
    "# df['gin_feat'] = gin_feat_scores[:tot_range]\n",
    "\n",
    "# df['sage_edge'] = sage_edge_scores[:tot_range]\n",
    "# df['sage_feat'] = sage_feat_scores[:tot_range]\n",
    "# df['vgae_feat'] = vgae_feat_scores[:tot_range]\n",
    "# df['vgae_edge'] = vgae_edge_scores[:tot_range]\n",
    "\n",
    "df.columns = ['GCN Edges Deletion', 'GCN Features Deletion']\n",
    "# df.columns = ['GCN Edges Deletion', 'GCN Features Deletion', 'GIN Edges Deletion', 'GIN Features Deletion']"
   ],
   "outputs": []
  },
  {
   "cell_type": "code",
   "execution_count": null,
   "id": "645939a8-d036-47eb-ad3f-7a7fa33cb213",
   "metadata": {},
   "source": [],
   "outputs": []
  },
  {
   "cell_type": "code",
   "execution_count": null,
   "id": "34ebba81-3bd0-4239-bb3e-2c8ffea89686",
   "metadata": {},
   "source": [],
   "outputs": []
  },
  {
   "cell_type": "code",
   "execution_count": null,
   "id": "716cd5d4-e5bf-4b92-a472-56be3ca3a0c4",
   "metadata": {},
   "source": [],
   "outputs": []
  },
  {
   "cell_type": "code",
   "execution_count": null,
   "id": "fc94fd02-f456-43f9-a568-3fc312f02fa1",
   "metadata": {},
   "source": [],
   "outputs": []
  },
  {
   "cell_type": "code",
   "execution_count": 80,
   "id": "b6b2017b-ac8d-4bd9-bb1a-ed7f143592e6",
   "metadata": {},
   "source": [
    "# model_name = 'gin'\n",
    "\n",
    "# edge_deletions = load_curves(graph_model, model_name, explainer, 'edge_deletion', tot_range, target=-1, seed='0')\n",
    "# gin_edge_scores = np.array([area_score(d) for d in edge_deletions])\n",
    "\n",
    "# feat_deletions = load_curves(graph_model, model_name, explainer, 'feature_deletion', tot_range, target=-1, seed='0')\n",
    "# gin_feat_scores = np.array([area_score(d) for d in feat_deletions])"
   ],
   "outputs": []
  },
  {
   "cell_type": "code",
   "execution_count": 169,
   "id": "81460722-5e9e-43cb-8f6a-c8a4a178299a",
   "metadata": {},
   "source": [
    "tot_range = min(len(gcn_edge_scores), len(gin_edge_scores))\n",
    "tot_range = len(gcn_edge_scores)\n",
    "df = pd.DataFrame(gcn_edge_scores[:tot_range], columns=['gcn_edge'])\n",
    "df['gcn_feat'] = gcn_feat_scores[:tot_range]\n",
    "# df['gin_edge'] = gin_edge_scores[:tot_range]\n",
    "# df['gin_feat'] = gin_feat_scores[:tot_range]\n",
    "\n",
    "# df['sage_edge'] = sage_edge_scores[:tot_range]\n",
    "# df['sage_feat'] = sage_feat_scores[:tot_range]\n",
    "# df['vgae_feat'] = vgae_feat_scores[:tot_range]\n",
    "# df['vgae_edge'] = vgae_edge_scores[:tot_range]\n",
    "\n",
    "# df.columns = ['VGAE Edges', 'GIN Edges', 'SAGE Edges', 'GCN Edges', 'VGAE Features', 'GIN Features' , 'SAGE Features' , 'GCN Features']\n",
    "df.columns = ['GCN Edges Deletion', 'GCN Features Deletion']\n",
    "# df.columns = ['GCN Edges Deletion', 'GCN Features Deletion', 'GIN Edges Deletion', 'GIN Features Deletion']"
   ],
   "outputs": []
  },
  {
   "cell_type": "code",
   "execution_count": 170,
   "id": "ba777f90-9bac-4fcd-b878-280b37586d86",
   "metadata": {},
   "source": [
    "fig, ax = plt.subplots(figsize=(8, 4))\n",
    "sns.boxplot(df)\n",
    "ax.axhline(0., c='black', ls='--')\n",
    "ax.set_ylim([-1, 1])\n",
    "ax.set_yticks([-1, 0, 1])\n",
    "sns.despine()\n",
    "plt.tight_layout()\n",
    "# plt.savefig(f'../paper/figs/cora_area_score_{explainer}.png')"
   ],
   "outputs": []
  },
  {
   "cell_type": "code",
   "execution_count": 171,
   "id": "293239a6-5291-49a3-bbb9-5687b59abbd4",
   "metadata": {},
   "source": [
    "fig, ax = plt.subplots(figsize=(8, 4))\n",
    "sns.violinplot(df)\n",
    "ax.axhline(0., c='black', ls='--')\n",
    "ax.set_ylim([-1, 1])\n",
    "ax.set_yticks([-1, 0, 1])\n",
    "sns.despine()\n",
    "plt.tight_layout()\n",
    "# plt.savefig(f'../paper/figs/cora_area_score_{explainer}.png')"
   ],
   "outputs": []
  },
  {
   "cell_type": "code",
   "execution_count": 172,
   "id": "2f8f2a1b-fbc8-415c-af8a-5cf5237b849e",
   "metadata": {},
   "source": [
    "print('gcn_edge_scores: ', calculate_mean_std(gcn_edge_scores))\n",
    "print('gcn_feat_scores: ', calculate_mean_std(gcn_feat_scores))"
   ],
   "outputs": []
  },
  {
   "cell_type": "code",
   "execution_count": 173,
   "id": "c57521b6-b827-42dc-b75e-00b4117d4eab",
   "metadata": {},
   "source": [
    "print('gin_edge_scores: ', calculate_mean_std(gin_edge_scores))\n",
    "print('gin_feat_scores: ', calculate_mean_std(gin_feat_scores))"
   ],
   "outputs": []
  },
  {
   "cell_type": "code",
   "execution_count": 113,
   "id": "0d2547cf-5750-4f38-a43f-a3a6c2e27878",
   "metadata": {},
   "source": [
    "gcn_edge_scores"
   ],
   "outputs": []
  },
  {
   "cell_type": "markdown",
   "id": "4a8a3079-bed8-4750-b177-895ac1d19ea6",
   "metadata": {},
   "source": [
    "# With Ground Truth"
   ]
  },
  {
   "cell_type": "code",
   "execution_count": 34,
   "id": "35125db4-74ca-4a1a-9e48-b9ce54e2e194",
   "metadata": {},
   "source": [
    "explainer = 'gnnexplainer'\n",
    "graph = 'ws'"
   ],
   "outputs": []
  },
  {
   "cell_type": "code",
   "execution_count": 35,
   "id": "d53c764b-cb4d-4116-866d-2a0b88ac4858",
   "metadata": {},
   "source": [
    "data = []\n",
    "# ['vgae', 'gcn', 'gin', 'sage']\n",
    "for model in ['gcn']:\n",
    "    seed = 0\n",
    "    path = f\"../outputs/{graph}/{model}/{explainer}/\"\n",
    "    for filename in os.listdir(path):\n",
    "        if not filename.startswith('.') and not filename in ['old', 'masks']:\n",
    "            if filename.split('_')[-3] == 'inner':\n",
    "                df = pd.read_csv(osp.join(path, filename), index_col=0)\n",
    "                df['model'] = model.upper()\n",
    "                data.append(df)"
   ],
   "outputs": []
  },
  {
   "cell_type": "code",
   "execution_count": 36,
   "id": "53e7a8a9-a71e-4702-81e9-981752b988f4",
   "metadata": {},
   "source": [
    "data = pd.concat(data)"
   ],
   "outputs": []
  },
  {
   "cell_type": "code",
   "execution_count": 37,
   "id": "8c4599e0-e5af-4cc6-9416-f10654a961e9",
   "metadata": {},
   "source": [
    "model_perfomance = (data[['test_auc', 'model', 'seed']]\n",
    " .groupby(['model', 'seed'])\n",
    " .apply(lambda x: x.iloc[0])\n",
    " .test_auc\n",
    " .unstack('model')\n",
    ")"
   ],
   "outputs": []
  },
  {
   "cell_type": "code",
   "execution_count": 38,
   "id": "a560d898-11ca-40bf-8b17-bab06d438688",
   "metadata": {},
   "source": [
    "if graph == 'ws':\n",
    "    data = data[(data.source_node-data.target_node).abs()<(data.k/2+1)].copy()\n",
    "if graph == 'sbm':\n",
    "    data = data[(data.source_block_label==data.target_block_label)].copy()"
   ],
   "outputs": []
  },
  {
   "cell_type": "code",
   "execution_count": 39,
   "id": "ad4f8d8f-0e11-43f1-8e21-993f8858a1fe",
   "metadata": {},
   "source": [
    "data.columns"
   ],
   "outputs": []
  },
  {
   "cell_type": "code",
   "execution_count": 40,
   "id": "83515224-459a-44c3-9123-5852060f2a63",
   "metadata": {},
   "source": [
    "data.groupby(['seed', 'model']).size()"
   ],
   "outputs": []
  },
  {
   "cell_type": "code",
   "execution_count": 41,
   "id": "b23eb6c0-f4ea-4e9f-bb70-de2186819ed5",
   "metadata": {},
   "source": [
    "tpr = data[['tpr', 'model']].copy()\n",
    "tpr.columns = ['value', 'model']\n",
    "tpr['metric'] = 'sensitivity'\n",
    "tnr = data[['tnr', 'model']].copy()\n",
    "tnr.columns = ['value', 'model']\n",
    "tnr['metric'] = 'specificity'\n",
    "sb_data = pd.concat([tpr, tnr])"
   ],
   "outputs": []
  },
  {
   "cell_type": "code",
   "execution_count": 42,
   "id": "4b2d2cde-8a68-4687-ae88-86e6fa1b3dcf",
   "metadata": {},
   "source": [
    "fig, ax = plt.subplots(figsize=(6, 3))\n",
    "sns.violinplot(sb_data, x='model', y='value', hue='metric', inner='box', split=False)\n",
    "ax.set_ylim([0, 1])\n",
    "ax.set_yticks([0, 0.5, 1.])\n",
    "ax.set_xlabel(None)\n",
    "ax.set_ylabel(None)\n",
    "sns.despine()\n",
    "plt.tight_layout()\n",
    "# plt.savefig(f'../paper/figs/{graph}_model_comparison_tpr_tnr_{explainer}.png')"
   ],
   "outputs": []
  },
  {
   "cell_type": "code",
   "execution_count": 43,
   "id": "373ca095-91ff-4dd5-9e66-5d26a01bf68e",
   "metadata": {},
   "source": [
    "tpr"
   ],
   "outputs": []
  },
  {
   "cell_type": "code",
   "execution_count": 44,
   "id": "91a11887-df7d-49c0-9c02-04a507a28f1d",
   "metadata": {},
   "source": [
    "print(np.mean(tpr.value))\n",
    "print(np.std(tpr.value))"
   ],
   "outputs": []
  },
  {
   "cell_type": "code",
   "execution_count": 45,
   "id": "ec5904ac-77fe-4415-b664-77941b996609",
   "metadata": {},
   "source": [
    "tnr"
   ],
   "outputs": []
  },
  {
   "cell_type": "code",
   "execution_count": 46,
   "id": "6d5f3507-2488-4cb5-b5e8-451d4232e2ed",
   "metadata": {},
   "source": [
    "print(np.mean(tnr.value))\n",
    "print(np.std(tnr.value))"
   ],
   "outputs": []
  },
  {
   "cell_type": "code",
   "execution_count": null,
   "id": "1a3640b5-3f7c-4c49-993d-ac28d0654a30",
   "metadata": {},
   "source": [],
   "outputs": []
  },
  {
   "cell_type": "code",
   "execution_count": null,
   "id": "7c52e9d5-2225-4ec6-a460-43e5aa0ce07c",
   "metadata": {},
   "source": [],
   "outputs": []
  },
  {
   "cell_type": "code",
   "execution_count": null,
   "id": "86b13817-bde8-4210-9522-712a55b6eb49",
   "metadata": {},
   "source": [],
   "outputs": []
  },
  {
   "cell_type": "code",
   "execution_count": null,
   "id": "e9f2e303-8a82-4a22-b5bb-e29b5cfb977c",
   "metadata": {},
   "source": [],
   "outputs": []
  },
  {
   "cell_type": "code",
   "execution_count": null,
   "id": "f1eed7c8-f88c-4662-856e-5cf4807cfddb",
   "metadata": {},
   "source": [],
   "outputs": []
  }
 ],
 "metadata": {
  "kernelspec": {
   "display_name": "linkpred",
   "language": "python",
   "name": "linkpred"
  },
  "language_info": {
   "codemirror_mode": {
    "name": "ipython",
    "version": 3
   },
   "file_extension": ".py",
   "mimetype": "text/x-python",
   "name": "python",
   "nbconvert_exporter": "python",
   "pygments_lexer": "ipython3",
   "version": "3.10.6"
  },
  "toc": {
   "base_numbering": 1,
   "nav_menu": {},
   "number_sections": true,
   "sideBar": true,
   "skip_h1_title": false,
   "title_cell": "Table of Contents",
   "title_sidebar": "Contents",
   "toc_cell": false,
   "toc_position": {},
   "toc_section_display": true,
   "toc_window_display": false
  }
 },
 "nbformat": 4,
 "nbformat_minor": 5
}
