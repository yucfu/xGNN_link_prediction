{
 "cells": [
  {
   "cell_type": "code",
   "execution_count": 2,
   "id": "027a6de6-bd77-45c0-b536-175f1756e5ae",
   "metadata": {},
   "source": [
    "# File: example.py\n",
    "# Description: Example of GNNExplainer in link prediction.\n",
    "# Author: Yuchuan Fu\n",
    "# Created: 2023-11-23\n",
    "\n",
    "# Reference Code:\n",
    "# https://pytorch-geometric.readthedocs.io/en/latest/generated/torch_geometric.explain.algorithm.GNNExplainer.html\n",
    "# https://github.com/pyg-team/pytorch_geometric/blob/master/examples/explain/gnn_explainer_link_pred.py"
   ],
   "outputs": []
  },
  {
   "cell_type": "code",
   "execution_count": 1,
   "id": "38326fdf-3d5f-42e1-8686-1cf8bea40db5",
   "metadata": {},
   "source": [
    "import os.path as osp\n",
    "\n",
    "import torch\n",
    "import torch.nn.functional as F\n",
    "from sklearn.metrics import roc_auc_score\n",
    "\n",
    "import torch_geometric.transforms as T\n",
    "from torch_geometric.datasets import Planetoid\n",
    "from torch_geometric.explain import Explainer, GNNExplainer, ModelConfig\n",
    "from torch_geometric.nn import GCNConv"
   ],
   "outputs": []
  },
  {
   "cell_type": "code",
   "execution_count": 2,
   "id": "e8769580-a6f1-46de-aee2-4310c90d1495",
   "metadata": {},
   "source": [
    "if torch.cuda.is_available():\n",
    "    device = torch.device('cuda')\n",
    "# elif hasattr(torch.backends, 'mps') and torch.backends.mps.is_available():\n",
    "#     device = torch.device('mps')\n",
    "else:\n",
    "    device = torch.device('cpu')"
   ],
   "outputs": []
  },
  {
   "cell_type": "code",
   "execution_count": 14,
   "id": "4437fc8f-333e-4f2b-a96a-8e518c2ae93d",
   "metadata": {},
   "source": [
    "dataset = 'Cora'\n",
    "# The Cora dataset has 2,708 scientific publications classified into seven classes, connected through 5,429 links. \n",
    "# Each publication in the dataset is described by a 0/1-valued word vector indicating the absence/presence of the \n",
    "# corresponding word from the dictionary. The dictionary consists of 1433 unique words.\n",
    "\n",
    "# dataset = 'PubMed'\n",
    "# The PubMed dataset has 19,717 publications classified into three classes, connected through 44,338 links.\n",
    "# Each publication in the dataset is described by a TF/IDF weighted word vector from a dictionary \n",
    "# which consists of 500 unique words.\n",
    "\n",
    "# DDI dataset:\n",
    "# The DDI dataset has 1,514 nodes representing drugs approved by the U.S. Food and Drug Administration, \n",
    "# and 48,514 edges representing interaction between drugs. The dataset does not provide node features, \n",
    "# that are provided as node embedding vectors of fixed dimension 128 computed using Node2Vec"
   ],
   "outputs": []
  },
  {
   "cell_type": "code",
   "execution_count": 15,
   "id": "93dc0073-04b4-47b3-871e-bf9d2a0de371",
   "metadata": {},
   "source": [
    "# path = osp.join(osp.dirname(osp.realpath(__file__)), '..', 'data', 'Planetoid')\n",
    "path = osp.join('..', 'data', 'Planetoid')\n",
    "\n",
    "# The transform step preprocesses the dataset and makes the edges of 10556 to \n",
    "transform = T.Compose([\n",
    "    T.NormalizeFeatures(),\n",
    "    T.ToDevice(device),\n",
    "    T.RandomLinkSplit(num_val=0.1, num_test=0.1, is_undirected=True),\n",
    "])\n",
    "dataset = Planetoid(path, dataset, transform=transform)\n",
    "train_data, val_data, test_data = dataset[0]\n",
    "dataset[0]"
   ],
   "outputs": []
  },
  {
   "cell_type": "code",
   "execution_count": 19,
   "id": "be6b7080-2a3a-45a3-8040-8d9b8cfe8b91",
   "metadata": {},
   "source": [
    "print(train_data.edge_label.count_nonzero())\n",
    "print(val_data.edge_label.count_nonzero())\n",
    "print(test_data.edge_label.count_nonzero())"
   ],
   "outputs": []
  },
  {
   "cell_type": "code",
   "execution_count": 23,
   "id": "8fb6ffea-1cfa-4776-bde7-3ab0a9b7a9dd",
   "metadata": {},
   "source": [
    "torch.Tensor([[1,2], [3,4], [0,1], [1,2]]).unique(dim=0)\n",
    "train_data.edge_label_index.T.unique(dim=0)"
   ],
   "outputs": []
  },
  {
   "cell_type": "code",
   "execution_count": 24,
   "id": "3af34b3b-b5d5-417c-ac74-b3ecfa4ff9af",
   "metadata": {},
   "source": [
    "class GCN(torch.nn.Module):\n",
    "    def __init__(self, in_channels, hidden_channels, out_channels):\n",
    "        super().__init__()\n",
    "        self.conv1 = GCNConv(in_channels, hidden_channels)\n",
    "        self.conv2 = GCNConv(hidden_channels, out_channels)\n",
    "\n",
    "    def encode(self, x, edge_index):\n",
    "        x = self.conv1(x, edge_index).relu()\n",
    "        x = self.conv2(x, edge_index)\n",
    "        return x\n",
    "\n",
    "    def decode(self, z, edge_label_index):\n",
    "        src, dst = edge_label_index\n",
    "        return (z[src] * z[dst]).sum(dim=-1)\n",
    "\n",
    "    def forward(self, x, edge_index, edge_label_index):\n",
    "        z = model.encode(x, edge_index)\n",
    "        return model.decode(z, edge_label_index).view(-1)\n",
    "\n",
    "model = GCN(dataset.num_features, 128, 64).to(device)\n",
    "optimizer = torch.optim.Adam(params=model.parameters(), lr=0.01)"
   ],
   "outputs": []
  },
  {
   "cell_type": "code",
   "execution_count": 25,
   "id": "4b5bfb28-b81b-4e49-9563-a7773f0c477b",
   "metadata": {},
   "source": [
    "def train():\n",
    "    model.train()\n",
    "    optimizer.zero_grad()\n",
    "\n",
    "    out = model(train_data.x, train_data.edge_index,\n",
    "                train_data.edge_label_index)\n",
    "    loss = F.binary_cross_entropy_with_logits(out, train_data.edge_label)\n",
    "    loss.backward()\n",
    "    optimizer.step()\n",
    "    return float(loss)\n",
    "\n",
    "@torch.no_grad()\n",
    "def test(data):\n",
    "    model.eval()\n",
    "    out = model(data.x, data.edge_index, data.edge_label_index).sigmoid()\n",
    "    return roc_auc_score(data.edge_label.cpu().numpy(), out.cpu().numpy())\n",
    "\n",
    "for epoch in range(1, 201):\n",
    "    loss = train()\n",
    "    if epoch % 20 == 0:\n",
    "        val_auc = test(val_data)\n",
    "        test_auc = test(test_data)\n",
    "        print(f'Epoch: {epoch:02d}, Loss: {loss:.4f}, Val: {val_auc:.4f}, '\n",
    "              f'Test: {test_auc:.4f}')\n",
    "\n",
    "model_config = ModelConfig(\n",
    "    mode='binary_classification',\n",
    "    task_level='edge',\n",
    "    return_type='raw',\n",
    ")"
   ],
   "outputs": []
  },
  {
   "cell_type": "code",
   "execution_count": 31,
   "id": "d12e6f3e-bf4d-4d3c-95f9-b98bace5fad2",
   "metadata": {},
   "source": [
    "val_data.edge_label_index.shape # 2, 1054\n",
    "\n",
    "val_data.edge_label_index.size(1) # 1054"
   ],
   "outputs": []
  },
  {
   "cell_type": "code",
   "execution_count": null,
   "id": "aa4fbbc5-19a3-4e68-a884-18b04f1f4f40",
   "metadata": {},
   "source": [],
   "outputs": []
  },
  {
   "cell_type": "code",
   "execution_count": 54,
   "id": "566cb930-4940-4e0b-a944-b3df521f9a13",
   "metadata": {},
   "source": [
    "train_data.edge_index"
   ],
   "outputs": []
  },
  {
   "cell_type": "code",
   "execution_count": 60,
   "id": "43c926f3-4006-4ff0-9964-2fc41a05745e",
   "metadata": {},
   "source": [
    "val_data.edge_label_index[:, [0]].shape"
   ],
   "outputs": []
  },
  {
   "cell_type": "code",
   "execution_count": 57,
   "id": "419f3c41-0079-4978-8741-c26d8a33a5cd",
   "metadata": {},
   "source": [
    "val_data.edge_label_index[:, [0]]"
   ],
   "outputs": []
  },
  {
   "cell_type": "code",
   "execution_count": null,
   "id": "44d950bc-c753-4b9e-812f-e8e63c8e4895",
   "metadata": {},
   "source": [],
   "outputs": []
  },
  {
   "cell_type": "code",
   "execution_count": null,
   "id": "6111c330-d365-458c-ae9d-3b39a3c6cad7",
   "metadata": {},
   "source": [],
   "outputs": []
  },
  {
   "cell_type": "code",
   "execution_count": null,
   "id": "231583b4-ec58-4c32-bc3a-ac3972503a2b",
   "metadata": {},
   "source": [],
   "outputs": []
  },
  {
   "cell_type": "code",
   "execution_count": null,
   "id": "96f6e261-606a-43fd-a4e8-5fbc7e12d116",
   "metadata": {},
   "source": [],
   "outputs": []
  },
  {
   "cell_type": "code",
   "execution_count": null,
   "id": "7e0cc04a-b299-4477-a486-731607cd3dd2",
   "metadata": {},
   "source": [
    "# explanation_type: model / phenomenon\n",
    "# compute their losses with respect to the model output (\"model\") or the target output (\"phenomenon\")."
   ],
   "outputs": []
  },
  {
   "cell_type": "code",
   "execution_count": 27,
   "id": "4dd35475-be08-4078-9072-e814f126b887",
   "metadata": {},
   "source": [
    "# Explain model output for a single edge:\n",
    "edge_label_index = val_data.edge_label_index[:, 0]\n",
    "\n",
    "explainer = Explainer(\n",
    "    model=model,\n",
    "    explanation_type='model',\n",
    "    algorithm=GNNExplainer(epochs=200),\n",
    "    node_mask_type='attributes',\n",
    "    edge_mask_type='object',\n",
    "    model_config=model_config,\n",
    ")\n",
    "explanation = explainer(\n",
    "    x=train_data.x,\n",
    "    edge_index=train_data.edge_index,\n",
    "    edge_label_index=edge_label_index,\n",
    ")\n",
    "print(f'Generated model explanations in {explanation.available_explanations}')"
   ],
   "outputs": []
  },
  {
   "cell_type": "code",
   "execution_count": 28,
   "id": "36bd3e51-f57e-46a2-99e9-5b8a8cf2bd12",
   "metadata": {},
   "source": [
    "explanation.edge_mask.unique()"
   ],
   "outputs": []
  },
  {
   "cell_type": "code",
   "execution_count": 29,
   "id": "39f7e3f7-c826-4fb5-95c3-779ccb7fc4fb",
   "metadata": {},
   "source": [
    "explanation.node_mask.shape"
   ],
   "outputs": []
  },
  {
   "cell_type": "code",
   "execution_count": 30,
   "id": "90fc2215-33e3-4180-8869-3d68b080b96b",
   "metadata": {},
   "source": [
    "# Explain a selected target (phenomenon) for a single edge:\n",
    "edge_label_index = val_data.edge_label_index[:, 0]\n",
    "target = val_data.edge_label[0].unsqueeze(dim=0).long()\n",
    "\n",
    "explainer = Explainer(\n",
    "    model=model,\n",
    "    explanation_type='phenomenon',\n",
    "    algorithm=GNNExplainer(epochs=200),\n",
    "    node_mask_type='attributes',\n",
    "    edge_mask_type='object',\n",
    "    model_config=model_config,\n",
    ")\n",
    "explanation = explainer(\n",
    "    x=train_data.x,\n",
    "    edge_index=train_data.edge_index,\n",
    "    target=target,\n",
    "    edge_label_index=edge_label_index,\n",
    ")\n",
    "available_explanations = explanation.available_explanations\n",
    "print(f'Generated phenomenon explanations in {available_explanations}')"
   ],
   "outputs": []
  },
  {
   "cell_type": "code",
   "execution_count": null,
   "id": "becd7074-8984-4398-9d6a-0f67093e6caa",
   "metadata": {},
   "source": [],
   "outputs": []
  },
  {
   "cell_type": "code",
   "execution_count": null,
   "id": "1f9b161d-4a43-4d4d-9dc7-0f6c59a2a5c2",
   "metadata": {},
   "source": [],
   "outputs": []
  },
  {
   "cell_type": "code",
   "execution_count": 34,
   "id": "2d4b9f1d-690c-476f-92a3-48481efbc687",
   "metadata": {},
   "source": [
    "pwd"
   ],
   "outputs": []
  },
  {
   "cell_type": "code",
   "execution_count": 62,
   "id": "3c901b62-c30d-45ae-a5d0-629941f64b88",
   "metadata": {},
   "source": [
    "import glob\n",
    "import numpy as np\n",
    "\n",
    "mylist = [f for f in glob.glob(\"../outputs/cora/gcn/gnnexplainer/curves/*.npy\")]\n",
    "\n",
    "res = []\n",
    "for path in mylist:\n",
    "    tmp_res = np.load(path)\n",
    "    res.append(tmp_res)\n",
    "res"
   ],
   "outputs": []
  },
  {
   "cell_type": "code",
   "execution_count": 69,
   "id": "2b19aba9-aef2-4fd6-b4a8-c17f64abc2f8",
   "metadata": {},
   "source": [
    "res[3]"
   ],
   "outputs": []
  },
  {
   "cell_type": "code",
   "execution_count": 81,
   "id": "05e12cb8-8e21-4e2f-82d4-18f89fcd9701",
   "metadata": {},
   "source": [
    "def random_line(n, c0, cf, x):\n",
    "    return c0+(cf-c0)/x*n\n",
    "\n",
    "def compute_upper_area(c0, cf):\n",
    "    return 0.5*(2-c0-cf)\n",
    "\n",
    "def linear_area_score(deletion_curve, normalize=False):\n",
    "    if normalize:\n",
    "        deletion_curve = normalize_bounds(deletion_curve)\n",
    "    c0 = deletion_curve[0] # 0.975\n",
    "    cf = deletion_curve[-1] # 0.501\n",
    "    norm = deletion_curve.shape[0] # 1434\n",
    "    random_baseline = np.array([random_line(n, c0, cf, norm) for n in range(norm)])\n",
    "    print(random_baseline)\n",
    "    upper_area = compute_upper_area(c0, cf)\n",
    "    lower_area = 1.-upper_area\n",
    "    Ap = np.maximum(deletion_curve-random_baseline, 0).sum()/norm\n",
    "    Am = np.maximum(random_baseline-deletion_curve, 0).sum()/norm\n",
    "\n",
    "    return Am/lower_area - Ap/upper_area"
   ],
   "outputs": []
  },
  {
   "cell_type": "code",
   "execution_count": 80,
   "id": "c9d3ff31-d043-44cd-a3d6-17b0c4b94007",
   "metadata": {},
   "source": [
    "res[3][-1]"
   ],
   "outputs": []
  },
  {
   "cell_type": "code",
   "execution_count": 82,
   "id": "283cce67-e2b7-4344-a9e4-9b4408ec0d21",
   "metadata": {},
   "source": [
    "linear_area_score(res[3])"
   ],
   "outputs": []
  },
  {
   "cell_type": "code",
   "execution_count": 76,
   "id": "15a8860d-407a-4418-8701-6bd66466b1d3",
   "metadata": {},
   "source": [
    "for r in res:\n",
    "    print(linear_area_score(r))"
   ],
   "outputs": []
  },
  {
   "cell_type": "code",
   "execution_count": null,
   "id": "d3d1f609-b0c0-4454-ab6a-a8c0b3628d38",
   "metadata": {},
   "source": [],
   "outputs": []
  }
 ],
 "metadata": {
  "kernelspec": {
   "display_name": "linkpred",
   "language": "python",
   "name": "linkpred"
  },
  "language_info": {
   "codemirror_mode": {
    "name": "ipython",
    "version": 3
   },
   "file_extension": ".py",
   "mimetype": "text/x-python",
   "name": "python",
   "nbconvert_exporter": "python",
   "pygments_lexer": "ipython3",
   "version": "3.10.6"
  }
 },
 "nbformat": 4,
 "nbformat_minor": 5
}
