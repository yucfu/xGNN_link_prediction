{
 "cells": [
  {
   "cell_type": "code",
   "execution_count": 1,
   "id": "ae0992a8-ab4d-4cb7-94b5-4d0ed83da80f",
   "metadata": {},
   "source": [
    "import sys\n",
    "sys.path.append('../src/')"
   ],
   "outputs": []
  },
  {
   "cell_type": "code",
   "execution_count": 2,
   "id": "282dd2fc-78fa-4556-aa4a-7087c9b2dcf0",
   "metadata": {},
   "source": [
    "import os.path as osp\n",
    "import os\n",
    "\n",
    "import pandas as pd\n",
    "import numpy as np\n",
    "\n",
    "import seaborn as sb\n",
    "from matplotlib import pyplot as plt\n",
    "\n",
    "from metrics import fidelity_sparsity\n",
    "\n",
    "from utils import normalize_bounds, load_curves"
   ],
   "outputs": []
  },
  {
   "cell_type": "code",
   "execution_count": 3,
   "id": "f06efca5-025f-4085-8788-e9958db31ed5",
   "metadata": {},
   "source": [
    "sb.set_theme(context='paper', style='white', font_scale=1.5, palette=None)"
   ],
   "outputs": []
  },
  {
   "cell_type": "code",
   "execution_count": 4,
   "id": "241456a1-309e-4c7d-b519-8cd6e80163dc",
   "metadata": {},
   "source": [
    "graph_model = 'cora'"
   ],
   "outputs": []
  },
  {
   "cell_type": "code",
   "execution_count": 5,
   "id": "bb3b8f76-dbf6-49b3-a062-51c3bb5b1e25",
   "metadata": {},
   "source": [
    "explainer = 'ig'\n",
    "decoder = 'inner'\n",
    "for model_name in ['vgae', 'gin', 'gcn', 'sage']:\n",
    "    print(model_name, len(os.listdir(f\"../outputs/{graph_model}/{model_name}/{explainer}/curves/\")))"
   ],
   "outputs": []
  },
  {
   "cell_type": "code",
   "execution_count": 13,
   "id": "d4ca8a67-bc26-42ec-bfe6-fce2502da0b6",
   "metadata": {},
   "source": [
    "tot_range = 526"
   ],
   "outputs": []
  },
  {
   "cell_type": "code",
   "execution_count": 14,
   "id": "edc0375e-ccda-428d-9db9-94b93d24a409",
   "metadata": {},
   "source": [
    "max_sparsity = 100"
   ],
   "outputs": []
  },
  {
   "cell_type": "markdown",
   "id": "88f7c64c-bbb6-49b7-b617-57d949d0eb78",
   "metadata": {},
   "source": [
    "# Edges"
   ]
  },
  {
   "cell_type": "code",
   "execution_count": 33,
   "id": "32f03d0a-93f3-428c-a2de-833bf46c5b95",
   "metadata": {},
   "source": [
    "model_name = 'vgae'"
   ],
   "outputs": []
  },
  {
   "cell_type": "code",
   "execution_count": 34,
   "id": "d44a6a3b-4021-4856-85e5-11c4cad89aec",
   "metadata": {},
   "source": [
    "edge_deletions = load_curves(graph_model, model_name, explainer, 'edge_deletion', tot_range, target=-1, seed='0')\n",
    "vgae_edge_scores = [fidelity_sparsity(d) for d in edge_deletions]\n",
    "\n",
    "fidelity_vgae_edge = np.array([score_curve[:max_sparsity] for score_curve in vgae_edge_scores if len(score_curve)>=max_sparsity])"
   ],
   "outputs": []
  },
  {
   "cell_type": "code",
   "execution_count": 35,
   "id": "3882fb35-755c-417d-b59d-1d4be85344c8",
   "metadata": {},
   "source": [
    "model_name = 'gin'"
   ],
   "outputs": []
  },
  {
   "cell_type": "code",
   "execution_count": 36,
   "id": "498ef90c-a5b5-4cb2-b5e2-1337b7ca905d",
   "metadata": {},
   "source": [
    "edge_deletions = load_curves(graph_model, model_name, explainer, 'edge_deletion', tot_range, target=-1, seed='0')\n",
    "gin_edge_scores = [fidelity_sparsity(d) for d in edge_deletions]\n",
    "\n",
    "fidelity_gin_edge = np.array([score_curve[:max_sparsity] for score_curve in gin_edge_scores if len(score_curve)>=max_sparsity])"
   ],
   "outputs": []
  },
  {
   "cell_type": "code",
   "execution_count": 37,
   "id": "1dd4aa37-685d-4a5f-b909-4f4250d2adeb",
   "metadata": {},
   "source": [
    "model_name = 'sage'"
   ],
   "outputs": []
  },
  {
   "cell_type": "code",
   "execution_count": 38,
   "id": "5a7ebd82-8b3d-407e-ac9f-c5bd267ab853",
   "metadata": {},
   "source": [
    "edge_deletions = load_curves(graph_model, model_name, explainer, 'edge_deletion', tot_range, target=-1, seed='0')\n",
    "sage_edge_scores = [fidelity_sparsity(d) for d in edge_deletions]\n",
    "\n",
    "fidelity_sage_edge = np.array([score_curve[:max_sparsity] for score_curve in sage_edge_scores if len(score_curve)>=max_sparsity])"
   ],
   "outputs": []
  },
  {
   "cell_type": "code",
   "execution_count": 41,
   "id": "900a401a-2877-4d34-b9a0-114480e37094",
   "metadata": {},
   "source": [
    "model_name = 'gcn'"
   ],
   "outputs": []
  },
  {
   "cell_type": "code",
   "execution_count": 42,
   "id": "01110830-2364-410c-976c-137a090d4596",
   "metadata": {},
   "source": [
    "edge_deletions = load_curves(graph_model, model_name, explainer, 'edge_deletion', tot_range, target=-1, seed='0')\n",
    "gcn_edge_scores = [fidelity_sparsity(d) for d in edge_deletions]\n",
    "\n",
    "fidelity_gcn_edge = np.array([score_curve[:max_sparsity] for score_curve in gcn_edge_scores if len(score_curve)>=max_sparsity])"
   ],
   "outputs": []
  },
  {
   "cell_type": "code",
   "execution_count": 44,
   "id": "18db0fe3-19ee-4f8d-9e14-763e1a99de26",
   "metadata": {},
   "source": [
    "plt.plot(fidelity_vgae_edge.mean(axis=0), lw=2);\n",
    "plt.plot(fidelity_gin_edge.mean(axis=0), lw=2);\n",
    "plt.plot(fidelity_sage_edge.mean(axis=0), lw=2);\n",
    "plt.plot(fidelity_gcn_edge.mean(axis=0), lw=2);\n",
    "plt.legend(['vgae', 'gin', 'sage', 'gcn'])"
   ],
   "outputs": []
  },
  {
   "cell_type": "markdown",
   "id": "30c0e017-24f7-4d31-b1c2-62acea126764",
   "metadata": {},
   "source": [
    "# Feats"
   ]
  },
  {
   "cell_type": "code",
   "execution_count": 45,
   "id": "ca5e571b-9ba7-42db-ac5f-68d1d9c4e79b",
   "metadata": {},
   "source": [
    "model_name = 'vgae'"
   ],
   "outputs": []
  },
  {
   "cell_type": "code",
   "execution_count": 46,
   "id": "601441a8-ad73-49a3-be26-daa5803c67ce",
   "metadata": {},
   "source": [
    "feature_deletions = load_curves(graph_model, model_name, explainer, 'feature_deletion', tot_range, target=-1, seed='0')\n",
    "vgae_feature_scores = [fidelity_sparsity(d) for d in feature_deletions]\n",
    "\n",
    "fidelity_vgae_feature = np.array([score_curve[:max_sparsity] for score_curve in vgae_feature_scores if len(score_curve)>=max_sparsity])"
   ],
   "outputs": []
  },
  {
   "cell_type": "code",
   "execution_count": 47,
   "id": "14cda8e6-b427-46a6-a6f5-5aa125dca625",
   "metadata": {},
   "source": [
    "model_name = 'gin'"
   ],
   "outputs": []
  },
  {
   "cell_type": "code",
   "execution_count": 48,
   "id": "2ffb921e-004d-430b-bcc8-d45840db5987",
   "metadata": {},
   "source": [
    "feature_deletions = load_curves(graph_model, model_name, explainer, 'feature_deletion', tot_range, target=-1, seed='0')\n",
    "gin_feature_scores = [fidelity_sparsity(d) for d in feature_deletions]\n",
    "\n",
    "fidelity_gin_feature = np.array([score_curve[:max_sparsity] for score_curve in gin_feature_scores if len(score_curve)>=max_sparsity])"
   ],
   "outputs": []
  },
  {
   "cell_type": "code",
   "execution_count": 49,
   "id": "c3679cda-4263-45bc-97fb-f3c7129c9b8c",
   "metadata": {},
   "source": [
    "model_name = 'sage'"
   ],
   "outputs": []
  },
  {
   "cell_type": "code",
   "execution_count": 50,
   "id": "ec8af540-66b5-4646-8972-95b86d033d95",
   "metadata": {},
   "source": [
    "feature_deletions = load_curves(graph_model, model_name, explainer, 'feature_deletion', tot_range, target=-1, seed='0')\n",
    "sage_feature_scores = [fidelity_sparsity(d) for d in feature_deletions]\n",
    "\n",
    "fidelity_sage_feature = np.array([score_curve[:max_sparsity] for score_curve in sage_feature_scores if len(score_curve)>=max_sparsity])"
   ],
   "outputs": []
  },
  {
   "cell_type": "code",
   "execution_count": 51,
   "id": "71035538-d885-4896-8b43-4092d64da95d",
   "metadata": {},
   "source": [
    "model_name = 'gcn'"
   ],
   "outputs": []
  },
  {
   "cell_type": "code",
   "execution_count": 52,
   "id": "89512baa-2b14-4b85-b9b2-594db5636fbb",
   "metadata": {},
   "source": [
    "feature_deletions = load_curves(graph_model, model_name, explainer, 'feature_deletion', tot_range, target=-1, seed='0')\n",
    "gcn_feature_scores = [fidelity_sparsity(d) for d in feature_deletions]\n",
    "\n",
    "fidelity_gcn_feature = np.array([score_curve[:max_sparsity] for score_curve in gcn_feature_scores if len(score_curve)>=max_sparsity])"
   ],
   "outputs": []
  },
  {
   "cell_type": "code",
   "execution_count": 53,
   "id": "c248bd23-ae39-4d2a-b0a1-2bcf743d5c18",
   "metadata": {},
   "source": [
    "plt.plot(fidelity_vgae_feature.mean(axis=0), lw=2);\n",
    "plt.plot(fidelity_gin_feature.mean(axis=0), lw=2);\n",
    "plt.plot(fidelity_sage_feature.mean(axis=0), lw=2);\n",
    "plt.plot(fidelity_gcn_feature.mean(axis=0), lw=2);\n",
    "plt.legend(['vgae', 'gin', 'sage', 'gcn'])"
   ],
   "outputs": []
  },
  {
   "cell_type": "code",
   "execution_count": 18,
   "id": "4355ed5d-d9cd-46ec-a0e6-820b60fe19b9",
   "metadata": {},
   "source": [
    "feat_deletions = load_curves(graph_model, model_name, explainer, 'feature_deletion', tot_range, target=-1, seed=0)\n",
    "vgae_feat_scores = [fidelity_sparsity(d) for d in feat_deletions]\n",
    "\n",
    "fidelity_vgae_feat = np.array(vgae_feat_scores)"
   ],
   "outputs": []
  },
  {
   "cell_type": "code",
   "execution_count": 19,
   "id": "9d8b6907-26c2-4a75-b64f-7f30c4cc7f1f",
   "metadata": {},
   "source": [
    "plt.plot(fidelity_vgae_feat.T, c='grey', alpha=.3, lw=1);\n",
    "plt.plot(fidelity_vgae_feat.mean(axis=0), c='r', lw=2);"
   ],
   "outputs": []
  },
  {
   "cell_type": "code",
   "execution_count": null,
   "id": "f5bd7b00-1f7f-4bf9-9158-97fb9ff08aa6",
   "metadata": {},
   "source": [
    "feat_deletions = load_curves(graph_model, model_name, 'random', 'feature_deletion', 79, target=1)\n",
    "vgae_feat_scores_rnd = [fidelity_sparsity(d) for d in feat_deletions]\n",
    "\n",
    "fidelity_vgae_feat_rnd = np.array(vgae_feat_scores_rnd)"
   ],
   "outputs": []
  },
  {
   "cell_type": "code",
   "execution_count": null,
   "id": "0cb05883-9911-4ff0-b753-73a1d53cda12",
   "metadata": {},
   "source": [
    "plt.plot(fidelity_vgae_feat_rnd.T, c='grey', alpha=.3, lw=1);\n",
    "plt.plot(fidelity_vgae_feat_rnd.mean(axis=0), c='r', lw=2);"
   ],
   "outputs": []
  },
  {
   "cell_type": "markdown",
   "id": "6ba0736f-ce0f-4308-84f7-2d0437e9f7bb",
   "metadata": {},
   "source": [
    "# GIN"
   ]
  },
  {
   "cell_type": "code",
   "execution_count": 20,
   "id": "460788e8-67dc-401b-be5b-1af39effc1e9",
   "metadata": {},
   "source": [
    "model_name = 'gin'"
   ],
   "outputs": []
  },
  {
   "cell_type": "code",
   "execution_count": 21,
   "id": "3464e5d2-1f12-4429-9261-f969e70a9056",
   "metadata": {},
   "source": [
    "edge_deletions = load_curves(graph_model, model_name, explainer, 'edge_deletion', tot_range, target=-1, seed=0)\n",
    "gin_edge_scores = [fidelity_sparsity(d) for d in edge_deletions]\n",
    "\n",
    "fidelity_gin_edge = np.array([score_curve[:max_sparsity] for score_curve in gin_edge_scores if len(score_curve)>=max_sparsity])"
   ],
   "outputs": []
  },
  {
   "cell_type": "code",
   "execution_count": 22,
   "id": "2d1dc513-da3c-4059-b986-c1407a32e2aa",
   "metadata": {},
   "source": [
    "plt.plot(fidelity_gin_edge.T, c='grey', alpha=.3, lw=1);\n",
    "plt.plot(fidelity_gin_edge.mean(axis=0), c='r', lw=2);"
   ],
   "outputs": []
  },
  {
   "cell_type": "code",
   "execution_count": null,
   "id": "cea53c95-c998-4434-8155-ac916d687a5c",
   "metadata": {},
   "source": [
    "edge_deletions = load_curves(graph_model, model_name, 'random', 'edge_deletion', 79, target=1)\n",
    "gin_edge_scores_rnd = [fidelity_sparsity(d) for d in edge_deletions]\n",
    "\n",
    "fidelity_gin_edge_rnd = np.array([score_curve[:max_sparsity] for score_curve in gin_edge_scores_rnd if len(score_curve)>=max_sparsity])"
   ],
   "outputs": []
  },
  {
   "cell_type": "code",
   "execution_count": null,
   "id": "2157101b-317a-46e8-8e63-bea84b48ba57",
   "metadata": {},
   "source": [
    "plt.plot(fidelity_gin_edge_rnd.T, c='grey', alpha=.3, lw=1);\n",
    "plt.plot(fidelity_gin_edge_rnd.mean(axis=0), c='r', lw=2);"
   ],
   "outputs": []
  },
  {
   "cell_type": "code",
   "execution_count": 23,
   "id": "01713543-36df-483b-b25d-7ab1831a7f00",
   "metadata": {},
   "source": [
    "feat_deletions = load_curves(graph_model, model_name, explainer, 'feature_deletion', tot_range, target=-1, seed=0)\n",
    "gin_feat_scores = [fidelity_sparsity(d) for d in feat_deletions]\n",
    "\n",
    "fidelity_gin_feat = np.array(gin_feat_scores)"
   ],
   "outputs": []
  },
  {
   "cell_type": "code",
   "execution_count": 24,
   "id": "e5108408-5146-4b1f-8768-2a8540c8c08e",
   "metadata": {},
   "source": [
    "plt.plot(fidelity_gin_feat.T, c='grey', alpha=.3, lw=1);\n",
    "plt.plot(fidelity_gin_feat.mean(axis=0), c='r', lw=2);"
   ],
   "outputs": []
  },
  {
   "cell_type": "code",
   "execution_count": null,
   "id": "133cedbd-5d55-4289-a0db-c05ae8c7fe60",
   "metadata": {},
   "source": [
    "feat_deletions = load_curves(graph_model, model_name, 'random', 'feature_deletion', 79, target=1)\n",
    "gin_feat_scores_rnd = [fidelity_sparsity(d) for d in feat_deletions]\n",
    "\n",
    "fidelity_gin_feat_rnd = np.array(gin_feat_scores_rnd)"
   ],
   "outputs": []
  },
  {
   "cell_type": "code",
   "execution_count": null,
   "id": "a626bc4e-ad32-4042-a964-12b2dfdcf3a2",
   "metadata": {},
   "source": [
    "plt.plot(fidelity_gin_feat_rnd.T, c='grey', alpha=.3, lw=1);\n",
    "plt.plot(fidelity_gin_feat_rnd.mean(axis=0), c='r', lw=2);"
   ],
   "outputs": []
  },
  {
   "cell_type": "markdown",
   "id": "5cc91446-a251-46f4-9963-0a7d4c0c8707",
   "metadata": {},
   "source": [
    "# Plots"
   ]
  },
  {
   "cell_type": "code",
   "execution_count": null,
   "id": "8e1d94d7-2cf4-4f46-b9de-1842056d4921",
   "metadata": {},
   "source": [
    "fig, axs = plt.subplots(1, 2, figsize=(10, 4))\n",
    "axs[0].plot(fidelity_vgae_edge_rnd.mean(axis=0), lw=2);\n",
    "axs[0].plot(fidelity_vgae_edge.mean(axis=0), lw=2);\n",
    "axs[1].plot(fidelity_vgae_feat_rnd.mean(axis=0), lw=2);\n",
    "axs[1].plot(fidelity_vgae_feat.mean(axis=0), lw=2);"
   ],
   "outputs": []
  },
  {
   "cell_type": "code",
   "execution_count": null,
   "id": "b12b776d-e094-44a5-8bcb-680f4e0f4a62",
   "metadata": {},
   "source": [
    "fig, axs = plt.subplots(1, 2, figsize=(10, 4))\n",
    "axs[0].plot(fidelity_gin_edge_rnd.mean(axis=0), lw=2);\n",
    "axs[0].plot(fidelity_gin_edge.mean(axis=0), lw=2);\n",
    "axs[1].plot(fidelity_gin_feat_rnd.mean(axis=0), lw=2);\n",
    "axs[1].plot(fidelity_gin_feat.mean(axis=0), lw=2);"
   ],
   "outputs": []
  },
  {
   "cell_type": "code",
   "execution_count": null,
   "id": "09599fa7-d87e-4837-bd5c-1435d715cdd6",
   "metadata": {},
   "source": [
    "fig, axs = plt.subplots(1, 2, figsize=(10, 4))\n",
    "axs[0].plot(fidelity_vgae_edge.mean(axis=0), lw=2);\n",
    "axs[0].plot(fidelity_gin_edge.mean(axis=0), lw=2);\n",
    "axs[1].plot(fidelity_vgae_feat.mean(axis=0), lw=2);\n",
    "axs[1].plot(fidelity_gin_feat.mean(axis=0), lw=2);"
   ],
   "outputs": []
  },
  {
   "cell_type": "code",
   "execution_count": null,
   "id": "49c23079-7b01-480d-91c9-8a362e188a16",
   "metadata": {},
   "source": [
    "fidelity_vgae_edge_df = pd.DataFrame([normalize_bounds(v) for v in fidelity_vgae_edge]).T\n",
    "fidelity_vgae_feat_df = pd.DataFrame([normalize_bounds(v) for v in fidelity_vgae_feat]).T\n",
    "fidelity_gin_edge_df = pd.DataFrame([normalize_bounds(v) for v in fidelity_gin_edge]).T\n",
    "fidelity_gin_feat_df = pd.DataFrame([normalize_bounds(v) for v in fidelity_gin_feat]).T"
   ],
   "outputs": []
  },
  {
   "cell_type": "code",
   "execution_count": null,
   "id": "53891fbb-a720-4300-ab7e-2b6f0b4f7655",
   "metadata": {},
   "source": [
    "fidelity_gin_edge_df.median(axis=1).plot(marker='.', legend=False)\n",
    "fidelity_vgae_edge_df.median(axis=1).plot(marker='.', legend=False)"
   ],
   "outputs": []
  },
  {
   "cell_type": "code",
   "execution_count": null,
   "id": "55bc79f0-6592-42ce-997e-96577326e382",
   "metadata": {},
   "source": [
    "concat = []\n",
    "for i in range(fidelity_vgae_edge_df.shape[1]):\n",
    "    tmp = fidelity_vgae_edge_df[i].to_frame().reset_index()\n",
    "    tmp.columns = [ 'sparsity', 'fidelity']\n",
    "    concat.append(tmp)\n",
    "\n",
    "fidelity_vgae_edge_df = pd.concat(concat, axis=0)"
   ],
   "outputs": []
  },
  {
   "cell_type": "code",
   "execution_count": null,
   "id": "28aff442-e712-4cee-b9c6-74205645439e",
   "metadata": {},
   "source": [
    "concat = []\n",
    "for i in range(fidelity_vgae_feat_df.shape[1]):\n",
    "    tmp = fidelity_vgae_feat_df[i].to_frame().reset_index()\n",
    "    tmp.columns = [ 'sparsity', 'fidelity']\n",
    "    concat.append(tmp)\n",
    "\n",
    "fidelity_vgae_feat_df = pd.concat(concat, axis=0)"
   ],
   "outputs": []
  },
  {
   "cell_type": "code",
   "execution_count": null,
   "id": "3b28bc41-91d0-4a7c-89a2-4ab7e9b2d630",
   "metadata": {},
   "source": [
    "concat = []\n",
    "for i in range(fidelity_gin_edge_df.shape[1]):\n",
    "    tmp = fidelity_gin_edge_df[i].to_frame().reset_index()\n",
    "    tmp.columns = [ 'sparsity', 'fidelity']\n",
    "    concat.append(tmp)\n",
    "\n",
    "fidelity_gin_edge_df = pd.concat(concat, axis=0)"
   ],
   "outputs": []
  },
  {
   "cell_type": "code",
   "execution_count": null,
   "id": "87523b09-e439-4b49-b0f2-071965747c02",
   "metadata": {},
   "source": [
    "concat = []\n",
    "for i in range(fidelity_gin_feat_df.shape[1]):\n",
    "    tmp = fidelity_gin_feat_df[i].to_frame().reset_index()\n",
    "    tmp.columns = [ 'sparsity', 'fidelity']\n",
    "    concat.append(tmp)\n",
    "\n",
    "fidelity_gin_feat_df = pd.concat(concat, axis=0)"
   ],
   "outputs": []
  },
  {
   "cell_type": "code",
   "execution_count": null,
   "id": "a9aeb67b-330f-46ed-a341-6e1437d59346",
   "metadata": {},
   "source": [
    "fig, ax = plt.subplots(figsize=(6, 4))\n",
    "sb.lineplot(data=fidelity_vgae_edge_df, x='sparsity', y='fidelity', estimator='median', legend=True, err_kws={'alpha':0.1})\n",
    "sb.lineplot(data=fidelity_gin_edge_df, x='sparsity', y='fidelity', estimator='median', legend=True, err_kws={'alpha':0.1})\n",
    "ax.set_ylim([.5, 1])\n",
    "ax.set_yticks([.5, .75, 1.])\n",
    "# ax.set_xticklabels([str(t/max_sparsity) for t in ax.get_xticks()])\n",
    "ax.set_xlabel('Sparsity (# edges removed)')\n",
    "ax.set_ylabel('Fidelity')\n",
    "ax.legend(['VGAE', 'GIN'])\n",
    "sb.despine()\n",
    "plt.tight_layout()\n",
    "plt.savefig(f'../paper/figs/cora_fidelity_score_edges_{explainer}.png')"
   ],
   "outputs": []
  },
  {
   "cell_type": "code",
   "execution_count": null,
   "id": "223e6325-1dc4-431d-8575-b02db2778fb2",
   "metadata": {},
   "source": [
    "fig, ax = plt.subplots(figsize=(6, 4))\n",
    "sb.lineplot(data=fidelity_vgae_feat_df, x='sparsity', y='fidelity', estimator='median', legend=True, err_kws={'alpha':0.1})\n",
    "sb.lineplot(data=fidelity_gin_feat_df, x='sparsity', y='fidelity', estimator='median', legend=True, err_kws={'alpha':0.1})\n",
    "ax.set_ylim([.5, 1])\n",
    "ax.set_yticks([.5, .75, 1.])\n",
    "# ax.set_xticklabels([str(t/max_sparsity) for t in ax.get_xticks()])\n",
    "ax.set_xlabel('Sparsity (# features removed)')\n",
    "ax.set_ylabel('Fidelity')\n",
    "ax.legend(['VGAE', 'GIN'])\n",
    "sb.despine()\n",
    "plt.tight_layout()\n",
    "plt.savefig(f'../paper/figs/cora_fidelity_score_features_{explainer}.png')"
   ],
   "outputs": []
  },
  {
   "cell_type": "code",
   "execution_count": null,
   "id": "cc59c61b-4231-4ec9-bfe1-b3f10cc96b07",
   "metadata": {},
   "source": [],
   "outputs": []
  }
 ],
 "metadata": {
  "kernelspec": {
   "display_name": "linkpred_wc",
   "language": "python",
   "name": "linkpred_wc"
  },
  "language_info": {
   "codemirror_mode": {
    "name": "ipython",
    "version": 3
   },
   "file_extension": ".py",
   "mimetype": "text/x-python",
   "name": "python",
   "nbconvert_exporter": "python",
   "pygments_lexer": "ipython3",
   "version": "3.10.6"
  }
 },
 "nbformat": 4,
 "nbformat_minor": 5
}
