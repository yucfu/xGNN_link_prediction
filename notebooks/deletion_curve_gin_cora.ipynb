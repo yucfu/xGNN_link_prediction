{
 "cells": [
  {
   "cell_type": "code",
   "execution_count": 1,
   "id": "db84ccfd-02ca-416c-808c-a4e6e08f41b7",
   "metadata": {},
   "source": [
    "import sys\n",
    "sys.path.append('../src/')"
   ],
   "outputs": []
  },
  {
   "cell_type": "code",
   "execution_count": 2,
   "id": "955018c5-7640-4300-879d-78f85d0edb60",
   "metadata": {},
   "source": [
    "import os.path as osp\n",
    "\n",
    "import torch\n",
    "import torch.nn.functional as F\n",
    "from sklearn.metrics import roc_auc_score\n",
    "\n",
    "import torch_geometric.transforms as T\n",
    "from torch_geometric.datasets import Planetoid\n",
    "\n",
    "from torch_geometric import seed_everything\n",
    "\n",
    "import numpy as np\n",
    "import pandas as pd\n",
    "\n",
    "import networkx as nx\n",
    "from torch_geometric.utils.convert import from_networkx\n",
    "\n",
    "from tqdm import tqdm\n",
    "\n",
    "from utils import ws_confusion_matrix, sbm_confusion_matrix, sensitivity_specificity, get_computation_graph_as_nx\n",
    "from utils import ws_graph_model, sbm_graph_model, deletion_curve_edges, deletion_curve_edges_random\n",
    "from explainers import gnnexplainer, ig, deconvolution, backprop\n",
    "from gin import LinkGIN\n",
    "from gcn import LinkGCN"
   ],
   "outputs": []
  },
  {
   "cell_type": "code",
   "execution_count": 3,
   "id": "a1b0c3c4-82d6-4411-9ddd-451d0e5b39a7",
   "metadata": {},
   "source": [
    "from matplotlib import pyplot as plt"
   ],
   "outputs": []
  },
  {
   "cell_type": "code",
   "execution_count": 4,
   "id": "c0868c5a-0a71-4d1f-8413-cf650fae528d",
   "metadata": {},
   "source": [
    "from utils import area_score, deletion_curve_features, deletion_curve_features_random, normalize_bounds"
   ],
   "outputs": []
  },
  {
   "cell_type": "code",
   "execution_count": 5,
   "id": "7fc48693-ce58-4033-afab-8f2bbf921454",
   "metadata": {},
   "source": [
    "def train():\n",
    "    model.train()\n",
    "    optimizer.zero_grad()\n",
    "\n",
    "    out = model(train_data.x, train_data.edge_index,\n",
    "                train_data.edge_label_index)\n",
    "    loss = F.binary_cross_entropy_with_logits(out, train_data.edge_label)\n",
    "    loss.backward()\n",
    "    optimizer.step()\n",
    "    return float(loss)\n",
    "\n",
    "\n",
    "@torch.no_grad()\n",
    "def test(data):\n",
    "    model.eval()\n",
    "    out = model(data.x, data.edge_index, data.edge_label_index).sigmoid()\n",
    "    return roc_auc_score(data.edge_label.cpu().numpy(), out.cpu().numpy())"
   ],
   "outputs": []
  },
  {
   "cell_type": "code",
   "execution_count": 8,
   "id": "e2e13d7e-00de-4be1-855c-2a86f8d232b9",
   "metadata": {},
   "source": [
    "device = torch.device('cuda' if torch.cuda.is_available() else 'cpu')\n",
    "\n",
    "graph_model = 'cora'\n",
    "model_name = 'gin'\n",
    "explainer = 'ig'\n",
    "decoder = 'inner'\n",
    "\n",
    "seed = 0\n",
    "\n",
    "print(seed)    \n",
    "seed_everything(seed)\n",
    "\n",
    "transform = T.Compose([\n",
    "    T.NormalizeFeatures(),\n",
    "    T.ToDevice(device),\n",
    "    T.RandomLinkSplit(num_val=0.05, num_test=0.1, is_undirected=True),\n",
    "])\n",
    "\n",
    "dataset = 'Cora'\n",
    "path = osp.join('../', 'data', 'Planetoid')\n",
    "dataset = Planetoid(path, dataset, transform=transform)\n",
    "train_data, val_data, test_data = dataset[0]\n",
    "\n",
    "seed_everything(seed)\n",
    "model = LinkGIN(train_data.num_features, 128, 64, sim=decoder).to(device)\n",
    "# model = LinkGCN(train_data.num_features, 128, 64, sim=decoder).to(device)\n",
    "\n",
    "optimizer = torch.optim.Adam(params=model.parameters(), lr=0.001)\n",
    "\n",
    "seed_everything(0)\n",
    "for epoch in range(1, 61):\n",
    "    loss = train()\n",
    "    if epoch % 20 == 0:\n",
    "        val_auc = test(val_data)\n",
    "        test_auc = test(test_data)\n",
    "        print(f'Epoch: {epoch:02d}, Loss: {loss:.4f}, Val: {val_auc:.4f}, '\n",
    "            f'Test: {test_auc:.4f}')"
   ],
   "outputs": []
  },
  {
   "cell_type": "code",
   "execution_count": 9,
   "id": "1ad2979d-7bee-4543-8016-b50b5a3aeabd",
   "metadata": {},
   "source": [
    "if explainer == 'gnnexplainer':\n",
    "    binary_threshold = 0.5\n",
    "if explainer == 'ig':\n",
    "    binary_threshold = 0.15\n",
    "if explainer == 'deconvolution':\n",
    "    binary_threshold = 0.5\n",
    "if explainer == 'backprop':\n",
    "    binary_threshold = 0.05\n",
    "\n",
    "print(binary_threshold)\n",
    "tpr_tnr_results = []\n",
    "i = 0\n",
    "edge_label_index = val_data.edge_label_index[:, [i]]\n",
    "source_node, target_node = edge_label_index.numpy()[:, 0]\n",
    "\n",
    "target = val_data.edge_label[i].item()\n",
    "pred = model(train_data.x, train_data.edge_index, edge_label_index).sigmoid().item()\n",
    "print(source_node, target_node, pred, target)"
   ],
   "outputs": []
  },
  {
   "cell_type": "code",
   "execution_count": 10,
   "id": "8c86ff53-b1af-4da0-8485-f10fac386b74",
   "metadata": {},
   "source": [
    "if explainer == 'gnnexplainer':\n",
    "    explanation = gnnexplainer(model, train_data.x, train_data.edge_index, edge_label_index, return_type='raw')\n",
    "if explainer == 'ig':\n",
    "    explanation = ig(\n",
    "        model,\n",
    "        source_node, \n",
    "        target_node,\n",
    "        train_data.x, \n",
    "        train_data.edge_index, \n",
    "        edge_label_index\n",
    "    )\n",
    "if explainer == 'deconvolution':\n",
    "    explanation = deconvolution(\n",
    "        model,\n",
    "        source_node, \n",
    "        target_node,\n",
    "        train_data.x, \n",
    "        train_data.edge_index, \n",
    "        edge_label_index\n",
    "    )\n",
    "if explainer == 'backprop':\n",
    "    explanation = backprop(\n",
    "        model,\n",
    "        source_node, \n",
    "        target_node,\n",
    "        train_data.x, \n",
    "        train_data.edge_index, \n",
    "        edge_label_index\n",
    "    )\n",
    "\n",
    "edge_mask = explanation['edge_mask'].numpy()\n",
    "node_mask = explanation['node_mask'].numpy()"
   ],
   "outputs": []
  },
  {
   "cell_type": "code",
   "execution_count": 11,
   "id": "4da5d44b-a20e-483d-912a-7aa6ea877ad7",
   "metadata": {},
   "source": [
    "from torch_geometric.utils import k_hop_subgraph"
   ],
   "outputs": []
  },
  {
   "cell_type": "code",
   "execution_count": 12,
   "id": "9c15276b-5eff-4967-b492-fd97f1468ed8",
   "metadata": {},
   "source": [
    "subset, sub_edge_index, sub_mapping, sub_edge_mask = k_hop_subgraph(\n",
    "    [source_node, target_node], \n",
    "    2, \n",
    "    train_data.edge_index)"
   ],
   "outputs": []
  },
  {
   "cell_type": "code",
   "execution_count": 13,
   "id": "dc4a618e-1822-4918-bfca-e335dafe7db4",
   "metadata": {},
   "source": [
    "deletion_curve = deletion_curve_edges(\n",
    "    model,\n",
    "    train_data.x,\n",
    "    sub_edge_index,\n",
    "    edge_label_index,\n",
    "    edge_mask[sub_edge_mask]\n",
    ")"
   ],
   "outputs": []
  },
  {
   "cell_type": "code",
   "execution_count": 14,
   "id": "1fad0264-6131-41d3-9eb9-f488dfe71cf8",
   "metadata": {},
   "source": [
    "rnd_deletion_curves = deletion_curve_edges_random(\n",
    "    model,\n",
    "    train_data.x,\n",
    "    sub_edge_index,\n",
    "    edge_label_index,\n",
    "    edge_mask[sub_edge_mask],\n",
    "    trials=500\n",
    ")"
   ],
   "outputs": []
  },
  {
   "cell_type": "code",
   "execution_count": 15,
   "id": "23658c40-a09d-4841-b50c-a21aa7938ce2",
   "metadata": {},
   "source": [
    "rnd_deletion_curves_mean = np.mean(rnd_deletion_curves, axis=0)"
   ],
   "outputs": []
  },
  {
   "cell_type": "code",
   "execution_count": 16,
   "id": "b0e9029d-9a38-48a7-bd2c-f521148eb21b",
   "metadata": {},
   "source": [
    "plt.plot(rnd_deletion_curves_mean, marker='o')\n",
    "plt.plot(deletion_curve, marker='o')"
   ],
   "outputs": []
  },
  {
   "cell_type": "code",
   "execution_count": 17,
   "id": "f56206e3-0669-4a94-ab62-3c3873f1348a",
   "metadata": {},
   "source": [
    "area_score(deletion_curve, rnd_deletion_curves_mean, norm=False)"
   ],
   "outputs": []
  },
  {
   "cell_type": "code",
   "execution_count": 18,
   "id": "ab23ee0e-d0e7-42a8-a8f9-a2ab22a3ac4b",
   "metadata": {},
   "source": [
    "norm_deletion_curve = normalize_bounds(deletion_curve)\n",
    "norm_rnd_deletion_curves_mean = normalize_bounds(rnd_deletion_curves_mean)"
   ],
   "outputs": []
  },
  {
   "cell_type": "code",
   "execution_count": 19,
   "id": "051278b6-7038-40fa-8372-20fbb3d68be3",
   "metadata": {},
   "source": [
    "plt.plot(norm_rnd_deletion_curves_mean, marker='o')\n",
    "plt.plot(norm_deletion_curve, marker='o')"
   ],
   "outputs": []
  },
  {
   "cell_type": "code",
   "execution_count": 20,
   "id": "ebbaa4be-a796-4f90-9ac5-239bac0ca234",
   "metadata": {},
   "source": [
    "feature_mean_mask = node_mask.mean(axis=0)"
   ],
   "outputs": []
  },
  {
   "cell_type": "code",
   "execution_count": 21,
   "id": "cdeb71a7-608f-4826-8d82-6b80ecb349da",
   "metadata": {},
   "source": [
    "node_mean_mask = node_mask.mean(axis=1)"
   ],
   "outputs": []
  },
  {
   "cell_type": "code",
   "execution_count": 22,
   "id": "08fca7dd-938f-4070-b406-5d07a33d11cd",
   "metadata": {},
   "source": [
    "feature_base_values = train_data.x.mean(dim=0)"
   ],
   "outputs": []
  },
  {
   "cell_type": "code",
   "execution_count": 23,
   "id": "4b4fd09b-67a9-4d0c-ae92-6f34357a5b9e",
   "metadata": {},
   "source": [
    "feature_deletion_curve = deletion_curve_features(\n",
    "    model,\n",
    "    train_data.x,\n",
    "    train_data.edge_index,\n",
    "    edge_label_index,\n",
    "    feature_mean_mask,\n",
    "    feature_base_values\n",
    ")"
   ],
   "outputs": []
  },
  {
   "cell_type": "code",
   "execution_count": 24,
   "id": "b5b0ba83-6418-483c-b831-d7522e74189d",
   "metadata": {
    "tags": []
   },
   "source": [
    "rnd_feature_deletion_curves = deletion_curve_features_random(\n",
    "    model,\n",
    "    train_data.x,\n",
    "    sub_edge_index,\n",
    "    edge_label_index,\n",
    "    feature_mean_mask,\n",
    "    feature_base_values,\n",
    "    trials=100\n",
    ")"
   ],
   "outputs": []
  },
  {
   "cell_type": "code",
   "execution_count": 25,
   "id": "60a2e9da-29b9-486f-b5cb-43c54fab5604",
   "metadata": {},
   "source": [
    "rnd_feature_deletion_curves_mean = np.mean(rnd_feature_deletion_curves, axis=0)"
   ],
   "outputs": []
  },
  {
   "cell_type": "code",
   "execution_count": 26,
   "id": "75a67b32-e2da-4811-8bc2-828ed10ccbed",
   "metadata": {},
   "source": [
    "plt.plot(rnd_feature_deletion_curves_mean, marker='o')\n",
    "plt.plot(feature_deletion_curve, marker='o')"
   ],
   "outputs": []
  },
  {
   "cell_type": "code",
   "execution_count": 27,
   "id": "35a9420b-318c-4f85-8bf4-8c18f913aa7d",
   "metadata": {},
   "source": [
    "area_score(feature_deletion_curve, rnd_feature_deletion_curves_mean, norm=False)"
   ],
   "outputs": []
  },
  {
   "cell_type": "code",
   "execution_count": 28,
   "id": "297a9e00-2a87-42cd-854e-d7d8573f827b",
   "metadata": {},
   "source": [
    "source_node, target_node"
   ],
   "outputs": []
  },
  {
   "cell_type": "code",
   "execution_count": 29,
   "id": "648c9255-b154-4039-8747-dea9b32c716a",
   "metadata": {},
   "source": [
    "np.argsort(feature_mean_mask)[::-1]"
   ],
   "outputs": []
  },
  {
   "cell_type": "code",
   "execution_count": 30,
   "id": "f1906383-b205-48c7-aff3-869e95ede5d7",
   "metadata": {},
   "source": [
    "from plotting import visualize_explanation"
   ],
   "outputs": []
  },
  {
   "cell_type": "code",
   "execution_count": 31,
   "id": "74d5386f-1260-453b-83e6-beda896248c6",
   "metadata": {},
   "source": [
    "computation_graph = get_computation_graph_as_nx(source_node, target_node, train_data)"
   ],
   "outputs": []
  },
  {
   "cell_type": "code",
   "execution_count": 32,
   "id": "32e80929-a87d-4cba-83cc-621b74190e6f",
   "metadata": {},
   "source": [
    "fig = visualize_explanation(computation_graph, train_data.edge_index, edge_mask, source_node, target_node)"
   ],
   "outputs": []
  },
  {
   "cell_type": "code",
   "execution_count": null,
   "id": "d6dcf71a-7fa0-4e16-9edf-e166d7ab97bf",
   "metadata": {},
   "source": [],
   "outputs": []
  }
 ],
 "metadata": {
  "kernelspec": {
   "display_name": "Python 3 (ipykernel)",
   "language": "python",
   "name": "python3"
  },
  "language_info": {
   "codemirror_mode": {
    "name": "ipython",
    "version": 3
   },
   "file_extension": ".py",
   "mimetype": "text/x-python",
   "name": "python",
   "nbconvert_exporter": "python",
   "pygments_lexer": "ipython3",
   "version": "3.10.6"
  }
 },
 "nbformat": 4,
 "nbformat_minor": 5
}
